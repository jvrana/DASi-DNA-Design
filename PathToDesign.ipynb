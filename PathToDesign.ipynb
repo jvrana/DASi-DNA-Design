{
 "cells": [
  {
   "cell_type": "code",
   "execution_count": 1,
   "metadata": {},
   "outputs": [],
   "source": [
    "from shoestring.design import Design\n",
    "\n",
    "import warnings\n",
    "\n",
    "from Bio import BiopythonParserWarning\n",
    "warnings.simplefilter('ignore', BiopythonParserWarning)"
   ]
  },
  {
   "cell_type": "code",
   "execution_count": 2,
   "metadata": {},
   "outputs": [
    {
     "name": "stderr",
     "output_type": "stream",
     "text": [
      "/Users/justinvrana/Documents/GitHub/ShoestringDNA/shoestring/cost/__init__.py:132: RuntimeWarning: divide by zero encountered in true_divide\n",
      "  self.cost_matrix = (m * CostParams.material + t * CostParams.time) * 1.0 / e\n"
     ]
    }
   ],
   "source": [
    "from shoestring.design import Design\n",
    "from pyblast.utils import load_fasta_glob, load_genbank_glob, make_circular, make_linear\n",
    "from shoestring.cost import SpanCost\n",
    "from os.path import join\n",
    "\n",
    "span_cost = SpanCost()\n",
    "\n",
    "\n",
    "here = 'tests'\n",
    "query = '*.gb'\n",
    "paths = {\n",
    "        'primers': join(here, \"data/test_data/primers/primers.fasta\"),\n",
    "        'templates': join(here, \"data/test_data/genbank/templates/*.gb\"),\n",
    "        'queries': join(\n",
    "            'tests', \"data/test_data/genbank/designs/pmodkan-ho-pact1-z4-er-vpr.gb\"\n",
    "        ),\n",
    "    }\n",
    "primers = make_linear(load_fasta_glob(paths[\"primers\"]))\n",
    "templates = load_genbank_glob(paths[\"templates\"])\n",
    "\n",
    "query_path = join(here, 'data/test_data/genbank/designs', query)\n",
    "queries = make_circular(load_genbank_glob(query_path))"
   ]
  },
  {
   "cell_type": "code",
   "execution_count": 14,
   "metadata": {},
   "outputs": [
    {
     "name": "stdout",
     "output_type": "stream",
     "text": [
      "CMD: makeblastdb -dbtype nucl -title c0b0f23a-4ee2-4976-88c1-effd121225d4 -out /var/folders/hl/pff9rjpd5jx73ylds97m2hww0000gn/T/tmp_2cr9rdh/c0b0f23a-4ee2-4976-88c1-effd121225d4 -in /var/folders/hl/pff9rjpd5jx73ylds97m2hww0000gn/T/tmpas18_e5p.fasta\n",
      "CMD: blastn -db /var/folders/hl/pff9rjpd5jx73ylds97m2hww0000gn/T/tmp_2cr9rdh/c0b0f23a-4ee2-4976-88c1-effd121225d4 -out /var/folders/hl/pff9rjpd5jx73ylds97m2hww0000gn/T/tmp_2cr9rdh/tmp7yb_q29a -query /var/folders/hl/pff9rjpd5jx73ylds97m2hww0000gn/T/tmptr9m6mvl.fasta -outfmt \"7 qacc sacc score evalue bitscore length nident gapopen gaps qlen qstart qend slen sstart send sstrand qseq sseq\"\n",
      "CMD: makeblastdb -dbtype nucl -title 3095d643-151d-443c-9742-e73eb082180c -out /var/folders/hl/pff9rjpd5jx73ylds97m2hww0000gn/T/tmpg3tmr_lk/3095d643-151d-443c-9742-e73eb082180c -in /var/folders/hl/pff9rjpd5jx73ylds97m2hww0000gn/T/tmpiiwa0ug6.fasta\n",
      "CMD: blastn -db /var/folders/hl/pff9rjpd5jx73ylds97m2hww0000gn/T/tmpg3tmr_lk/3095d643-151d-443c-9742-e73eb082180c -out /var/folders/hl/pff9rjpd5jx73ylds97m2hww0000gn/T/tmpg3tmr_lk/tmp7qgscmqf -query /var/folders/hl/pff9rjpd5jx73ylds97m2hww0000gn/T/tmp8dtgokr3.fasta -outfmt \"7 qacc sacc score evalue bitscore length nident gapopen gaps qlen qstart qend slen sstart send sstrand qseq sseq\" -task blastn-short\n",
      "CMD: makeblastdb -dbtype nucl -title b0111efb-f4f5-4a60-8141-b72c7e7493d3 -out /var/folders/hl/pff9rjpd5jx73ylds97m2hww0000gn/T/tmpu4kwjyo5/b0111efb-f4f5-4a60-8141-b72c7e7493d3 -in /var/folders/hl/pff9rjpd5jx73ylds97m2hww0000gn/T/tmpevupd0ni.fasta\n",
      "CMD: blastn -db /var/folders/hl/pff9rjpd5jx73ylds97m2hww0000gn/T/tmpu4kwjyo5/b0111efb-f4f5-4a60-8141-b72c7e7493d3 -out /var/folders/hl/pff9rjpd5jx73ylds97m2hww0000gn/T/tmpu4kwjyo5/tmpetmacf89 -query /var/folders/hl/pff9rjpd5jx73ylds97m2hww0000gn/T/tmp6v6vr5nq.fasta -outfmt \"7 qacc sacc score evalue bitscore length nident gapopen gaps qlen qstart qend slen sstart send sstrand qseq sseq\"\n"
     ]
    },
    {
     "name": "stderr",
     "output_type": "stream",
     "text": [
      "/Users/justinvrana/anaconda/lib/python3.7/site-packages/pyblast/blast/blast.py:605: UserWarning: A circular query ec735f3e-b1dc-4887-ab61-e1f5c9b192cf overlapped the origins\n",
      "  x, origin_key\n",
      "/Users/justinvrana/anaconda/lib/python3.7/site-packages/pyblast/blast/blast.py:605: UserWarning: A circular subject ec735f3e-b1dc-4887-ab61-e1f5c9b192cf overlapped the origins\n",
      "  x, origin_key\n",
      "/Users/justinvrana/anaconda/lib/python3.7/site-packages/pyblast/blast/blast.py:605: UserWarning: A circular query 74492ed5-2463-4f1a-8176-b6869817b8cc overlapped the origins\n",
      "  x, origin_key\n",
      "/Users/justinvrana/anaconda/lib/python3.7/site-packages/pyblast/blast/blast.py:605: UserWarning: A circular subject 74492ed5-2463-4f1a-8176-b6869817b8cc overlapped the origins\n",
      "  x, origin_key\n",
      "/Users/justinvrana/anaconda/lib/python3.7/site-packages/pyblast/blast/blast.py:605: UserWarning: A circular query 21dfce52-302e-414f-bcc9-0d38d0610ba3 overlapped the origins\n",
      "  x, origin_key\n",
      "/Users/justinvrana/anaconda/lib/python3.7/site-packages/pyblast/blast/blast.py:605: UserWarning: A circular subject 21dfce52-302e-414f-bcc9-0d38d0610ba3 overlapped the origins\n",
      "  x, origin_key\n"
     ]
    },
    {
     "data": {
      "text/plain": [
       "{(578, 654, '74492ed5-2463-4f1a-8176-b6869817b8cc'),\n",
       " (735, 811, '74492ed5-2463-4f1a-8176-b6869817b8cc'),\n",
       " (859, 1041, '74492ed5-2463-4f1a-8176-b6869817b8cc'),\n",
       " (2297, 3506, 'ec735f3e-b1dc-4887-ab61-e1f5c9b192cf'),\n",
       " (3539, 4748, 'ec735f3e-b1dc-4887-ab61-e1f5c9b192cf'),\n",
       " (4515, 4697, '74492ed5-2463-4f1a-8176-b6869817b8cc'),\n",
       " (7386, 8042, '74492ed5-2463-4f1a-8176-b6869817b8cc'),\n",
       " (8112, 8768, '74492ed5-2463-4f1a-8176-b6869817b8cc')}"
      ]
     },
     "execution_count": 14,
     "metadata": {},
     "output_type": "execute_result"
    }
   ],
   "source": [
    "from shoestring.design import LibraryDesign\n",
    "\n",
    "design = LibraryDesign(span_cost=span_cost)\n",
    "\n",
    "design.add_materials(primers=primers, templates=templates, queries=queries)\n",
    "\n",
    "design.compile()\n",
    "\n",
    "design._edges\n",
    "\n",
    "\n",
    "# import networkx as nx\n",
    "\n",
    "\n",
    "# for g in design.graphs.values():\n",
    "#     nodelist = list(g.nodes())\n",
    "#     nx.floyd_warshall_numpy(g, nodelist=nodelist, weight='weight')"
   ]
  },
  {
   "cell_type": "code",
   "execution_count": 30,
   "metadata": {},
   "outputs": [
    {
     "name": "stdout",
     "output_type": "stream",
     "text": [
      "57a196eb-c1f1-48f3-b814-1ca23db8e456 57a196eb-c1f1-48f3-b814-1ca23db8e456\n",
      "57a196eb-c1f1-48f3-b814-1ca23db8e456 57a196eb-c1f1-48f3-b814-1ca23db8e456\n",
      "40af345f-e119-4170-8f38-c5e1466bc385 40af345f-e119-4170-8f38-c5e1466bc385\n",
      "40af345f-e119-4170-8f38-c5e1466bc385 40af345f-e119-4170-8f38-c5e1466bc385\n",
      "40af345f-e119-4170-8f38-c5e1466bc385 40af345f-e119-4170-8f38-c5e1466bc385\n",
      "40af345f-e119-4170-8f38-c5e1466bc385 40af345f-e119-4170-8f38-c5e1466bc385\n",
      "40af345f-e119-4170-8f38-c5e1466bc385 40af345f-e119-4170-8f38-c5e1466bc385\n",
      "40af345f-e119-4170-8f38-c5e1466bc385 40af345f-e119-4170-8f38-c5e1466bc385\n"
     ]
    }
   ],
   "source": [
    "from itertools import product\n",
    "\n",
    "def find(a, b, alignments):\n",
    "    for align in alignments:\n",
    "        if a == align.query_region.a and b == align.query_region.b:\n",
    "            yield align\n",
    "\n",
    "G = nx.MultiGraph()\n",
    "\n",
    "for r in design.shared_alignments:\n",
    "    qk = r['query']['origin_key']\n",
    "    sk = r['subject']['origin_key']\n",
    "    print(qk, sk)"
   ]
  },
  {
   "cell_type": "code",
   "execution_count": 10,
   "metadata": {},
   "outputs": [],
   "source": [
    "for i in range(200):\n",
    "    for g in design.graphs.values():\n",
    "        nodelist = list(g.nodes())\n",
    "        nx.floyd_warshall_numpy(g, nodelist=nodelist, weight='weight')"
   ]
  },
  {
   "cell_type": "code",
   "execution_count": 12,
   "metadata": {},
   "outputs": [
    {
     "name": "stdout",
     "output_type": "stream",
     "text": [
      "CMD: makeblastdb -dbtype nucl -title 3d8bacc7-bade-4027-b482-d960228270db -out /var/folders/hl/pff9rjpd5jx73ylds97m2hww0000gn/T/tmpxs_z4hlp/3d8bacc7-bade-4027-b482-d960228270db -in /var/folders/hl/pff9rjpd5jx73ylds97m2hww0000gn/T/tmpxeb9j68w.fasta\n",
      "CMD: blastn -db /var/folders/hl/pff9rjpd5jx73ylds97m2hww0000gn/T/tmpxs_z4hlp/3d8bacc7-bade-4027-b482-d960228270db -out /var/folders/hl/pff9rjpd5jx73ylds97m2hww0000gn/T/tmpxs_z4hlp/tmpigw0bmmw -query /var/folders/hl/pff9rjpd5jx73ylds97m2hww0000gn/T/tmpql37_lej.fasta -outfmt \"7 qacc sacc score evalue bitscore length nident gapopen gaps qlen qstart qend slen sstart send sstrand qseq sseq\"\n",
      "CMD: makeblastdb -dbtype nucl -title 084292af-5ab1-4f8f-8738-c79e4c8a1fac -out /var/folders/hl/pff9rjpd5jx73ylds97m2hww0000gn/T/tmpzicbbq87/084292af-5ab1-4f8f-8738-c79e4c8a1fac -in /var/folders/hl/pff9rjpd5jx73ylds97m2hww0000gn/T/tmptupf1p9o.fasta\n",
      "CMD: blastn -db /var/folders/hl/pff9rjpd5jx73ylds97m2hww0000gn/T/tmpzicbbq87/084292af-5ab1-4f8f-8738-c79e4c8a1fac -out /var/folders/hl/pff9rjpd5jx73ylds97m2hww0000gn/T/tmpzicbbq87/tmpg4iwidw0 -query /var/folders/hl/pff9rjpd5jx73ylds97m2hww0000gn/T/tmpzqapt6jq.fasta -outfmt \"7 qacc sacc score evalue bitscore length nident gapopen gaps qlen qstart qend slen sstart send sstrand qseq sseq\" -task blastn-short\n"
     ]
    },
    {
     "ename": "AttributeError",
     "evalue": "'Design' object has no attribute '_edges'",
     "output_type": "error",
     "traceback": [
      "\u001b[0;31m---------------------------------------------------------------------------\u001b[0m",
      "\u001b[0;31mAttributeError\u001b[0m                            Traceback (most recent call last)",
      "\u001b[0;32m<ipython-input-12-4362d350e210>\u001b[0m in \u001b[0;36m<module>\u001b[0;34m\u001b[0m\n\u001b[1;32m      4\u001b[0m \u001b[0;34m\u001b[0m\u001b[0m\n\u001b[1;32m      5\u001b[0m \u001b[0mdesign\u001b[0m\u001b[0;34m.\u001b[0m\u001b[0mcompile\u001b[0m\u001b[0;34m(\u001b[0m\u001b[0;34m)\u001b[0m\u001b[0;34m\u001b[0m\u001b[0;34m\u001b[0m\u001b[0m\n\u001b[0;32m----> 6\u001b[0;31m \u001b[0mdesign\u001b[0m\u001b[0;34m.\u001b[0m\u001b[0m_edges\u001b[0m\u001b[0;34m\u001b[0m\u001b[0;34m\u001b[0m\u001b[0m\n\u001b[0m",
      "\u001b[0;31mAttributeError\u001b[0m: 'Design' object has no attribute '_edges'"
     ]
    }
   ],
   "source": [
    "design = Design(span_cost=span_cost)\n",
    "\n",
    "design.add_materials(primers=primers, templates=templates, queries=queries)\n",
    "\n",
    "design.compile()\n",
    "design._edges"
   ]
  },
  {
   "cell_type": "code",
   "execution_count": null,
   "metadata": {},
   "outputs": [],
   "source": []
  }
 ],
 "metadata": {
  "kernelspec": {
   "display_name": "Python 3",
   "language": "python",
   "name": "python3"
  },
  "language_info": {
   "codemirror_mode": {
    "name": "ipython",
    "version": 3
   },
   "file_extension": ".py",
   "mimetype": "text/x-python",
   "name": "python",
   "nbconvert_exporter": "python",
   "pygments_lexer": "ipython3",
   "version": "3.7.2"
  }
 },
 "nbformat": 4,
 "nbformat_minor": 2
}
