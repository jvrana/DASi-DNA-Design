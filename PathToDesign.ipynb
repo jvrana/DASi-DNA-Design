{
 "cells": [
  {
   "cell_type": "code",
   "execution_count": 1,
   "metadata": {},
   "outputs": [],
   "source": [
    "from shoestring.design import Design\n",
    "\n",
    "import warnings\n",
    "\n",
    "from Bio import BiopythonParserWarning\n",
    "warnings.simplefilter('ignore', BiopythonParserWarning)"
   ]
  },
  {
   "cell_type": "code",
   "execution_count": 2,
   "metadata": {},
   "outputs": [
    {
     "name": "stderr",
     "output_type": "stream",
     "text": [
      "/Users/justinvrana/Documents/GitHub/shoestringDNA/shoestring/cost/__init__.py:132: RuntimeWarning: divide by zero encountered in true_divide\n",
      "  self.cost_matrix = (m * CostParams.material + t * CostParams.time) * 1.0 / e\n"
     ]
    }
   ],
   "source": [
    "from shoestring.design import Design\n",
    "from pyblast.utils import load_fasta_glob, load_genbank_glob, make_circular, make_linear\n",
    "from shoestring.cost import SpanCost\n",
    "from os.path import join\n",
    "\n",
    "span_cost = SpanCost()\n",
    "\n",
    "\n",
    "here = 'tests'\n",
    "query = '*.gb'\n",
    "paths = {\n",
    "        'primers': join(here, \"data/test_data/primers/primers.fasta\"),\n",
    "        'templates': join(here, \"data/test_data/genbank/templates/*.gb\"),\n",
    "        'queries': join(\n",
    "            'tests', \"data/test_data/genbank/designs/*.gb\"\n",
    "        ),\n",
    "    }\n",
    "primers = make_linear(load_fasta_glob(paths[\"primers\"]))\n",
    "templates = load_genbank_glob(paths[\"templates\"])\n",
    "\n",
    "query_path = join(here, 'data/test_data/genbank/designs', query)\n",
    "queries = make_circular(load_genbank_glob(query_path))"
   ]
  },
  {
   "cell_type": "code",
   "execution_count": 3,
   "metadata": {},
   "outputs": [
    {
     "name": "stdout",
     "output_type": "stream",
     "text": [
      "Found previous installation at \"/Users/justinvrana/anaconda3/lib/python3.7/site-packages/pyblast/blast_bin/bin/ncbi-blast-2.9.0+/bin\"\n",
      "CMD: makeblastdb -dbtype nucl -title 12820a79-07d9-4bd6-9c1e-2797b4fa7c2a -out /var/folders/fr/yc9x0z2s39lcj4f9d95wvrpr0000gn/T/tmpo7ogmhu9/12820a79-07d9-4bd6-9c1e-2797b4fa7c2a -in /var/folders/fr/yc9x0z2s39lcj4f9d95wvrpr0000gn/T/tmpmx0mybsl.fasta\n",
      "CMD: blastn -db /var/folders/fr/yc9x0z2s39lcj4f9d95wvrpr0000gn/T/tmpo7ogmhu9/12820a79-07d9-4bd6-9c1e-2797b4fa7c2a -out /var/folders/fr/yc9x0z2s39lcj4f9d95wvrpr0000gn/T/tmpo7ogmhu9/tmpac1djtq8 -query /var/folders/fr/yc9x0z2s39lcj4f9d95wvrpr0000gn/T/tmp1u_2igjh.fasta -outfmt \"7 qacc sacc score evalue bitscore length nident gapopen gaps qlen qstart qend slen sstart send sstrand qseq sseq\"\n",
      "CMD: makeblastdb -dbtype nucl -title 5fc887b4-4588-40cd-a6f0-ed9fee034bb7 -out /var/folders/fr/yc9x0z2s39lcj4f9d95wvrpr0000gn/T/tmpl1mx3o6z/5fc887b4-4588-40cd-a6f0-ed9fee034bb7 -in /var/folders/fr/yc9x0z2s39lcj4f9d95wvrpr0000gn/T/tmpmpnrxgjr.fasta\n",
      "CMD: blastn -db /var/folders/fr/yc9x0z2s39lcj4f9d95wvrpr0000gn/T/tmpl1mx3o6z/5fc887b4-4588-40cd-a6f0-ed9fee034bb7 -out /var/folders/fr/yc9x0z2s39lcj4f9d95wvrpr0000gn/T/tmpl1mx3o6z/tmpicw744yr -query /var/folders/fr/yc9x0z2s39lcj4f9d95wvrpr0000gn/T/tmps0b9094q.fasta -outfmt \"7 qacc sacc score evalue bitscore length nident gapopen gaps qlen qstart qend slen sstart send sstrand qseq sseq\" -task blastn-short\n",
      "CMD: makeblastdb -dbtype nucl -title 8318913b-0f9c-4028-b23b-b6b2b43e5c24 -out /var/folders/fr/yc9x0z2s39lcj4f9d95wvrpr0000gn/T/tmp_62uo5br/8318913b-0f9c-4028-b23b-b6b2b43e5c24 -in /var/folders/fr/yc9x0z2s39lcj4f9d95wvrpr0000gn/T/tmpnm9m7ciy.fasta\n",
      "CMD: blastn -db /var/folders/fr/yc9x0z2s39lcj4f9d95wvrpr0000gn/T/tmp_62uo5br/8318913b-0f9c-4028-b23b-b6b2b43e5c24 -out /var/folders/fr/yc9x0z2s39lcj4f9d95wvrpr0000gn/T/tmp_62uo5br/tmpimfkwipk -query /var/folders/fr/yc9x0z2s39lcj4f9d95wvrpr0000gn/T/tmpa1lkftfc.fasta -outfmt \"7 qacc sacc score evalue bitscore length nident gapopen gaps qlen qstart qend slen sstart send sstrand qseq sseq\"\n"
     ]
    },
    {
     "name": "stderr",
     "output_type": "stream",
     "text": [
      "/Users/justinvrana/anaconda3/lib/python3.7/site-packages/pyblast/blast/blast.py:605: UserWarning: A circular query 8b25c571-a84c-4648-b0e1-516c6b76809e overlapped the origins\n",
      "  x, origin_key\n",
      "/Users/justinvrana/anaconda3/lib/python3.7/site-packages/pyblast/blast/blast.py:605: UserWarning: A circular subject 8b25c571-a84c-4648-b0e1-516c6b76809e overlapped the origins\n",
      "  x, origin_key\n",
      "/Users/justinvrana/anaconda3/lib/python3.7/site-packages/pyblast/blast/blast.py:605: UserWarning: A circular query 6b20ff2d-a314-4e4b-83d0-58d68b485ee2 overlapped the origins\n",
      "  x, origin_key\n",
      "/Users/justinvrana/anaconda3/lib/python3.7/site-packages/pyblast/blast/blast.py:605: UserWarning: A circular subject 6b20ff2d-a314-4e4b-83d0-58d68b485ee2 overlapped the origins\n",
      "  x, origin_key\n",
      "/Users/justinvrana/anaconda3/lib/python3.7/site-packages/pyblast/blast/blast.py:605: UserWarning: A circular query c8765f5f-dc2a-4070-a1b3-0f9031bc2193 overlapped the origins\n",
      "  x, origin_key\n",
      "/Users/justinvrana/anaconda3/lib/python3.7/site-packages/pyblast/blast/blast.py:605: UserWarning: A circular subject c8765f5f-dc2a-4070-a1b3-0f9031bc2193 overlapped the origins\n",
      "  x, origin_key\n",
      "/Users/justinvrana/anaconda3/lib/python3.7/site-packages/pyblast/blast/blast.py:605: UserWarning: A circular query 98d2a4d2-06e6-447e-8333-53b7bf77c892 overlapped the origins\n",
      "  x, origin_key\n",
      "/Users/justinvrana/anaconda3/lib/python3.7/site-packages/pyblast/blast/blast.py:605: UserWarning: A circular subject 98d2a4d2-06e6-447e-8333-53b7bf77c892 overlapped the origins\n",
      "  x, origin_key\n"
     ]
    }
   ],
   "source": [
    "from shoestring.design import LibraryDesign\n",
    "\n",
    "design = LibraryDesign(span_cost=span_cost)\n",
    "\n",
    "design.add_materials(primers=primers, templates=templates, queries=queries)\n",
    "\n",
    "design.compile()\n",
    "\n",
    "edges = design._edges"
   ]
  },
  {
   "cell_type": "code",
   "execution_count": 7,
   "metadata": {},
   "outputs": [
    {
     "name": "stdout",
     "output_type": "stream",
     "text": [
      "[<shoestring.AlignmentGroup object at 0x1a1c412488>, <shoestring.AlignmentGroup object at 0x1a1c412548>, <shoestring.AlignmentGroup object at 0x1a1c412648>, <shoestring.AlignmentGroup object at 0x1a1c412708>, <shoestring.AlignmentGroup object at 0x1a1c412808>, <shoestring.AlignmentGroup object at 0x1a1c4128c8>, <shoestring.AlignmentGroup object at 0x1a1c412908>, <shoestring.AlignmentGroup object at 0x1a1c412948>, <shoestring.AlignmentGroup object at 0x1a1c412988>, <shoestring.AlignmentGroup object at 0x1a1c412888>, <shoestring.AlignmentGroup object at 0x1a1c412a48>]\n",
      "[<shoestring.AlignmentGroup object at 0x1a1c3164c8>, <shoestring.AlignmentGroup object at 0x1a1c316648>, <shoestring.AlignmentGroup object at 0x1a1c316708>, <shoestring.AlignmentGroup object at 0x1a1c316748>, <shoestring.AlignmentGroup object at 0x1a1c3167c8>, <shoestring.AlignmentGroup object at 0x1a1c316888>, <shoestring.AlignmentGroup object at 0x1a1c3168c8>, <shoestring.AlignmentGroup object at 0x1a1c316408>, <shoestring.AlignmentGroup object at 0x1a1c316908>]\n",
      "[<shoestring.AlignmentGroup object at 0x1a1c267408>]\n",
      "[<shoestring.AlignmentGroup object at 0x1a1c41ac88>, <shoestring.AlignmentGroup object at 0x1a1c41acc8>]\n"
     ]
    }
   ],
   "source": [
    "from shoestring import Constants\n",
    "\n",
    "for container in design.container_list():\n",
    "    groups = container.get_groups_by_types(Constants.SHARED_FRAGMENT)\n",
    "    print(groups)"
   ]
  },
  {
   "cell_type": "code",
   "execution_count": null,
   "metadata": {},
   "outputs": [],
   "source": [
    "container.get_groups_by_types"
   ]
  },
  {
   "cell_type": "code",
   "execution_count": 24,
   "metadata": {},
   "outputs": [
    {
     "data": {
      "image/png": "[encoded data removed]",
      "text/plain": [
       "<Figure size 432x288 with 1 Axes>"
      ]
     },
     "metadata": {},
     "output_type": "display_data"
    }
   ],
   "source": [
    "import networkx as nx\n",
    "from itertools import product\n",
    "\n",
    "def find(a, b, alignments):\n",
    "    for align in alignments:\n",
    "        if a == align.query_region.a and b == align.query_region.b:\n",
    "            yield align\n",
    "\n",
    "            \n",
    "G = nx.MultiGraph()\n",
    "\n",
    "repeats = []\n",
    "\n",
    "for r in design.shared_alignments:\n",
    "    qk = r['query']['origin_key']\n",
    "    sk = r['subject']['origin_key']\n",
    "    if qk == sk:\n",
    "        repeats.append((qk, r['query']['start'], r['query']['end']))\n",
    "\n",
    "non_repeat_interactions = {}\n",
    "\n",
    "for r in design.shared_alignments:\n",
    "    qk = r['query']['origin_key']\n",
    "    sk = r['subject']['origin_key']\n",
    "    \n",
    "    if qk != sk:\n",
    "        n1 = (sk, r['subject']['start'], r['subject']['end'])\n",
    "        n2 = (qk, r['query']['start'], r['query']['end'])\n",
    "        if n1 not in repeats and n2 not in repeats:\n",
    "            query = design.container_factory.seqdb[qk]\n",
    "            subject = design.container_factory.seqdb[sk]\n",
    "            \n",
    "            s1, e1 = r['query']['start'], r['query']['end']\n",
    "            s2, e2 = r['subject']['start'], r['subject']['end']\n",
    "            \n",
    "            non_repeat_interactions.setdefault(n1, set()).add(n2)\n",
    "            non_repeat_interactions.setdefault(n2, set()).add(n1)\n",
    "\n",
    "G = nx.Graph()\n",
    "for k, v in non_repeat_interactions.items():\n",
    "    for _v in v:\n",
    "        G.add_edge(k, _v)\n",
    "        \n",
    "%matplotlib inline\n",
    "\n",
    "nx.draw(G)\n",
    "#             print(r['subject']['start'], r['subject']['end'])\n",
    "#             print(query.name, subject.name)"
   ]
  },
  {
   "cell_type": "code",
   "execution_count": 33,
   "metadata": {},
   "outputs": [
    {
     "data": {
      "text/plain": [
       "shoestring.AlignmentContainer"
      ]
     },
     "execution_count": 33,
     "metadata": {},
     "output_type": "execute_result"
    }
   ],
   "source": [
    "from shoestring import AlignmentContainer\n",
    "\n",
    "AlignmentContainer()"
   ]
  },
  {
   "cell_type": "code",
   "execution_count": 6,
   "metadata": {},
   "outputs": [
    {
     "data": {
      "text/plain": [
       "[SeqRecord(seq=Seq('AGTAATAGTGACTATGTTGCTCCTTTTACGCTATGTGGATACGCTGCTTTAATG...TCA', IUPACAmbiguousDNA()), id='pLKO-pEF1a-FRT-tdTomato', name='pLKO-pEF1a-FRT-tdTomato', description='', dbxrefs=[]),\n",
       " SeqRecord(seq=Seq('TCGCGCGTTTCGGTGATGACGGTGAAAACCTCTGACACATGCAGCTCCCGGAGA...GTC', IUPACAmbiguousDNA()), id='pMODKan-HO-pACT1-Z4-', name='pMODKan-HO-pACT1-Z4-', description='', dbxrefs=[]),\n",
       " SeqRecord(seq=Seq('GCCGATACGAAGGTTTTCTCCAGCGAAGGTCGGGCAGGAAGAGGGCCTATTTCC...TGC', IUPACAmbiguousDNA()), id='pINS-01-hU6-SV40.NT1-op', name='pINS-01-hU6-SV40.NT1-op', description='', dbxrefs=[])]"
      ]
     },
     "execution_count": 6,
     "metadata": {},
     "output_type": "execute_result"
    }
   ],
   "source": [
    "queries"
   ]
  },
  {
   "cell_type": "code",
   "execution_count": 10,
   "metadata": {},
   "outputs": [],
   "source": [
    "for i in range(200):\n",
    "    for g in design.graphs.values():\n",
    "        nodelist = list(g.nodes())\n",
    "        nx.floyd_warshall_numpy(g, nodelist=nodelist, weight='weight')"
   ]
  },
  {
   "cell_type": "code",
   "execution_count": 12,
   "metadata": {},
   "outputs": [
    {
     "name": "stdout",
     "output_type": "stream",
     "text": [
      "CMD: makeblastdb -dbtype nucl -title 3d8bacc7-bade-4027-b482-d960228270db -out /var/folders/hl/pff9rjpd5jx73ylds97m2hww0000gn/T/tmpxs_z4hlp/3d8bacc7-bade-4027-b482-d960228270db -in /var/folders/hl/pff9rjpd5jx73ylds97m2hww0000gn/T/tmpxeb9j68w.fasta\n",
      "CMD: blastn -db /var/folders/hl/pff9rjpd5jx73ylds97m2hww0000gn/T/tmpxs_z4hlp/3d8bacc7-bade-4027-b482-d960228270db -out /var/folders/hl/pff9rjpd5jx73ylds97m2hww0000gn/T/tmpxs_z4hlp/tmpigw0bmmw -query /var/folders/hl/pff9rjpd5jx73ylds97m2hww0000gn/T/tmpql37_lej.fasta -outfmt \"7 qacc sacc score evalue bitscore length nident gapopen gaps qlen qstart qend slen sstart send sstrand qseq sseq\"\n",
      "CMD: makeblastdb -dbtype nucl -title 084292af-5ab1-4f8f-8738-c79e4c8a1fac -out /var/folders/hl/pff9rjpd5jx73ylds97m2hww0000gn/T/tmpzicbbq87/084292af-5ab1-4f8f-8738-c79e4c8a1fac -in /var/folders/hl/pff9rjpd5jx73ylds97m2hww0000gn/T/tmptupf1p9o.fasta\n",
      "CMD: blastn -db /var/folders/hl/pff9rjpd5jx73ylds97m2hww0000gn/T/tmpzicbbq87/084292af-5ab1-4f8f-8738-c79e4c8a1fac -out /var/folders/hl/pff9rjpd5jx73ylds97m2hww0000gn/T/tmpzicbbq87/tmpg4iwidw0 -query /var/folders/hl/pff9rjpd5jx73ylds97m2hww0000gn/T/tmpzqapt6jq.fasta -outfmt \"7 qacc sacc score evalue bitscore length nident gapopen gaps qlen qstart qend slen sstart send sstrand qseq sseq\" -task blastn-short\n"
     ]
    },
    {
     "ename": "AttributeError",
     "evalue": "'Design' object has no attribute '_edges'",
     "output_type": "error",
     "traceback": [
      "\u001b[0;31m---------------------------------------------------------------------------\u001b[0m",
      "\u001b[0;31mAttributeError\u001b[0m                            Traceback (most recent call last)",
      "\u001b[0;32m<ipython-input-12-4362d350e210>\u001b[0m in \u001b[0;36m<module>\u001b[0;34m\u001b[0m\n\u001b[1;32m      4\u001b[0m \u001b[0;34m\u001b[0m\u001b[0m\n\u001b[1;32m      5\u001b[0m \u001b[0mdesign\u001b[0m\u001b[0;34m.\u001b[0m\u001b[0mcompile\u001b[0m\u001b[0;34m(\u001b[0m\u001b[0;34m)\u001b[0m\u001b[0;34m\u001b[0m\u001b[0;34m\u001b[0m\u001b[0m\n\u001b[0;32m----> 6\u001b[0;31m \u001b[0mdesign\u001b[0m\u001b[0;34m.\u001b[0m\u001b[0m_edges\u001b[0m\u001b[0;34m\u001b[0m\u001b[0;34m\u001b[0m\u001b[0m\n\u001b[0m",
      "\u001b[0;31mAttributeError\u001b[0m: 'Design' object has no attribute '_edges'"
     ]
    }
   ],
   "source": [
    "design = Design(span_cost=span_cost)\n",
    "\n",
    "design.add_materials(primers=primers, templates=templates, queries=queries)\n",
    "\n",
    "design.compile()\n",
    "design._edges"
   ]
  },
  {
   "cell_type": "code",
   "execution_count": null,
   "metadata": {},
   "outputs": [],
   "source": []
  }
 ],
 "metadata": {
  "kernelspec": {
   "display_name": "Python 3",
   "language": "python",
   "name": "python3"
  },
  "language_info": {
   "codemirror_mode": {
    "name": "ipython",
    "version": 3
   },
   "file_extension": ".py",
   "mimetype": "text/x-python",
   "name": "python",
   "nbconvert_exporter": "python",
   "pygments_lexer": "ipython3",
   "version": "3.7.3"
  }
 },
 "nbformat": 4,
 "nbformat_minor": 2
}
