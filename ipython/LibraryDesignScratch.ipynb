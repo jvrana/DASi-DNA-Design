{
 "cells": [
  {
   "cell_type": "code",
   "execution_count": 3,
   "metadata": {},
   "outputs": [
    {
     "name": "stdout",
     "output_type": "stream",
     "text": [
      "Loading file: ./span_cost.b\n"
     ]
    }
   ],
   "source": [
    "from dasi import LibraryDesign, Design\n",
    "from pyblast.utils import make_linear, make_circular, load_fasta_glob, load_genbank_glob\n",
    "import warnings\n",
    "from Bio import BiopythonParserWarning\n",
    "from matplotlib import MatplotlibDeprecationWarning\n",
    "from dasi.constants import Constants\n",
    "import os\n",
    "from dasi import logger\n",
    "from dasi.cost import SpanCost\n",
    "\n",
    "here = '.'\n",
    "do_load = True\n",
    "do_save = True\n",
    "\n",
    "def get_span_cost():\n",
    "    \"\"\"Saves the span cost as bytes; reloads when called.\"\"\"\n",
    "    path = os.path.join(here, \"span_cost.b\")\n",
    "    if do_load and os.path.isfile(path):\n",
    "        with logger.timeit(\"INFO\", \"loading bytes\"):\n",
    "            print(\"Loading file: {}\".format(path))\n",
    "            span_cost = SpanCost.load(path)\n",
    "    else:\n",
    "        span_cost = SpanCost.open()\n",
    "        if do_save:\n",
    "            with logger.timeit(\"INFO\", \"saving bytes\"):\n",
    "                print(\"Saving file: {}\".format(path))\n",
    "                span_cost.dump(path)\n",
    "    return span_cost\n",
    "\n",
    "span_cost = get_span_cost()\n",
    "\n",
    "warnings.simplefilter(\"ignore\", BiopythonParserWarning)\n",
    "warnings.simplefilter('ignore', MatplotlibDeprecationWarning)\n",
    "\n",
    "templates = make_circular(load_genbank_glob(\"../tests/data/test_data/genbank/templates/*.gb\"))\n",
    "registry = make_circular(load_genbank_glob(\"../tests/data/test_data/genbank/benchling_registry/*.gb\"))\n",
    "primers = make_linear(load_fasta_glob('../tests/data/test_data/primers/primers.fasta'))\n",
    "queries = make_circular(load_genbank_glob('../tests/data/test_data/genbank/designs/*.gb'))\n",
    "\n",
    "assert templates\n",
    "assert registry\n",
    "assert primers\n",
    "assert queries\n",
    "\n",
    "design = LibraryDesign(span_cost)\n",
    "design.n_jobs = 1\n",
    "design.add_templates(registry)\n",
    "design.add_primers(primers)\n",
    "design.add_queries(queries)\n",
    "design.add_fragments([])\n",
    "\n",
    "# regular stuff\n",
    "design._blast()\n",
    "\n",
    "# library stuff\n",
    "design._share_query_blast()\n",
    "\n",
    "# copied_alignments = container.copy_groups(original_shared_fragments, Constants.SYNTHESIZED_FRAGMENT)\n",
    "# container.add_alignments(copied_alignments, lim_size=True)\n",
    "\n",
    "\n",
    "# design._check_shared_repeats()\n",
    "\n",
    "# design.assemble_graphs(n_jobs=n_jobs)\n",
    "# design.post_process_library_graphs()"
   ]
  },
  {
   "cell_type": "code",
   "execution_count": 9,
   "metadata": {},
   "outputs": [
    {
     "data": {
      "text/plain": [
       "{'span': array([1200]),\n",
       " 'cost': array([393.82716049]),\n",
       " 'efficiency': array([0.81]),\n",
       " 'material': array([249.]),\n",
       " 'left_ext': array([nan]),\n",
       " 'right_ext': array([nan]),\n",
       " 'time': array([70.]),\n",
       " 'gene_cost': array([249.]),\n",
       " 'gene_efficiency': array([1.]),\n",
       " 'gene_material': array([249.]),\n",
       " 'gene_size': array([1260.]),\n",
       " 'gene_time': array([70.]),\n",
       " 'lprimer_cost': array([0.]),\n",
       " 'lprimer_efficiency': array([0.9]),\n",
       " 'lprimer_left_ext': array([0.]),\n",
       " 'lprimer_material': array([0.]),\n",
       " 'lprimer_right_ext': array([0.]),\n",
       " 'lprimer_span': array([-30.]),\n",
       " 'lprimer_time': array([0.]),\n",
       " 'lshift': array([-30.]),\n",
       " 'rprimer_cost': array([0.]),\n",
       " 'rprimer_efficiency': array([0.9]),\n",
       " 'rprimer_left_ext': array([0.]),\n",
       " 'rprimer_material': array([0.]),\n",
       " 'rprimer_right_ext': array([0.]),\n",
       " 'rprimer_span': array([-30.]),\n",
       " 'rprimer_time': array([0.])}"
      ]
     },
     "execution_count": 9,
     "metadata": {},
     "output_type": "execute_result"
    }
   ],
   "source": [
    "span_cost(1200, (0, 0)).data"
   ]
  },
  {
   "cell_type": "code",
   "execution_count": 2,
   "metadata": {},
   "outputs": [
    {
     "ename": "AttributeError",
     "evalue": "'tuple' object has no attribute 'eq_hash'",
     "output_type": "error",
     "traceback": [
      "\u001b[0;31m---------------------------------------------------------------------------\u001b[0m",
      "\u001b[0;31mAttributeError\u001b[0m                            Traceback (most recent call last)",
      "\u001b[0;32m<ipython-input-2-936b36009b36>\u001b[0m in \u001b[0;36m<module>\u001b[0;34m\u001b[0m\n\u001b[1;32m     43\u001b[0m     \u001b[0mnew_alignments\u001b[0m \u001b[0;34m+=\u001b[0m \u001b[0mnew\u001b[0m\u001b[0;34m\u001b[0m\u001b[0;34m\u001b[0m\u001b[0m\n\u001b[1;32m     44\u001b[0m \u001b[0;34m\u001b[0m\u001b[0m\n\u001b[0;32m---> 45\u001b[0;31m \u001b[0mdesign\u001b[0m\u001b[0;34m.\u001b[0m\u001b[0mcontainer_factory\u001b[0m\u001b[0;34m.\u001b[0m\u001b[0madd_alignments\u001b[0m\u001b[0;34m(\u001b[0m\u001b[0mnew_alignments\u001b[0m\u001b[0;34m)\u001b[0m\u001b[0;34m\u001b[0m\u001b[0;34m\u001b[0m\u001b[0m\n\u001b[0m",
      "\u001b[0;32m~/anaconda3/lib/python3.7/site-packages/dasi/models/alignment_container.py\u001b[0m in \u001b[0;36madd_alignments\u001b[0;34m(self, alignments)\u001b[0m\n\u001b[1;32m    715\u001b[0m             \u001b[0mhashes\u001b[0m \u001b[0;34m=\u001b[0m \u001b[0;34m[\u001b[0m\u001b[0ma\u001b[0m\u001b[0;34m.\u001b[0m\u001b[0meq_hash\u001b[0m\u001b[0;34m(\u001b[0m\u001b[0;34m)\u001b[0m \u001b[0;32mfor\u001b[0m \u001b[0ma\u001b[0m \u001b[0;32min\u001b[0m \u001b[0mself\u001b[0m\u001b[0;34m.\u001b[0m\u001b[0m_alignments\u001b[0m\u001b[0;34m[\u001b[0m\u001b[0mk\u001b[0m\u001b[0;34m]\u001b[0m\u001b[0;34m]\u001b[0m\u001b[0;34m\u001b[0m\u001b[0;34m\u001b[0m\u001b[0m\n\u001b[1;32m    716\u001b[0m             \u001b[0;32mfor\u001b[0m \u001b[0ma\u001b[0m \u001b[0;32min\u001b[0m \u001b[0mv\u001b[0m\u001b[0;34m:\u001b[0m\u001b[0;34m\u001b[0m\u001b[0;34m\u001b[0m\u001b[0m\n\u001b[0;32m--> 717\u001b[0;31m                 \u001b[0;32mif\u001b[0m \u001b[0ma\u001b[0m \u001b[0;32mnot\u001b[0m \u001b[0;32min\u001b[0m \u001b[0mhashes\u001b[0m\u001b[0;34m:\u001b[0m\u001b[0;34m\u001b[0m\u001b[0;34m\u001b[0m\u001b[0m\n\u001b[0m\u001b[1;32m    718\u001b[0m                     \u001b[0mself\u001b[0m\u001b[0;34m.\u001b[0m\u001b[0m_alignments\u001b[0m\u001b[0;34m[\u001b[0m\u001b[0mk\u001b[0m\u001b[0;34m]\u001b[0m\u001b[0;34m.\u001b[0m\u001b[0mappend\u001b[0m\u001b[0;34m(\u001b[0m\u001b[0ma\u001b[0m\u001b[0;34m)\u001b[0m\u001b[0;34m\u001b[0m\u001b[0;34m\u001b[0m\u001b[0m\n\u001b[1;32m    719\u001b[0m \u001b[0;34m\u001b[0m\u001b[0m\n",
      "\u001b[0;32m~/anaconda3/lib/python3.7/site-packages/dasi/models/alignment.py\u001b[0m in \u001b[0;36m__eq__\u001b[0;34m(self, other)\u001b[0m\n\u001b[1;32m    157\u001b[0m \u001b[0;34m\u001b[0m\u001b[0m\n\u001b[1;32m    158\u001b[0m     \u001b[0;32mdef\u001b[0m \u001b[0m__eq__\u001b[0m\u001b[0;34m(\u001b[0m\u001b[0mself\u001b[0m\u001b[0;34m,\u001b[0m \u001b[0mother\u001b[0m\u001b[0;34m:\u001b[0m \u001b[0;34m\"Alignment\"\u001b[0m\u001b[0;34m)\u001b[0m\u001b[0;34m:\u001b[0m\u001b[0;34m\u001b[0m\u001b[0;34m\u001b[0m\u001b[0m\n\u001b[0;32m--> 159\u001b[0;31m         \u001b[0;32mreturn\u001b[0m \u001b[0mself\u001b[0m\u001b[0;34m.\u001b[0m\u001b[0meq_hash\u001b[0m\u001b[0;34m(\u001b[0m\u001b[0;34m)\u001b[0m \u001b[0;34m==\u001b[0m \u001b[0mother\u001b[0m\u001b[0;34m.\u001b[0m\u001b[0meq_hash\u001b[0m\u001b[0;34m(\u001b[0m\u001b[0;34m)\u001b[0m\u001b[0;34m\u001b[0m\u001b[0;34m\u001b[0m\u001b[0m\n\u001b[0m\u001b[1;32m    160\u001b[0m \u001b[0;34m\u001b[0m\u001b[0m\n\u001b[1;32m    161\u001b[0m     \u001b[0;32mdef\u001b[0m \u001b[0m__repr__\u001b[0m\u001b[0;34m(\u001b[0m\u001b[0mself\u001b[0m\u001b[0;34m)\u001b[0m \u001b[0;34m->\u001b[0m \u001b[0mstr\u001b[0m\u001b[0;34m:\u001b[0m\u001b[0;34m\u001b[0m\u001b[0;34m\u001b[0m\u001b[0m\n",
      "\u001b[0;31mAttributeError\u001b[0m: 'tuple' object has no attribute 'eq_hash'"
     ]
    }
   ],
   "source": [
    "from dasi.models import AlignmentContainer\n",
    "from dasi.utils import sort_with_keys\n",
    "from dasi.utils import Region\n",
    "\n",
    "def overlapping_groups(group_list_a, group_list_b):\n",
    "    \"\"\"Get all groups in group_list_b that right-hand overlap with group_list_a\"\"\"\n",
    "    group_sort, group_keys = sort_with_keys(\n",
    "            group_list_b, key=lambda x: x.query_region.a\n",
    "        )\n",
    "    tuples = []\n",
    "    for group_a in group_list_a:\n",
    "        alignments = []\n",
    "        overlapping = AlignmentContainer.filter_alignments_by_span(\n",
    "                group_sort,\n",
    "                group_a.query_region,\n",
    "                key=lambda p: p.query_region.a,\n",
    "                end_inclusive=False,\n",
    "            )\n",
    "        if group_a in overlapping:\n",
    "            overlapping.remove(group_a)\n",
    "        tuples.append((group_a, overlapping))\n",
    "    return tuples\n",
    "\n",
    "# list of all alignment groups\n",
    "all_groups = []\n",
    "for container in design.container_factory.containers().values():\n",
    "    all_groups += container.get_groups_by_types(Constants.SHARED_FRAGMENT)\n",
    "\n",
    "# alignment_groups grouped by query_key\n",
    "grouped_by_qk = {}\n",
    "for g in all_groups:\n",
    "    grouped_by_qk.setdefault(g.query_key, list())\n",
    "    grouped_by_qk[g.query_key].append(g)\n",
    "\n",
    "# overlapping_by_qk\n",
    "overlapping = []\n",
    "for qk, groups in list(grouped_by_qk.items())[:]:\n",
    "    overlapping += overlapping_groups(groups, groups)\n",
    "\n",
    "new_alignments = []\n",
    "for group_a, group_list in overlapping:\n",
    "    new = container.expand_overlaps(group_list + [group_a], include_left=False, atype=Constants.SHARED_FRAGMENT)\n",
    "    new_alignments += new\n",
    "\n",
    "design.container_factory.add_alignments(new_alignments)"
   ]
  },
  {
   "cell_type": "code",
   "execution_count": 4,
   "metadata": {},
   "outputs": [
    {
     "ename": "IndexError",
     "evalue": "list index out of range",
     "output_type": "error",
     "traceback": [
      "\u001b[0;31m---------------------------------------------------------------------------\u001b[0m",
      "\u001b[0;31mIndexError\u001b[0m                                Traceback (most recent call last)",
      "\u001b[0;32m<ipython-input-4-227c4c9e15a0>\u001b[0m in \u001b[0;36m<module>\u001b[0;34m\u001b[0m\n\u001b[1;32m     38\u001b[0m \u001b[0mgraphs\u001b[0m \u001b[0;34m=\u001b[0m \u001b[0msorted\u001b[0m\u001b[0;34m(\u001b[0m\u001b[0mget_subgraphs\u001b[0m\u001b[0;34m(\u001b[0m\u001b[0minteraction_graph\u001b[0m\u001b[0;34m)\u001b[0m\u001b[0;34m,\u001b[0m \u001b[0mkey\u001b[0m\u001b[0;34m=\u001b[0m\u001b[0;32mlambda\u001b[0m \u001b[0mx\u001b[0m\u001b[0;34m:\u001b[0m \u001b[0mx\u001b[0m\u001b[0;34m.\u001b[0m\u001b[0mnumber_of_nodes\u001b[0m\u001b[0;34m(\u001b[0m\u001b[0;34m)\u001b[0m\u001b[0;34m)\u001b[0m\u001b[0;34m\u001b[0m\u001b[0;34m\u001b[0m\u001b[0m\n\u001b[1;32m     39\u001b[0m \u001b[0;34m\u001b[0m\u001b[0m\n\u001b[0;32m---> 40\u001b[0;31m \u001b[0mgraph\u001b[0m \u001b[0;34m=\u001b[0m \u001b[0mgraphs\u001b[0m\u001b[0;34m[\u001b[0m\u001b[0;34m-\u001b[0m\u001b[0;36m2\u001b[0m\u001b[0;34m]\u001b[0m\u001b[0;34m\u001b[0m\u001b[0;34m\u001b[0m\u001b[0m\n\u001b[0m\u001b[1;32m     41\u001b[0m \u001b[0;34m\u001b[0m\u001b[0m\n\u001b[1;32m     42\u001b[0m \u001b[0;32mdef\u001b[0m \u001b[0mhas_repeats\u001b[0m\u001b[0;34m(\u001b[0m\u001b[0mg\u001b[0m\u001b[0;34m)\u001b[0m\u001b[0;34m:\u001b[0m\u001b[0;34m\u001b[0m\u001b[0;34m\u001b[0m\u001b[0m\n",
      "\u001b[0;31mIndexError\u001b[0m: list index out of range"
     ]
    }
   ],
   "source": [
    "import networkx as nx\n",
    "from copy import deepcopy\n",
    "\n",
    "def to_undirected(graph):\n",
    "    \"\"\".to_undirected is implemented in networkx out of the box, however, it\n",
    "    suffers from occational infinite recursion errors during the deepcopy phase\n",
    "    of the method (unknown as to why).\"\"\"\n",
    "    undirected = nx.Graph()\n",
    "    copied = deepcopy(graph)\n",
    "    for n in copied.nodes:\n",
    "        ndata = copied.nodes[n]\n",
    "        undirected.add_node(n, **ndata)\n",
    "    for n1, n2 in copied.edges:\n",
    "        edata = copied.edges[n1, n2]\n",
    "        undirected.add_edge(n1, n2, **edata)\n",
    "    return undirected\n",
    "\n",
    "def get_subgraphs(graph):\n",
    "    \"\"\"Get independent subgraphs.\"\"\"\n",
    "    node_list = list(graph.nodes)\n",
    "    subgraphs = []\n",
    "    while len(node_list) > 0:\n",
    "        node = node_list[-1]\n",
    "        subgraph = nx.bfs_tree(to_undirected(graph), node)\n",
    "        for n in subgraph.nodes:\n",
    "            node_list.remove(n)\n",
    "        subgraphs.append(graph.subgraph(subgraph.nodes))\n",
    "    return subgraphs\n",
    "\n",
    "\n",
    "interaction_graph = nx.Graph()\n",
    "\n",
    "for g in all_groups:\n",
    "    for a in g.alignments:\n",
    "        n1 = (a.query_key, a.query_region.a, a.query_region.b)\n",
    "        n2 = (a.subject_key, a.subject_region.a, a.subject_region.b)\n",
    "        interaction_graph.add_edge(n1, n2, alignment=a)\n",
    "graphs = sorted(get_subgraphs(interaction_graph), key=lambda x: x.number_of_nodes())\n",
    "\n",
    "graph = graphs[-2]\n",
    "\n",
    "def has_repeats(g):\n",
    "    \"\"\"Check if the interaction graph has a repeated DNA sequence\"\"\"\n",
    "    grouped_by_key = {}\n",
    "    for n in g.nodes:\n",
    "        grouped_by_key.setdefault(n[0], list())\n",
    "        grouped_by_key[n[0]].append((n[1], n[2]))\n",
    "    for k, v in grouped_by_key.items():\n",
    "        if len(v) > 1:\n",
    "            print(grouped_by_key)\n",
    "            return True\n",
    "    return False\n",
    "        \n",
    "nx.draw(graph, node_size=25)\n",
    "\n",
    "# clusters have \n",
    "clusters = []\n",
    "\n",
    "for g in graphs:\n",
    "    if not has_repeats(g):\n",
    "        alignments = []\n",
    "        for n1, n2, edata in g.edges(data=True):\n",
    "            alignments.append(edata['alignment'])\n",
    "        clusters.append(alignments)\n",
    "\n",
    "qk_to_cluster_indices = {}\n",
    "for i, c in enumerate(clusters):\n",
    "    for alignment in c:\n",
    "        qk_to_cluster_indices.setdefault(alignment.query_key, (alignment, list()))\n",
    "        qk_to_cluster_indices[alignment.query_key][1].append(i)\n",
    "\n",
    "for qk, container in design.container_factory.containers().items():\n",
    "    alignment, cluster = qk_to_cluster_indices[qk]\n",
    "#     graph = design.graphs[qk]\n",
    "#     container.filter_alignments_by_span"
   ]
  },
  {
   "cell_type": "code",
   "execution_count": null,
   "metadata": {},
   "outputs": [],
   "source": [
    "design.compile()"
   ]
  },
  {
   "cell_type": "code",
   "execution_count": null,
   "metadata": {},
   "outputs": [],
   "source": [
    "design.graphs"
   ]
  },
  {
   "cell_type": "code",
   "execution_count": null,
   "metadata": {},
   "outputs": [],
   "source": [
    "design.seqdb['2bf55dde-2d75-4e56-b6ce-eb09479d461e'][734:811]"
   ]
  },
  {
   "cell_type": "code",
   "execution_count": null,
   "metadata": {},
   "outputs": [],
   "source": [
    "all_keys = dict()\n",
    "for g in all_groups:\n",
    "    keys = [g.query_key] + g.subject_keys\n",
    "    keys.sort()\n",
    "    gkey = tuple(keys)\n",
    "    all_keys.setdefault(gkey, list())\n",
    "    all_keys[gkey].append(g)\n",
    "    \n",
    "print(len(all_groups))\n",
    "print(len(all_keys))\n",
    "\n",
    "all_keys"
   ]
  },
  {
   "cell_type": "code",
   "execution_count": 6,
   "metadata": {},
   "outputs": [
    {
     "data": {
      "image/png": "[encoded data removed]",
      "text/plain": [
       "<Figure size 432x288 with 1 Axes>"
      ]
     },
     "metadata": {},
     "output_type": "display_data"
    }
   ],
   "source": [
    "import networkx as nx\n",
    "%matplotlib inline\n",
    "\n",
    "blast = design.blast_factory('queries', 'queries')\n",
    "\n",
    "blast.quick_blastn()\n",
    "results = blast.get_perfect()\n",
    "results = [r for r in results if r['subject']['origin_key'] != r['query']['origin_key']]\n",
    "\n",
    "g = nx.MultiGraph()\n",
    "\n",
    "edges = []\n",
    "for r in results:\n",
    "    sk = r['subject']['origin_key']\n",
    "    qk = r['query']['origin_key']\n",
    "    k1 = (qk, (r['query']['start'], r['query']['end']))\n",
    "    k2 = (sk, (r['subject']['start'], r['subject']['end']))\n",
    "    keys = sorted([k1, k2])\n",
    "    edges.append(keys)\n",
    "    \n",
    "for n1, n2 in edges:\n",
    "    g.add_edge(n1[0], n2[0])\n",
    "    \n",
    "nx.draw(g)"
   ]
  },
  {
   "cell_type": "code",
   "execution_count": null,
   "metadata": {},
   "outputs": [],
   "source": [
    "r"
   ]
  },
  {
   "cell_type": "code",
   "execution_count": null,
   "metadata": {},
   "outputs": [],
   "source": []
  }
 ],
 "metadata": {
  "kernelspec": {
   "display_name": "Python 3",
   "language": "python",
   "name": "python3"
  },
  "language_info": {
   "codemirror_mode": {
    "name": "ipython",
    "version": 3
   },
   "file_extension": ".py",
   "mimetype": "text/x-python",
   "name": "python",
   "nbconvert_exporter": "python",
   "pygments_lexer": "ipython3",
   "version": "3.7.4"
  }
 },
 "nbformat": 4,
 "nbformat_minor": 2
}
