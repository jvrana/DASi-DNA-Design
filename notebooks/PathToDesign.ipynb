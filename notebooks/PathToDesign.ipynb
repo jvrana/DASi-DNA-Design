{
 "cells": [
  {
   "cell_type": "code",
   "execution_count": 1,
   "metadata": {},
   "outputs": [],
   "source": [
    "from dasi.design import Design\n",
    "\n",
    "import warnings\n",
    "\n",
    "from Bio import BiopythonParserWarning\n",
    "warnings.simplefilter('ignore', BiopythonParserWarning)"
   ]
  },
  {
   "cell_type": "code",
   "execution_count": 2,
   "metadata": {},
   "outputs": [
    {
     "name": "stderr",
     "output_type": "stream",
     "text": [
      "/Users/justinvrana/Documents/GitHub/dasiDNA/dasi/cost/__init__.py:132: RuntimeWarning: divide by zero encountered in true_divide\n",
      "  self.cost_matrix = (m * CostParams.material + t * CostParams.time) * 1.0 / e\n"
     ]
    }
   ],
   "source": [
    "from dasi.design import Design\n",
    "from pyblast.utils import load_fasta_glob, load_genbank_glob, make_circular, make_linear\n",
    "from dasi.cost import SpanCost\n",
    "from os.path import join\n",
    "\n",
    "span_cost = SpanCost()\n",
    "\n",
    "\n",
    "here = 'tests'\n",
    "query = '*.gb'\n",
    "paths = {\n",
    "        'primers': join(here, \"data/test_data/primers/primers.fasta\"),\n",
    "        'templates': join(here, \"data/test_data/genbank/templates/*.gb\"),\n",
    "        'queries': join(\n",
    "            'tests', \"data/test_data/genbank/designs/*.gb\"\n",
    "        ),\n",
    "    }\n",
    "primers = make_linear(load_fasta_glob(paths[\"primers\"]))\n",
    "templates = load_genbank_glob(paths[\"templates\"])\n",
    "\n",
    "query_path = join(here, 'data/test_data/genbank/designs', query)\n",
    "queries = make_circular(load_genbank_glob(query_path))"
   ]
  },
  {
   "cell_type": "code",
   "execution_count": 3,
   "metadata": {},
   "outputs": [
    {
     "name": "stdout",
     "output_type": "stream",
     "text": [
      "INFO - <class 'dasi.design.LibraryDesign'>(id=4485089432) - 2019-08-16 09:43:48,031 - Compiling assembly graph\n",
      "Found previous installation at \"/Users/justinvrana/anaconda3/lib/python3.7/site-packages/pyblast/blast_bin/bin/ncbi-blast-2.9.0+/bin\"\n",
      "CMD: makeblastdb -dbtype nucl -title b8bb36f6-f23d-4769-bc84-808cee11718b -out /var/folders/fr/yc9x0z2s39lcj4f9d95wvrpr0000gn/T/tmpmi_y0r1a/b8bb36f6-f23d-4769-bc84-808cee11718b -in /var/folders/fr/yc9x0z2s39lcj4f9d95wvrpr0000gn/T/tmpzl312yy4.fasta\n",
      "CMD: blastn -db /var/folders/fr/yc9x0z2s39lcj4f9d95wvrpr0000gn/T/tmpmi_y0r1a/b8bb36f6-f23d-4769-bc84-808cee11718b -out /var/folders/fr/yc9x0z2s39lcj4f9d95wvrpr0000gn/T/tmpmi_y0r1a/tmpwrbtrzm5 -query /var/folders/fr/yc9x0z2s39lcj4f9d95wvrpr0000gn/T/tmpkbgvvkep.fasta -outfmt \"7 qacc sacc score evalue bitscore length nident gapopen gaps qlen qstart qend slen sstart send sstrand qseq sseq\"\n",
      "CMD: makeblastdb -dbtype nucl -title c50c02fa-26a6-4da9-a7f7-dab70595f319 -out /var/folders/fr/yc9x0z2s39lcj4f9d95wvrpr0000gn/T/tmpcvzlra8o/c50c02fa-26a6-4da9-a7f7-dab70595f319 -in /var/folders/fr/yc9x0z2s39lcj4f9d95wvrpr0000gn/T/tmpwjvej9zk.fasta\n",
      "CMD: blastn -db /var/folders/fr/yc9x0z2s39lcj4f9d95wvrpr0000gn/T/tmpcvzlra8o/c50c02fa-26a6-4da9-a7f7-dab70595f319 -out /var/folders/fr/yc9x0z2s39lcj4f9d95wvrpr0000gn/T/tmpcvzlra8o/tmp59rtm4tq -query /var/folders/fr/yc9x0z2s39lcj4f9d95wvrpr0000gn/T/tmp6ygottiu.fasta -outfmt \"7 qacc sacc score evalue bitscore length nident gapopen gaps qlen qstart qend slen sstart send sstrand qseq sseq\" -task blastn-short\n",
      "INFO - <class 'dasi.design.LibraryDesign'>(id=4485089432) - 2019-08-16 09:43:49,558 - Number of perfect primers: 302\n",
      "INFO - <class 'dasi.design.LibraryDesign'>(id=4485089432) - 2019-08-16 09:43:49,618 - Finding shared fragments among queries\n",
      "CMD: makeblastdb -dbtype nucl -title ffcb3c91-3cbd-45c2-b465-3bcd142c165f -out /var/folders/fr/yc9x0z2s39lcj4f9d95wvrpr0000gn/T/tmpq5deq3fs/ffcb3c91-3cbd-45c2-b465-3bcd142c165f -in /var/folders/fr/yc9x0z2s39lcj4f9d95wvrpr0000gn/T/tmpcpfkltt1.fasta\n",
      "CMD: blastn -db /var/folders/fr/yc9x0z2s39lcj4f9d95wvrpr0000gn/T/tmpq5deq3fs/ffcb3c91-3cbd-45c2-b465-3bcd142c165f -out /var/folders/fr/yc9x0z2s39lcj4f9d95wvrpr0000gn/T/tmpq5deq3fs/tmp5zm74gla -query /var/folders/fr/yc9x0z2s39lcj4f9d95wvrpr0000gn/T/tmp16f09c5u.fasta -outfmt \"7 qacc sacc score evalue bitscore length nident gapopen gaps qlen qstart qend slen sstart send sstrand qseq sseq\"\n"
     ]
    },
    {
     "name": "stderr",
     "output_type": "stream",
     "text": [
      "/Users/justinvrana/anaconda3/lib/python3.7/site-packages/pyblast/blast/blast.py:605: UserWarning: A circular query 7234cb39-fad3-497e-8ce4-fc32fbacdc97 overlapped the origins\n",
      "  x, origin_key\n",
      "/Users/justinvrana/anaconda3/lib/python3.7/site-packages/pyblast/blast/blast.py:605: UserWarning: A circular subject 7234cb39-fad3-497e-8ce4-fc32fbacdc97 overlapped the origins\n",
      "  x, origin_key\n",
      "/Users/justinvrana/anaconda3/lib/python3.7/site-packages/pyblast/blast/blast.py:605: UserWarning: A circular query 8b22eb67-f32d-4047-af9b-f9538085270a overlapped the origins\n",
      "  x, origin_key\n",
      "/Users/justinvrana/anaconda3/lib/python3.7/site-packages/pyblast/blast/blast.py:605: UserWarning: A circular subject 8b22eb67-f32d-4047-af9b-f9538085270a overlapped the origins\n",
      "  x, origin_key\n",
      "/Users/justinvrana/anaconda3/lib/python3.7/site-packages/pyblast/blast/blast.py:605: UserWarning: A circular query 3ebeb6f6-65c6-478c-a517-0d6dc8b3e323 overlapped the origins\n",
      "  x, origin_key\n",
      "/Users/justinvrana/anaconda3/lib/python3.7/site-packages/pyblast/blast/blast.py:605: UserWarning: A circular subject 3ebeb6f6-65c6-478c-a517-0d6dc8b3e323 overlapped the origins\n",
      "  x, origin_key\n",
      "/Users/justinvrana/anaconda3/lib/python3.7/site-packages/pyblast/blast/blast.py:605: UserWarning: A circular query 06aeda85-f593-4a90-9b86-149a451a5eee overlapped the origins\n",
      "  x, origin_key\n",
      "/Users/justinvrana/anaconda3/lib/python3.7/site-packages/pyblast/blast/blast.py:605: UserWarning: A circular subject 06aeda85-f593-4a90-9b86-149a451a5eee overlapped the origins\n",
      "  x, origin_key\n"
     ]
    },
    {
     "name": "stdout",
     "output_type": "stream",
     "text": [
      "INFO - <class 'dasi.design.LibraryDesign'>(id=4485089432) - 2019-08-16 09:43:49,731 - Found 31 shared alignments between the queries\n",
      "INFO - <class 'dasi.design.LibraryDesign'>(id=4485089432) - 2019-08-16 09:43:49,749 - 7234cb39-fad3-497e-8ce4-fc32fbacdc97: Expanded from 11 to 11 shared fragments\n",
      "INFO - <class 'dasi.design.LibraryDesign'>(id=4485089432) - 2019-08-16 09:43:49,771 - 8b22eb67-f32d-4047-af9b-f9538085270a: Expanded from 9 to 9 shared fragments\n",
      "INFO - <class 'dasi.design.LibraryDesign'>(id=4485089432) - 2019-08-16 09:43:49,804 - 3ebeb6f6-65c6-478c-a517-0d6dc8b3e323: Expanded from 1 to 1 shared fragments\n",
      "INFO - <class 'dasi.design.LibraryDesign'>(id=4485089432) - 2019-08-16 09:43:49,869 - 06aeda85-f593-4a90-9b86-149a451a5eee: Expanded from 2 to 2 shared fragments\n",
      "INFO - <class 'dasi.design.LibraryDesign'>(id=4485089432) - 2019-08-16 09:43:49,885 - 15 shared fragments for 7234cb39-fad3-497e-8ce4-fc32fbacdc97\n",
      "INFO - <class 'dasi.design.LibraryDesign'>(id=4485089432) - 2019-08-16 09:43:49,886 - 13 shared fragments for 8b22eb67-f32d-4047-af9b-f9538085270a\n",
      "INFO - <class 'dasi.design.LibraryDesign'>(id=4485089432) - 2019-08-16 09:43:49,888 - 1 shared fragments for 3ebeb6f6-65c6-478c-a517-0d6dc8b3e323\n",
      "INFO - <class 'dasi.design.LibraryDesign'>(id=4485089432) - 2019-08-16 09:43:49,889 - 2 shared fragments for 06aeda85-f593-4a90-9b86-149a451a5eee\n"
     ]
    },
    {
     "name": "stderr",
     "output_type": "stream",
     "text": []
    },
    {
     "name": "stdout",
     "output_type": "stream",
     "text": [
      "INFO - <class 'dasi.design.LibraryDesign'>(id=4485089432) - 2019-08-16 09:43:49,908 - Number of types: 7\n"
     ]
    },
    {
     "name": "stderr",
     "output_type": "stream",
     "text": []
    },
    {
     "name": "stdout",
     "output_type": "stream",
     "text": [
      "INFO - <class 'dasi.design.LibraryDesign'>(id=4485089432) - 2019-08-16 09:43:49,912 - Number of groups: 253\n"
     ]
    },
    {
     "name": "stderr",
     "output_type": "stream",
     "text": []
    },
    {
     "name": "stdout",
     "output_type": "stream",
     "text": [
      "INFO - <class 'dasi.design.LibraryDesign'>(id=4485089432) - 2019-08-16 09:43:49,963 - === Assembly Graph ===\n"
     ]
    },
    {
     "name": "stderr",
     "output_type": "stream",
     "text": []
    },
    {
     "name": "stdout",
     "output_type": "stream",
     "text": [
      "INFO - <class 'dasi.design.LibraryDesign'>(id=4485089432) - 2019-08-16 09:43:49,967 - Name: Assembly Graph\n",
      "Type: DiGraph\n",
      "Number of nodes: 118\n",
      "Number of edges: 1406\n",
      "Average in degree:  11.9153\n",
      "Average out degree:  11.9153\n"
     ]
    },
    {
     "name": "stderr",
     "output_type": "stream",
     "text": []
    },
    {
     "name": "stdout",
     "output_type": "stream",
     "text": [
      "INFO - <class 'dasi.design.LibraryDesign'>(id=4485089432) - 2019-08-16 09:43:50,002 - Number of types: 7\n"
     ]
    },
    {
     "name": "stderr",
     "output_type": "stream",
     "text": []
    },
    {
     "name": "stdout",
     "output_type": "stream",
     "text": [
      "INFO - <class 'dasi.design.LibraryDesign'>(id=4485089432) - 2019-08-16 09:43:50,006 - Number of groups: 314\n"
     ]
    },
    {
     "name": "stderr",
     "output_type": "stream",
     "text": []
    },
    {
     "name": "stdout",
     "output_type": "stream",
     "text": [
      "INFO - <class 'dasi.design.LibraryDesign'>(id=4485089432) - 2019-08-16 09:43:50,069 - === Assembly Graph ===\n"
     ]
    },
    {
     "name": "stderr",
     "output_type": "stream",
     "text": []
    },
    {
     "name": "stdout",
     "output_type": "stream",
     "text": [
      "INFO - <class 'dasi.design.LibraryDesign'>(id=4485089432) - 2019-08-16 09:43:50,074 - Name: Assembly Graph\n",
      "Type: DiGraph\n",
      "Number of nodes: 134\n",
      "Number of edges: 1651\n",
      "Average in degree:  12.3209\n",
      "Average out degree:  12.3209\n"
     ]
    },
    {
     "name": "stderr",
     "output_type": "stream",
     "text": []
    },
    {
     "name": "stdout",
     "output_type": "stream",
     "text": [
      "INFO - <class 'dasi.design.LibraryDesign'>(id=4485089432) - 2019-08-16 09:43:50,223 - Number of types: 7\n"
     ]
    },
    {
     "name": "stderr",
     "output_type": "stream",
     "text": []
    },
    {
     "name": "stdout",
     "output_type": "stream",
     "text": [
      "INFO - <class 'dasi.design.LibraryDesign'>(id=4485089432) - 2019-08-16 09:43:50,226 - Number of groups: 600\n"
     ]
    },
    {
     "name": "stderr",
     "output_type": "stream",
     "text": []
    },
    {
     "name": "stdout",
     "output_type": "stream",
     "text": [
      "INFO - <class 'dasi.design.LibraryDesign'>(id=4485089432) - 2019-08-16 09:43:50,288 - === Assembly Graph ===\n"
     ]
    },
    {
     "name": "stderr",
     "output_type": "stream",
     "text": []
    },
    {
     "name": "stdout",
     "output_type": "stream",
     "text": [
      "INFO - <class 'dasi.design.LibraryDesign'>(id=4485089432) - 2019-08-16 09:43:50,291 - Name: Assembly Graph\n",
      "Type: DiGraph\n",
      "Number of nodes: 115\n",
      "Number of edges: 1521\n",
      "Average in degree:  13.2261\n",
      "Average out degree:  13.2261\n"
     ]
    },
    {
     "name": "stderr",
     "output_type": "stream",
     "text": []
    },
    {
     "name": "stdout",
     "output_type": "stream",
     "text": [
      "INFO - <class 'dasi.design.LibraryDesign'>(id=4485089432) - 2019-08-16 09:43:50,312 - Number of types: 7\n"
     ]
    },
    {
     "name": "stderr",
     "output_type": "stream",
     "text": []
    },
    {
     "name": "stdout",
     "output_type": "stream",
     "text": [
      "INFO - <class 'dasi.design.LibraryDesign'>(id=4485089432) - 2019-08-16 09:43:50,316 - Number of groups: 247\n"
     ]
    },
    {
     "name": "stderr",
     "output_type": "stream",
     "text": []
    },
    {
     "name": "stdout",
     "output_type": "stream",
     "text": [
      "INFO - <class 'dasi.design.LibraryDesign'>(id=4485089432) - 2019-08-16 09:43:50,345 - === Assembly Graph ===\n"
     ]
    },
    {
     "name": "stderr",
     "output_type": "stream",
     "text": []
    },
    {
     "name": "stdout",
     "output_type": "stream",
     "text": [
      "INFO - <class 'dasi.design.LibraryDesign'>(id=4485089432) - 2019-08-16 09:43:50,348 - Name: Assembly Graph\n",
      "Type: DiGraph\n",
      "Number of nodes: 79\n",
      "Number of edges: 949\n",
      "Average in degree:  12.0127\n",
      "Average out degree:  12.0127\n"
     ]
    },
    {
     "name": "stderr",
     "output_type": "stream",
     "text": [
      "INFO     compiling all containers: 100%|██████████| 4/4 [00:00<00:00,  8.70it/s]\n"
     ]
    }
   ],
   "source": [
    "from dasi.design import LibraryDesign\n",
    "\n",
    "design = LibraryDesign(span_cost=span_cost)\n",
    "\n",
    "design.add_materials(primers=primers, templates=templates, queries=queries)\n",
    "\n",
    "design.logger.set_level(\"INFO\")\n",
    "design.compile()"
   ]
  },
  {
   "cell_type": "code",
   "execution_count": 5,
   "metadata": {},
   "outputs": [
    {
     "name": "stdout",
     "output_type": "stream",
     "text": [
      "15\n",
      "13\n",
      "1\n",
      "2\n"
     ]
    },
    {
     "data": {
      "image/png": "[encoded data removed]",
      "text/plain": [
       "<Figure size 432x288 with 1 Axes>"
      ]
     },
     "metadata": {},
     "output_type": "display_data"
    }
   ],
   "source": [
    "from dasi import Constants\n",
    "import networkx as nx\n",
    "%matplotlib inline\n",
    "\n",
    "def alignment_to_nodes(align):\n",
    "    n1 = (align.query_key, align.query_region.a, align.query_region.b)\n",
    "    n2 = (align.subject_key, align.subject_region.a, align.subject_region.b)\n",
    "    return n1, n2\n",
    "\n",
    "# G = nx.Graph()\n",
    "# for k, v in non_repeat_interactions.items():\n",
    "#     for _v in v:\n",
    "#         G.add_edge(k, _v)\n",
    "G = nx.Graph()\n",
    "        \n",
    "for container in design.container_list():\n",
    "    alignments = container.get_alignments_by_types(Constants.SHARED_FRAGMENT)\n",
    "    for align in alignments:\n",
    "        qk = align.query_key\n",
    "        sk = align.subject_key\n",
    "        if qk != sk:\n",
    "            n1, n2 = alignment_to_nodes(align)\n",
    "            G.add_edge(n1, n2)\n",
    "            \n",
    "nx.draw(G)"
   ]
  },
  {
   "cell_type": "code",
   "execution_count": 11,
   "metadata": {},
   "outputs": [],
   "source": [
    "\n",
    "a = group.alignments[0]"
   ]
  },
  {
   "cell_type": "code",
   "execution_count": 14,
   "metadata": {},
   "outputs": [
    {
     "data": {
      "text/plain": [
       "'5b7484f3-dfde-4b58-b54b-49b5622a5725'"
      ]
     },
     "execution_count": 14,
     "metadata": {},
     "output_type": "execute_result"
    }
   ],
   "source": [
    "a.subject_key"
   ]
  },
  {
   "cell_type": "code",
   "execution_count": 8,
   "metadata": {},
   "outputs": [
    {
     "data": {
      "image/png": "[encoded data removed]",
      "text/plain": [
       "<Figure size 432x288 with 1 Axes>"
      ]
     },
     "metadata": {},
     "output_type": "display_data"
    }
   ],
   "source": [
    "import networkx as nx\n",
    "from itertools import product\n",
    "\n",
    "def find(a, b, alignments):\n",
    "    for align in alignments:\n",
    "        if a == align.query_region.a and b == align.query_region.b:\n",
    "            yield align\n",
    "\n",
    "            \n",
    "G = nx.MultiGraph()\n",
    "\n",
    "repeats = []\n",
    "\n",
    "for r in design.shared_alignments:\n",
    "    qk = r['query']['origin_key']\n",
    "    sk = r['subject']['origin_key']\n",
    "    if qk == sk:\n",
    "        repeats.append((qk, r['query']['start'], r['query']['end']))\n",
    "\n",
    "non_repeat_interactions = {}\n",
    "\n",
    "for r in design.shared_alignments:\n",
    "    qk = r['query']['origin_key']\n",
    "    sk = r['subject']['origin_key']\n",
    "    \n",
    "    if qk != sk:\n",
    "        n1 = (sk, r['subject']['start'], r['subject']['end'])\n",
    "        n2 = (qk, r['query']['start'], r['query']['end'])\n",
    "        if n1 not in repeats and n2 not in repeats:\n",
    "            query = design.container_factory.seqdb[qk]\n",
    "            subject = design.container_factory.seqdb[sk]\n",
    "            \n",
    "            s1, e1 = r['query']['start'], r['query']['end']\n",
    "            s2, e2 = r['subject']['start'], r['subject']['end']\n",
    "            \n",
    "            non_repeat_interactions.setdefault(n1, set()).add(n2)\n",
    "            non_repeat_interactions.setdefault(n2, set()).add(n1)\n",
    "\n",
    "G = nx.Graph()\n",
    "for k, v in non_repeat_interactions.items():\n",
    "    for _v in v:\n",
    "        G.add_edge(k, _v)\n",
    "        \n",
    "%matplotlib inline\n",
    "\n",
    "nx.draw(G)\n",
    "#             print(r['subject']['start'], r['subject']['end'])\n",
    "#             print(query.name, subject.name)"
   ]
  },
  {
   "cell_type": "code",
   "execution_count": 33,
   "metadata": {},
   "outputs": [
    {
     "data": {
      "text/plain": [
       "dasi.AlignmentContainer"
      ]
     },
     "execution_count": 33,
     "metadata": {},
     "output_type": "execute_result"
    }
   ],
   "source": [
    "from dasi import AlignmentContainer\n",
    "\n",
    "AlignmentContainer()"
   ]
  },
  {
   "cell_type": "code",
   "execution_count": 6,
   "metadata": {},
   "outputs": [
    {
     "data": {
      "text/plain": [
       "[SeqRecord(seq=Seq('AGTAATAGTGACTATGTTGCTCCTTTTACGCTATGTGGATACGCTGCTTTAATG...TCA', IUPACAmbiguousDNA()), id='pLKO-pEF1a-FRT-tdTomato', name='pLKO-pEF1a-FRT-tdTomato', description='', dbxrefs=[]),\n",
       " SeqRecord(seq=Seq('TCGCGCGTTTCGGTGATGACGGTGAAAACCTCTGACACATGCAGCTCCCGGAGA...GTC', IUPACAmbiguousDNA()), id='pMODKan-HO-pACT1-Z4-', name='pMODKan-HO-pACT1-Z4-', description='', dbxrefs=[]),\n",
       " SeqRecord(seq=Seq('GCCGATACGAAGGTTTTCTCCAGCGAAGGTCGGGCAGGAAGAGGGCCTATTTCC...TGC', IUPACAmbiguousDNA()), id='pINS-01-hU6-SV40.NT1-op', name='pINS-01-hU6-SV40.NT1-op', description='', dbxrefs=[])]"
      ]
     },
     "execution_count": 6,
     "metadata": {},
     "output_type": "execute_result"
    }
   ],
   "source": [
    "queries"
   ]
  },
  {
   "cell_type": "code",
   "execution_count": 10,
   "metadata": {},
   "outputs": [],
   "source": [
    "for i in range(200):\n",
    "    for g in design.graphs.values():\n",
    "        nodelist = list(g.nodes())\n",
    "        nx.floyd_warshall_numpy(g, nodelist=nodelist, weight='weight')"
   ]
  },
  {
   "cell_type": "code",
   "execution_count": 12,
   "metadata": {},
   "outputs": [
    {
     "name": "stdout",
     "output_type": "stream",
     "text": [
      "CMD: makeblastdb -dbtype nucl -title 3d8bacc7-bade-4027-b482-d960228270db -out /var/folders/hl/pff9rjpd5jx73ylds97m2hww0000gn/T/tmpxs_z4hlp/3d8bacc7-bade-4027-b482-d960228270db -in /var/folders/hl/pff9rjpd5jx73ylds97m2hww0000gn/T/tmpxeb9j68w.fasta\n",
      "CMD: blastn -db /var/folders/hl/pff9rjpd5jx73ylds97m2hww0000gn/T/tmpxs_z4hlp/3d8bacc7-bade-4027-b482-d960228270db -out /var/folders/hl/pff9rjpd5jx73ylds97m2hww0000gn/T/tmpxs_z4hlp/tmpigw0bmmw -query /var/folders/hl/pff9rjpd5jx73ylds97m2hww0000gn/T/tmpql37_lej.fasta -outfmt \"7 qacc sacc score evalue bitscore length nident gapopen gaps qlen qstart qend slen sstart send sstrand qseq sseq\"\n",
      "CMD: makeblastdb -dbtype nucl -title 084292af-5ab1-4f8f-8738-c79e4c8a1fac -out /var/folders/hl/pff9rjpd5jx73ylds97m2hww0000gn/T/tmpzicbbq87/084292af-5ab1-4f8f-8738-c79e4c8a1fac -in /var/folders/hl/pff9rjpd5jx73ylds97m2hww0000gn/T/tmptupf1p9o.fasta\n",
      "CMD: blastn -db /var/folders/hl/pff9rjpd5jx73ylds97m2hww0000gn/T/tmpzicbbq87/084292af-5ab1-4f8f-8738-c79e4c8a1fac -out /var/folders/hl/pff9rjpd5jx73ylds97m2hww0000gn/T/tmpzicbbq87/tmpg4iwidw0 -query /var/folders/hl/pff9rjpd5jx73ylds97m2hww0000gn/T/tmpzqapt6jq.fasta -outfmt \"7 qacc sacc score evalue bitscore length nident gapopen gaps qlen qstart qend slen sstart send sstrand qseq sseq\" -task blastn-short\n"
     ]
    },
    {
     "ename": "AttributeError",
     "evalue": "'Design' object has no attribute '_edges'",
     "output_type": "error",
     "traceback": [
      "\u001b[0;31m---------------------------------------------------------------------------\u001b[0m",
      "\u001b[0;31mAttributeError\u001b[0m                            Traceback (most recent call last)",
      "\u001b[0;32m<ipython-input-12-4362d350e210>\u001b[0m in \u001b[0;36m<module>\u001b[0;34m\u001b[0m\n\u001b[1;32m      4\u001b[0m \u001b[0;34m\u001b[0m\u001b[0m\n\u001b[1;32m      5\u001b[0m \u001b[0mdesign\u001b[0m\u001b[0;34m.\u001b[0m\u001b[0mcompile\u001b[0m\u001b[0;34m(\u001b[0m\u001b[0;34m)\u001b[0m\u001b[0;34m\u001b[0m\u001b[0;34m\u001b[0m\u001b[0m\n\u001b[0;32m----> 6\u001b[0;31m \u001b[0mdesign\u001b[0m\u001b[0;34m.\u001b[0m\u001b[0m_edges\u001b[0m\u001b[0;34m\u001b[0m\u001b[0;34m\u001b[0m\u001b[0m\n\u001b[0m",
      "\u001b[0;31mAttributeError\u001b[0m: 'Design' object has no attribute '_edges'"
     ]
    }
   ],
   "source": [
    "design = Design(span_cost=span_cost)\n",
    "\n",
    "design.add_materials(primers=primers, templates=templates, queries=queries)\n",
    "\n",
    "design.compile()\n",
    "design._edges"
   ]
  },
  {
   "cell_type": "code",
   "execution_count": null,
   "metadata": {},
   "outputs": [],
   "source": []
  }
 ],
 "metadata": {
  "kernelspec": {
   "display_name": "Python 3",
   "language": "python",
   "name": "python3"
  },
  "language_info": {
   "codemirror_mode": {
    "name": "ipython",
    "version": 3
   },
   "file_extension": ".py",
   "mimetype": "text/x-python",
   "name": "python",
   "nbconvert_exporter": "python",
   "pygments_lexer": "ipython3",
   "version": "3.7.3"
  }
 },
 "nbformat": 4,
 "nbformat_minor": 2
}
