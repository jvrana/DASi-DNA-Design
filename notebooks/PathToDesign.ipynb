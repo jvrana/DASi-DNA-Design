{
 "cells": [
  {
   "cell_type": "code",
   "execution_count": 1,
   "metadata": {},
   "outputs": [],
   "source": [
    "from dasi.design import Design\n",
    "\n",
    "import warnings\n",
    "\n",
    "from Bio import BiopythonParserWarning\n",
    "warnings.simplefilter('ignore', BiopythonParserWarning)"
   ]
  },
  {
   "cell_type": "code",
   "execution_count": 2,
   "metadata": {},
   "outputs": [
    {
     "name": "stderr",
     "output_type": "stream",
     "text": [
      "/Users/justinvrana/Documents/GitHub/DASi-DNA-Design/dasi/cost/__init__.py:132: RuntimeWarning: divide by zero encountered in true_divide\n",
      "  self.cost_matrix = (m * CostParams.material + t * CostParams.time) * 1.0 / e\n"
     ]
    }
   ],
   "source": [
    "from dasi.design import Design\n",
    "from pyblast.utils import load_fasta_glob, load_genbank_glob, make_circular, make_linear\n",
    "from dasi.cost import SpanCost\n",
    "from os.path import join\n",
    "\n",
    "span_cost = SpanCost()\n",
    "\n",
    "\n",
    "here = '../tests'\n",
    "query = '*.gb'\n",
    "paths = {\n",
    "        'primers': join(here, \"data/test_data/primers/primers.fasta\"),\n",
    "        'templates': join(here, \"data/test_data/genbank/templates/*.gb\"),\n",
    "        'queries': join(\n",
    "            'tests', \"data/test_data/genbank/designs/*.gb\"\n",
    "        ),\n",
    "    }\n",
    "primers = make_linear(load_fasta_glob(paths[\"primers\"]))\n",
    "templates = load_genbank_glob(paths[\"templates\"])\n",
    "\n",
    "query_path = join(here, 'data/test_data/genbank/designs', query)\n",
    "queries = make_circular(load_genbank_glob(query_path))"
   ]
  },
  {
   "cell_type": "code",
   "execution_count": 16,
   "metadata": {},
   "outputs": [
    {
     "name": "stdout",
     "output_type": "stream",
     "text": [
      "a550e9be-7990-4380-a825-236d60d705e3: 2943.0\n",
      "bad9581d-937e-4305-97eb-6eb3228bbb03: 1763.5\n",
      "17e1d820-e35b-47d8-a374-01749c12294a: 399.66666666666663\n",
      "cdd22dcf-3738-493e-9d3a-9bcd32d9f4e5: 1820.0\n",
      "1761a448-aa82-409c-85a3-44a1a5bf31a1: 739.5555555555555\n"
     ]
    }
   ],
   "source": [
    "from dasi.design import LibraryDesign\n",
    "from more_itertools import pairwise\n",
    "\n",
    "design = LibraryDesign(span_cost=span_cost)\n",
    "\n",
    "design.add_materials(primers=primers, templates=templates, queries=queries)\n",
    "\n",
    "design.compile()\n",
    "path_dict = design.optimize()\n",
    "path_dict\n",
    "\n",
    "for qk, graph in design.graphs.items():\n",
    "    cost = 0\n",
    "    for n1, n2 in pairwise(path_dict[qk][0]):\n",
    "        edata = graph[n1][n2]\n",
    "        cost += edata['weight']\n",
    "    print(\"{}: {}\".format(qk, cost))"
   ]
  },
  {
   "cell_type": "code",
   "execution_count": 15,
   "metadata": {},
   "outputs": [
    {
     "name": "stderr",
     "output_type": "stream",
     "text": [
      "/Users/justinvrana/anaconda3/lib/python3.7/site-packages/pyblast/blast/blast.py:605: UserWarning: A circular query df811dc9-4c5c-4a36-af73-002260af451a overlapped the origins\n",
      "  x, origin_key\n",
      "/Users/justinvrana/anaconda3/lib/python3.7/site-packages/pyblast/blast/blast.py:605: UserWarning: A circular subject df811dc9-4c5c-4a36-af73-002260af451a overlapped the origins\n",
      "  x, origin_key\n",
      "/Users/justinvrana/anaconda3/lib/python3.7/site-packages/pyblast/blast/blast.py:605: UserWarning: A circular query b4161f87-ae87-4614-ade4-33f9ef25cbbe overlapped the origins\n",
      "  x, origin_key\n",
      "/Users/justinvrana/anaconda3/lib/python3.7/site-packages/pyblast/blast/blast.py:605: UserWarning: A circular subject b4161f87-ae87-4614-ade4-33f9ef25cbbe overlapped the origins\n",
      "  x, origin_key\n",
      "/Users/justinvrana/anaconda3/lib/python3.7/site-packages/pyblast/blast/blast.py:605: UserWarning: A circular query 7aa14fb8-4980-497b-a7b2-c3f1ea9237a8 overlapped the origins\n",
      "  x, origin_key\n",
      "/Users/justinvrana/anaconda3/lib/python3.7/site-packages/pyblast/blast/blast.py:605: UserWarning: A circular subject 7aa14fb8-4980-497b-a7b2-c3f1ea9237a8 overlapped the origins\n",
      "  x, origin_key\n",
      "/Users/justinvrana/anaconda3/lib/python3.7/site-packages/pyblast/blast/blast.py:605: UserWarning: A circular query d83ee1b7-fc38-4ada-86af-aa35b9d09ed6 overlapped the origins\n",
      "  x, origin_key\n",
      "/Users/justinvrana/anaconda3/lib/python3.7/site-packages/pyblast/blast/blast.py:605: UserWarning: A circular subject d83ee1b7-fc38-4ada-86af-aa35b9d09ed6 overlapped the origins\n",
      "  x, origin_key\n",
      "/Users/justinvrana/anaconda3/lib/python3.7/site-packages/pyblast/blast/blast.py:605: UserWarning: A circular query 03ef07f0-ac08-4436-84d8-d5c389dbe2ea overlapped the origins\n",
      "  x, origin_key\n",
      "/Users/justinvrana/anaconda3/lib/python3.7/site-packages/pyblast/blast/blast.py:605: UserWarning: A circular subject 03ef07f0-ac08-4436-84d8-d5c389dbe2ea overlapped the origins\n",
      "  x, origin_key\n"
     ]
    },
    {
     "name": "stdout",
     "output_type": "stream",
     "text": [
      "df811dc9-4c5c-4a36-af73-002260af451a: 2943.0\n",
      "b4161f87-ae87-4614-ade4-33f9ef25cbbe: 1763.5\n",
      "7aa14fb8-4980-497b-a7b2-c3f1ea9237a8: 399.66666666666663\n",
      "d83ee1b7-fc38-4ada-86af-aa35b9d09ed6: 1820.0\n",
      "03ef07f0-ac08-4436-84d8-d5c389dbe2ea: 739.5555555555555\n"
     ]
    }
   ],
   "source": [
    "from dasi.design import LibraryDesign\n",
    "from more_itertools import pairwise\n",
    "\n",
    "design = LibraryDesign(span_cost=span_cost)\n",
    "\n",
    "design.add_materials(primers=primers, templates=templates, queries=queries)\n",
    "\n",
    "design.compile_library()\n",
    "\n",
    "path_dict = design.optimize()\n",
    "path_dict\n",
    "\n",
    "for qk, graph in design.graphs.items():\n",
    "    cost = 0\n",
    "    for n1, n2 in pairwise(path_dict[qk][0]):\n",
    "        edata = graph[n1][n2]\n",
    "        cost += edata['weight']\n",
    "    print(\"{}: {}\".format(qk, cost))"
   ]
  },
  {
   "cell_type": "code",
   "execution_count": 5,
   "metadata": {},
   "outputs": [
    {
     "ename": "AttributeError",
     "evalue": "'LibraryDesign' object has no attribute 'compile_library'",
     "output_type": "error",
     "traceback": [
      "\u001b[0;31m---------------------------------------------------------------------------\u001b[0m",
      "\u001b[0;31mAttributeError\u001b[0m                            Traceback (most recent call last)",
      "\u001b[0;32m<ipython-input-5-5d9efb495800>\u001b[0m in \u001b[0;36m<module>\u001b[0;34m\u001b[0m\n\u001b[1;32m      5\u001b[0m \u001b[0mdesign\u001b[0m\u001b[0;34m.\u001b[0m\u001b[0madd_materials\u001b[0m\u001b[0;34m(\u001b[0m\u001b[0mprimers\u001b[0m\u001b[0;34m=\u001b[0m\u001b[0mprimers\u001b[0m\u001b[0;34m,\u001b[0m \u001b[0mtemplates\u001b[0m\u001b[0;34m=\u001b[0m\u001b[0mtemplates\u001b[0m\u001b[0;34m,\u001b[0m \u001b[0mqueries\u001b[0m\u001b[0;34m=\u001b[0m\u001b[0mqueries\u001b[0m\u001b[0;34m)\u001b[0m\u001b[0;34m\u001b[0m\u001b[0;34m\u001b[0m\u001b[0m\n\u001b[1;32m      6\u001b[0m \u001b[0;34m\u001b[0m\u001b[0m\n\u001b[0;32m----> 7\u001b[0;31m \u001b[0mdesign\u001b[0m\u001b[0;34m.\u001b[0m\u001b[0mcompile_library\u001b[0m\u001b[0;34m(\u001b[0m\u001b[0;34m)\u001b[0m\u001b[0;34m\u001b[0m\u001b[0;34m\u001b[0m\u001b[0m\n\u001b[0m\u001b[1;32m      8\u001b[0m \u001b[0mdf1\u001b[0m\u001b[0;34m,\u001b[0m \u001b[0mdf2\u001b[0m \u001b[0;34m=\u001b[0m \u001b[0mdesign\u001b[0m\u001b[0;34m.\u001b[0m\u001b[0mdesign\u001b[0m\u001b[0;34m(\u001b[0m\u001b[0;34m)\u001b[0m\u001b[0;34m\u001b[0m\u001b[0;34m\u001b[0m\u001b[0m\n\u001b[1;32m      9\u001b[0m \u001b[0mdf1\u001b[0m\u001b[0;34m\u001b[0m\u001b[0;34m\u001b[0m\u001b[0m\n",
      "\u001b[0;31mAttributeError\u001b[0m: 'LibraryDesign' object has no attribute 'compile_library'"
     ]
    }
   ],
   "source": [
    "from dasi.design import LibraryDesign\n",
    "\n",
    "design = LibraryDesign(span_cost=span_cost)\n",
    "\n",
    "design.add_materials(primers=primers, templates=templates, queries=queries)\n"
   ]
  },
  {
   "cell_type": "code",
   "execution_count": null,
   "metadata": {},
   "outputs": [],
   "source": [
    "design.co"
   ]
  },
  {
   "cell_type": "code",
   "execution_count": 82,
   "metadata": {},
   "outputs": [],
   "source": [
    "from dasi import Constants\n",
    "import networkx as nx\n",
    "from itertools import product\n",
    "from more_itertools import pairwise\n",
    "\n",
    "%matplotlib inline\n",
    "\n",
    "def alignment_to_nodes(align):\n",
    "    n1 = (align.query_key, align.query_region.a, align.query_region.b)\n",
    "    n2 = (align.subject_key, align.subject_region.a, align.subject_region.b)\n",
    "    return n1, n2\n",
    "\n",
    "# G = nx.Graph()\n",
    "# for k, v in non_repeat_interactions.items():\n",
    "#     for _v in v:\n",
    "#         G.add_edge(k, _v)\n",
    "G = nx.Graph()\n",
    "\n",
    "\n",
    "def get_subgraphs(graph):\n",
    "        \"\"\"Get independent subgraphs\"\"\"\n",
    "        node_list = list(graph.nodes)\n",
    "        subgraphs = []\n",
    "        while len(node_list) > 0:\n",
    "            node = node_list[-1]\n",
    "            if issubclass(type(graph), nx.DiGraph):\n",
    "                graph = to_undirected(graph)\n",
    "            subgraph = nx.bfs_tree(graph, node)\n",
    "            for n in subgraph.nodes:\n",
    "                node_list.remove(n)\n",
    "            subgraphs.append(graph.subgraph(subgraph.nodes))\n",
    "        return subgraphs\n",
    "\n",
    "def get_shared_edges(design):\n",
    "    G = nx.Graph()\n",
    "    for container in design.container_list():\n",
    "        alignments = container.get_alignments_by_types(Constants.SHARED_FRAGMENT)\n",
    "        for align in alignments:\n",
    "            qk = align.query_key\n",
    "            sk = align.subject_key\n",
    "            if qk != sk:\n",
    "                n1, n2 = alignment_to_nodes(align)\n",
    "                G.add_node(n1)\n",
    "                G.add_node(n2)\n",
    "                children =  list(nx.dfs_preorder_nodes(G, source=n1))\n",
    "                for n3 in children:\n",
    "                    if n1 != n3:\n",
    "                        G.add_edge(n2, n3)\n",
    "                G.add_edge(n1, n2)\n",
    "    \n",
    "    subgraphs = get_subgraphs(G)\n",
    "    edge_enumerations = []\n",
    "    all_edges = []\n",
    "    for subgraph in subgraphs:\n",
    "        edges = subgraph.edges()\n",
    "        all_edges += edges\n",
    "    return all_edges\n",
    "#     enumerations = product([0, 1], repeat=len(edges))\n",
    "#     print(\"Edges: \" + str(len(edges)))\n",
    "#     print(\"Enumerations: \" + str(len(list(enumerations))))\n",
    "\n",
    "\n",
    "def path_to_cost(path, graph):\n",
    "    cost = 0\n",
    "    for n1, n2 in pairwise(path):\n",
    "        edata = graph[n1][n2]\n",
    "        cost += edata['weight']\n",
    "    return cost\n",
    "\n",
    "def total_design_cost(design):\n",
    "    path_dict = design.optimize()\n",
    "    cost = 0\n",
    "    for qk, paths in path_dict.items():\n",
    "        path = paths[0]\n",
    "        graph = design.graphs[qk]\n",
    "        cost += path_to_cost(path, graph)\n",
    "    return cost\n",
    "\n",
    "\n",
    "\n",
    "# all_edges = get_shared_edges(design)\n",
    "\n",
    "# from copy import deepcopy\n",
    "\n",
    "# for qk, graph in design.graphs.items():\n",
    "#     # mask graph\n",
    "#     graph = deepcopy(graph)\n",
    "#     for n1, n2 in all_edges:\n",
    "#         if n1[0] == qk:\n",
    "#             node1 = (n1[1], True, 'A')\n",
    "#             node2 = (n1[2], True, 'B')\n",
    "#             try:\n",
    "#                 edata = graph[node1][node2]\n",
    "#                 edata\n",
    "#             except KeyError:\n",
    "#                 print(\"MISSING\")\n",
    "            \n",
    "# # nx.draw(G, node_size=10)"
   ]
  },
  {
   "cell_type": "code",
   "execution_count": 92,
   "metadata": {},
   "outputs": [
    {
     "name": "stderr",
     "output_type": "stream",
     "text": [
      "/Users/justinvrana/anaconda3/lib/python3.7/site-packages/pyblast/blast/blast.py:605: UserWarning: A circular query b2c6eaf7-ea8b-4176-8ac5-b72a57e5331b overlapped the origins\n",
      "  x, origin_key\n",
      "/Users/justinvrana/anaconda3/lib/python3.7/site-packages/pyblast/blast/blast.py:605: UserWarning: A circular subject b2c6eaf7-ea8b-4176-8ac5-b72a57e5331b overlapped the origins\n",
      "  x, origin_key\n",
      "/Users/justinvrana/anaconda3/lib/python3.7/site-packages/pyblast/blast/blast.py:605: UserWarning: A circular query 947822d3-b88b-47e8-b385-a67829e22056 overlapped the origins\n",
      "  x, origin_key\n",
      "/Users/justinvrana/anaconda3/lib/python3.7/site-packages/pyblast/blast/blast.py:605: UserWarning: A circular subject 947822d3-b88b-47e8-b385-a67829e22056 overlapped the origins\n",
      "  x, origin_key\n",
      "/Users/justinvrana/anaconda3/lib/python3.7/site-packages/pyblast/blast/blast.py:605: UserWarning: A circular query 1be089ae-2e3f-4a8d-a469-c0a893cebc51 overlapped the origins\n",
      "  x, origin_key\n",
      "/Users/justinvrana/anaconda3/lib/python3.7/site-packages/pyblast/blast/blast.py:605: UserWarning: A circular subject 1be089ae-2e3f-4a8d-a469-c0a893cebc51 overlapped the origins\n",
      "  x, origin_key\n",
      "/Users/justinvrana/anaconda3/lib/python3.7/site-packages/pyblast/blast/blast.py:605: UserWarning: A circular query 6b1c62ab-0f84-4a16-9f2c-9fe7f739539e overlapped the origins\n",
      "  x, origin_key\n",
      "/Users/justinvrana/anaconda3/lib/python3.7/site-packages/pyblast/blast/blast.py:605: UserWarning: A circular subject 6b1c62ab-0f84-4a16-9f2c-9fe7f739539e overlapped the origins\n",
      "  x, origin_key\n",
      "/Users/justinvrana/anaconda3/lib/python3.7/site-packages/pyblast/blast/blast.py:605: UserWarning: A circular query 8ce5b1da-0b2e-4bb0-aa2f-bdc1e2e5303e overlapped the origins\n",
      "  x, origin_key\n",
      "/Users/justinvrana/anaconda3/lib/python3.7/site-packages/pyblast/blast/blast.py:605: UserWarning: A circular subject 8ce5b1da-0b2e-4bb0-aa2f-bdc1e2e5303e overlapped the origins\n",
      "  x, origin_key\n"
     ]
    },
    {
     "name": "stdout",
     "output_type": "stream",
     "text": [
      "INFO - <class 'dasi.design.LibraryDesign'>(id=112118783784) - 2019-08-16 16:00:31,927 - Compiling assembly graph\n",
      "INFO - <class 'dasi.design.LibraryDesign'>(id=112118783784) - 2019-08-16 16:00:34,265 - Number of perfect primers: 378\n",
      "INFO - <class 'dasi.design.LibraryDesign'>(id=112118783784) - 2019-08-16 16:00:34,323 - === Expanding shared library fragments ===\n"
     ]
    },
    {
     "name": "stderr",
     "output_type": "stream",
     "text": [
      "/Users/justinvrana/anaconda3/lib/python3.7/site-packages/pyblast/blast/blast.py:605: UserWarning: A circular query 29bbaf31-da17-49e1-8ac9-3915af18ef5f overlapped the origins\n",
      "  x, origin_key\n",
      "/Users/justinvrana/anaconda3/lib/python3.7/site-packages/pyblast/blast/blast.py:605: UserWarning: A circular subject 29bbaf31-da17-49e1-8ac9-3915af18ef5f overlapped the origins\n",
      "  x, origin_key\n",
      "/Users/justinvrana/anaconda3/lib/python3.7/site-packages/pyblast/blast/blast.py:605: UserWarning: A circular query f493ed55-20ce-4191-a058-f99a1c3581ae overlapped the origins\n",
      "  x, origin_key\n",
      "/Users/justinvrana/anaconda3/lib/python3.7/site-packages/pyblast/blast/blast.py:605: UserWarning: A circular subject f493ed55-20ce-4191-a058-f99a1c3581ae overlapped the origins\n",
      "  x, origin_key\n",
      "/Users/justinvrana/anaconda3/lib/python3.7/site-packages/pyblast/blast/blast.py:605: UserWarning: A circular query 71ec6518-ffc1-46af-ba7c-1c0923e57537 overlapped the origins\n",
      "  x, origin_key\n",
      "/Users/justinvrana/anaconda3/lib/python3.7/site-packages/pyblast/blast/blast.py:605: UserWarning: A circular subject 71ec6518-ffc1-46af-ba7c-1c0923e57537 overlapped the origins\n",
      "  x, origin_key\n",
      "/Users/justinvrana/anaconda3/lib/python3.7/site-packages/pyblast/blast/blast.py:605: UserWarning: A circular query fabcd804-c5a3-4089-9f01-03924709cb47 overlapped the origins\n",
      "  x, origin_key\n",
      "/Users/justinvrana/anaconda3/lib/python3.7/site-packages/pyblast/blast/blast.py:605: UserWarning: A circular subject fabcd804-c5a3-4089-9f01-03924709cb47 overlapped the origins\n",
      "  x, origin_key\n",
      "/Users/justinvrana/anaconda3/lib/python3.7/site-packages/pyblast/blast/blast.py:605: UserWarning: A circular query 1e60dad8-447e-4025-bbbf-3b64fff9a7d8 overlapped the origins\n",
      "  x, origin_key\n",
      "/Users/justinvrana/anaconda3/lib/python3.7/site-packages/pyblast/blast/blast.py:605: UserWarning: A circular subject 1e60dad8-447e-4025-bbbf-3b64fff9a7d8 overlapped the origins\n",
      "  x, origin_key\n"
     ]
    },
    {
     "name": "stdout",
     "output_type": "stream",
     "text": [
      "INFO - <class 'dasi.design.LibraryDesign'>(id=112118783784) - 2019-08-16 16:00:34,512 - Found 67 shared alignments between the queries\n",
      "INFO - <class 'dasi.design.LibraryDesign'>(id=112118783784) - 2019-08-16 16:00:34,552 - 29bbaf31-da17-49e1-8ac9-3915af18ef5f: Expanded 44 shared from original 15 shared fragments\n",
      "INFO - <class 'dasi.design.LibraryDesign'>(id=112118783784) - 2019-08-16 16:00:34,574 - 29bbaf31-da17-49e1-8ac9-3915af18ef5f: Expanded PCR_PRODUCT using FRAGMENT_SHARED_WITH_OTHER_QUERIES and found 532 new alignments.\n",
      "INFO - <class 'dasi.design.LibraryDesign'>(id=112118783784) - 2019-08-16 16:00:34,604 - 29bbaf31-da17-49e1-8ac9-3915af18ef5f: Expanded 513 PRODUCTS_WITH_PRIMERS using FRAGMENT_SHARED_WITH_OTHER_QUERIES\n",
      "INFO - <class 'dasi.design.LibraryDesign'>(id=112118783784) - 2019-08-16 16:00:34,611 - f493ed55-20ce-4191-a058-f99a1c3581ae: Expanded 39 shared from original 12 shared fragments\n",
      "INFO - <class 'dasi.design.LibraryDesign'>(id=112118783784) - 2019-08-16 16:00:34,658 - f493ed55-20ce-4191-a058-f99a1c3581ae: Expanded PCR_PRODUCT using FRAGMENT_SHARED_WITH_OTHER_QUERIES and found 1475 new alignments.\n",
      "INFO - <class 'dasi.design.LibraryDesign'>(id=112118783784) - 2019-08-16 16:00:34,675 - f493ed55-20ce-4191-a058-f99a1c3581ae: Expanded 614 PRODUCTS_WITH_PRIMERS using FRAGMENT_SHARED_WITH_OTHER_QUERIES\n",
      "INFO - <class 'dasi.design.LibraryDesign'>(id=112118783784) - 2019-08-16 16:00:34,679 - 71ec6518-ffc1-46af-ba7c-1c0923e57537: Expanded 0 shared from original 1 shared fragments\n",
      "INFO - <class 'dasi.design.LibraryDesign'>(id=112118783784) - 2019-08-16 16:00:34,690 - 71ec6518-ffc1-46af-ba7c-1c0923e57537: Expanded PCR_PRODUCT using FRAGMENT_SHARED_WITH_OTHER_QUERIES and found 386 new alignments.\n",
      "INFO - <class 'dasi.design.LibraryDesign'>(id=112118783784) - 2019-08-16 16:00:34,771 - 71ec6518-ffc1-46af-ba7c-1c0923e57537: Expanded 3743 PRODUCTS_WITH_PRIMERS using FRAGMENT_SHARED_WITH_OTHER_QUERIES\n",
      "INFO - <class 'dasi.design.LibraryDesign'>(id=112118783784) - 2019-08-16 16:00:34,775 - fabcd804-c5a3-4089-9f01-03924709cb47: Expanded 58 shared from original 11 shared fragments\n",
      "INFO - <class 'dasi.design.LibraryDesign'>(id=112118783784) - 2019-08-16 16:00:34,797 - fabcd804-c5a3-4089-9f01-03924709cb47: Expanded PCR_PRODUCT using FRAGMENT_SHARED_WITH_OTHER_QUERIES and found 658 new alignments.\n",
      "INFO - <class 'dasi.design.LibraryDesign'>(id=112118783784) - 2019-08-16 16:00:34,819 - fabcd804-c5a3-4089-9f01-03924709cb47: Expanded 492 PRODUCTS_WITH_PRIMERS using FRAGMENT_SHARED_WITH_OTHER_QUERIES\n",
      "INFO - <class 'dasi.design.LibraryDesign'>(id=112118783784) - 2019-08-16 16:00:34,823 - 1e60dad8-447e-4025-bbbf-3b64fff9a7d8: Expanded 0 shared from original 2 shared fragments\n",
      "INFO - <class 'dasi.design.LibraryDesign'>(id=112118783784) - 2019-08-16 16:00:34,830 - 1e60dad8-447e-4025-bbbf-3b64fff9a7d8: Expanded PCR_PRODUCT using FRAGMENT_SHARED_WITH_OTHER_QUERIES and found 216 new alignments.\n",
      "INFO - <class 'dasi.design.LibraryDesign'>(id=112118783784) - 2019-08-16 16:00:34,844 - 1e60dad8-447e-4025-bbbf-3b64fff9a7d8: Expanded 496 PRODUCTS_WITH_PRIMERS using FRAGMENT_SHARED_WITH_OTHER_QUERIES\n",
      "INFO - <class 'dasi.design.LibraryDesign'>(id=112118783784) - 2019-08-16 16:00:34,853 - 23 shared fragments for 29bbaf31-da17-49e1-8ac9-3915af18ef5f\n",
      "INFO - <class 'dasi.design.LibraryDesign'>(id=112118783784) - 2019-08-16 16:00:34,857 - 21 shared fragments for f493ed55-20ce-4191-a058-f99a1c3581ae\n",
      "INFO - <class 'dasi.design.LibraryDesign'>(id=112118783784) - 2019-08-16 16:00:34,859 - 1 shared fragments for 71ec6518-ffc1-46af-ba7c-1c0923e57537\n",
      "INFO - <class 'dasi.design.LibraryDesign'>(id=112118783784) - 2019-08-16 16:00:34,861 - 20 shared fragments for fabcd804-c5a3-4089-9f01-03924709cb47\n",
      "INFO - <class 'dasi.design.LibraryDesign'>(id=112118783784) - 2019-08-16 16:00:34,864 - 2 shared fragments for 1e60dad8-447e-4025-bbbf-3b64fff9a7d8\n"
     ]
    },
    {
     "name": "stderr",
     "output_type": "stream",
     "text": []
    },
    {
     "name": "stdout",
     "output_type": "stream",
     "text": [
      "INFO - <class 'dasi.design.LibraryDesign'>(id=112118783784) - 2019-08-16 16:00:34,896 - Number of types: 7\n"
     ]
    },
    {
     "name": "stderr",
     "output_type": "stream",
     "text": []
    },
    {
     "name": "stdout",
     "output_type": "stream",
     "text": [
      "INFO - <class 'dasi.design.LibraryDesign'>(id=112118783784) - 2019-08-16 16:00:34,901 - Number of groups: 257\n"
     ]
    },
    {
     "name": "stderr",
     "output_type": "stream",
     "text": []
    },
    {
     "name": "stdout",
     "output_type": "stream",
     "text": [
      "INFO - <class 'dasi.design.LibraryDesign'>(id=112118783784) - 2019-08-16 16:00:35,026 - === Assembly Graph ===\n"
     ]
    },
    {
     "name": "stderr",
     "output_type": "stream",
     "text": []
    },
    {
     "name": "stdout",
     "output_type": "stream",
     "text": [
      "INFO - <class 'dasi.design.LibraryDesign'>(id=112118783784) - 2019-08-16 16:00:35,034 - Name: Assembly Graph\n",
      "Type: DiGraph\n",
      "Number of nodes: 118\n",
      "Number of edges: 1406\n",
      "Average in degree:  11.9153\n",
      "Average out degree:  11.9153\n"
     ]
    },
    {
     "name": "stderr",
     "output_type": "stream",
     "text": []
    },
    {
     "name": "stdout",
     "output_type": "stream",
     "text": [
      "INFO - <class 'dasi.design.LibraryDesign'>(id=112118783784) - 2019-08-16 16:00:35,099 - Number of types: 7\n"
     ]
    },
    {
     "name": "stderr",
     "output_type": "stream",
     "text": []
    },
    {
     "name": "stdout",
     "output_type": "stream",
     "text": [
      "INFO - <class 'dasi.design.LibraryDesign'>(id=112118783784) - 2019-08-16 16:00:35,103 - Number of groups: 317\n"
     ]
    },
    {
     "name": "stderr",
     "output_type": "stream",
     "text": []
    },
    {
     "name": "stdout",
     "output_type": "stream",
     "text": [
      "INFO - <class 'dasi.design.LibraryDesign'>(id=112118783784) - 2019-08-16 16:00:35,199 - === Assembly Graph ===\n"
     ]
    },
    {
     "name": "stderr",
     "output_type": "stream",
     "text": []
    },
    {
     "name": "stdout",
     "output_type": "stream",
     "text": [
      "INFO - <class 'dasi.design.LibraryDesign'>(id=112118783784) - 2019-08-16 16:00:35,204 - Name: Assembly Graph\n",
      "Type: DiGraph\n",
      "Number of nodes: 134\n",
      "Number of edges: 1651\n",
      "Average in degree:  12.3209\n",
      "Average out degree:  12.3209\n"
     ]
    },
    {
     "name": "stderr",
     "output_type": "stream",
     "text": []
    },
    {
     "name": "stdout",
     "output_type": "stream",
     "text": [
      "INFO - <class 'dasi.design.LibraryDesign'>(id=112118783784) - 2019-08-16 16:00:35,333 - Number of types: 7\n"
     ]
    },
    {
     "name": "stderr",
     "output_type": "stream",
     "text": []
    },
    {
     "name": "stdout",
     "output_type": "stream",
     "text": [
      "INFO - <class 'dasi.design.LibraryDesign'>(id=112118783784) - 2019-08-16 16:00:35,342 - Number of groups: 600\n"
     ]
    },
    {
     "name": "stderr",
     "output_type": "stream",
     "text": []
    },
    {
     "name": "stdout",
     "output_type": "stream",
     "text": [
      "INFO - <class 'dasi.design.LibraryDesign'>(id=112118783784) - 2019-08-16 16:00:35,440 - === Assembly Graph ===\n"
     ]
    },
    {
     "name": "stderr",
     "output_type": "stream",
     "text": []
    },
    {
     "name": "stdout",
     "output_type": "stream",
     "text": [
      "INFO - <class 'dasi.design.LibraryDesign'>(id=112118783784) - 2019-08-16 16:00:35,446 - Name: Assembly Graph\n",
      "Type: DiGraph\n",
      "Number of nodes: 115\n",
      "Number of edges: 1521\n",
      "Average in degree:  13.2261\n",
      "Average out degree:  13.2261\n"
     ]
    },
    {
     "name": "stderr",
     "output_type": "stream",
     "text": []
    },
    {
     "name": "stdout",
     "output_type": "stream",
     "text": [
      "INFO - <class 'dasi.design.LibraryDesign'>(id=112118783784) - 2019-08-16 16:00:35,476 - Number of types: 7\n"
     ]
    },
    {
     "name": "stderr",
     "output_type": "stream",
     "text": []
    },
    {
     "name": "stdout",
     "output_type": "stream",
     "text": [
      "INFO - <class 'dasi.design.LibraryDesign'>(id=112118783784) - 2019-08-16 16:00:35,481 - Number of groups: 258\n"
     ]
    },
    {
     "name": "stderr",
     "output_type": "stream",
     "text": []
    },
    {
     "name": "stdout",
     "output_type": "stream",
     "text": [
      "INFO - <class 'dasi.design.LibraryDesign'>(id=112118783784) - 2019-08-16 16:00:35,560 - === Assembly Graph ===\n"
     ]
    },
    {
     "name": "stderr",
     "output_type": "stream",
     "text": []
    },
    {
     "name": "stdout",
     "output_type": "stream",
     "text": [
      "INFO - <class 'dasi.design.LibraryDesign'>(id=112118783784) - 2019-08-16 16:00:35,569 - Name: Assembly Graph\n",
      "Type: DiGraph\n",
      "Number of nodes: 125\n",
      "Number of edges: 1524\n",
      "Average in degree:  12.1920\n",
      "Average out degree:  12.1920\n"
     ]
    },
    {
     "name": "stderr",
     "output_type": "stream",
     "text": []
    },
    {
     "name": "stdout",
     "output_type": "stream",
     "text": [
      "INFO - <class 'dasi.design.LibraryDesign'>(id=112118783784) - 2019-08-16 16:00:35,633 - Number of types: 7\n"
     ]
    },
    {
     "name": "stderr",
     "output_type": "stream",
     "text": []
    },
    {
     "name": "stdout",
     "output_type": "stream",
     "text": [
      "INFO - <class 'dasi.design.LibraryDesign'>(id=112118783784) - 2019-08-16 16:00:35,639 - Number of groups: 247\n"
     ]
    },
    {
     "name": "stderr",
     "output_type": "stream",
     "text": []
    },
    {
     "name": "stdout",
     "output_type": "stream",
     "text": [
      "INFO - <class 'dasi.design.LibraryDesign'>(id=112118783784) - 2019-08-16 16:00:35,702 - === Assembly Graph ===\n"
     ]
    },
    {
     "name": "stderr",
     "output_type": "stream",
     "text": []
    },
    {
     "name": "stdout",
     "output_type": "stream",
     "text": [
      "INFO - <class 'dasi.design.LibraryDesign'>(id=112118783784) - 2019-08-16 16:00:35,707 - Name: Assembly Graph\n",
      "Type: DiGraph\n",
      "Number of nodes: 79\n",
      "Number of edges: 949\n",
      "Average in degree:  12.0127\n",
      "Average out degree:  12.0127\n"
     ]
    },
    {
     "name": "stderr",
     "output_type": "stream",
     "text": [
      "INFO     compiling all containers: 100%|██████████| 5/5 [00:00<00:00,  6.28it/s]\n"
     ]
    }
   ],
   "source": [
    "from dasi.design import LibraryDesign\n",
    "\n",
    "design1 = LibraryDesign(span_cost=span_cost)\n",
    "design2 = LibraryDesign(span_cost=span_cost)\n",
    "design1.add_materials(primers=primers, templates=templates, queries=queries)\n",
    "design2.add_materials(primers=primers, templates=templates, queries=queries)\n",
    "\n",
    "design1.compile_library()\n",
    "design2.logger.set_level(\"INFO\")\n",
    "design2.compile_library()"
   ]
  },
  {
   "cell_type": "code",
   "execution_count": 91,
   "metadata": {},
   "outputs": [
    {
     "name": "stdout",
     "output_type": "stream",
     "text": [
      "15\n",
      "12\n",
      "1\n",
      "11\n",
      "2\n"
     ]
    }
   ],
   "source": [
    "for qk, graph in design2.graphs.items():\n",
    "    container = design2.container_factory.containers()[qk]\n",
    "    \n",
    "    groups = container.get_groups_by_types(Constants.SHARED_FRAGMENT)\n",
    "    print(len(groups))"
   ]
  },
  {
   "cell_type": "code",
   "execution_count": 84,
   "metadata": {},
   "outputs": [
    {
     "name": "stdout",
     "output_type": "stream",
     "text": [
      "(7330, True, 'A') (7364, True, 'B')\n",
      "found\n",
      "(7330, True, 'A') (7364, True, 'B')\n",
      "found\n",
      "(7330, True, 'A') (7364, True, 'B')\n",
      "found\n",
      "(3228, True, 'A') (7009, True, 'B')\n",
      "Missing\n",
      "(4355, True, 'A') (8136, True, 'B')\n",
      "Missing\n",
      "(8792, True, 'A') (3759, True, 'B')\n",
      "Missing\n",
      "(0, True, 'A') (3605, True, 'B')\n",
      "Missing\n",
      "(3759, True, 'A') (7364, True, 'B')\n",
      "Missing\n",
      "(4377, True, 'A') (8136, True, 'B')\n",
      "Missing\n",
      "(0, True, 'A') (3759, True, 'B')\n",
      "Missing\n",
      "(4377, True, 'A') (3605, True, 'B')\n",
      "Missing\n",
      "(0, True, 'A') (7364, True, 'B')\n",
      "Missing\n",
      "(8792, True, 'A') (7364, True, 'B')\n",
      "Missing\n",
      "(8792, True, 'A') (7364, True, 'B')\n",
      "Missing\n",
      "(3206, True, 'A') (3250, True, 'B')\n",
      "Missing\n",
      "(8770, True, 'A') (8814, True, 'B')\n",
      "found\n",
      "(3250, True, 'A') (8100, True, 'B')\n",
      "Missing\n",
      "(0, True, 'A') (4850, True, 'B')\n",
      "Missing\n",
      "(3206, True, 'A') (8100, True, 'B')\n",
      "Missing\n",
      "(8770, True, 'A') (4850, True, 'B')\n",
      "Missing\n",
      "(4954, True, 'A') (5031, True, 'B')\n",
      "Missing\n",
      "(4954, True, 'A') (5031, True, 'B')\n",
      "Missing\n",
      "(3984, True, 'A') (4061, True, 'B')\n",
      "Missing\n",
      "(3984, True, 'A') (4061, True, 'B')\n",
      "Missing\n",
      "(734, True, 'A') (811, True, 'B')\n",
      "found\n",
      "(734, True, 'A') (811, True, 'B')\n",
      "found\n",
      "(734, True, 'A') (811, True, 'B')\n",
      "found\n",
      "(734, True, 'A') (811, True, 'B')\n",
      "found\n",
      "(5111, True, 'A') (5188, True, 'B')\n",
      "Missing\n",
      "(3827, True, 'A') (3904, True, 'B')\n",
      "Missing\n",
      "(577, True, 'A') (654, True, 'B')\n",
      "found\n",
      "(858, True, 'A') (1041, True, 'B')\n",
      "found\n",
      "(858, True, 'A') (1041, True, 'B')\n",
      "found\n",
      "(858, True, 'A') (1041, True, 'B')\n",
      "found\n",
      "(858, True, 'A') (1041, True, 'B')\n",
      "found\n",
      "(858, True, 'A') (1041, True, 'B')\n",
      "found\n",
      "(858, True, 'A') (1041, True, 'B')\n",
      "found\n",
      "(755, True, 'A') (938, True, 'B')\n",
      "Missing\n",
      "(4108, True, 'A') (4291, True, 'B')\n",
      "Missing\n",
      "(5235, True, 'A') (5418, True, 'B')\n",
      "Missing\n",
      "(4514, True, 'A') (4697, True, 'B')\n",
      "found\n",
      "(4514, True, 'A') (4697, True, 'B')\n",
      "found\n",
      "(0, True, 'A') (466, True, 'B')\n",
      "Missing\n",
      "(7330, True, 'A') (7364, True, 'B')\n",
      "Missing\n",
      "(2480, True, 'A') (2514, True, 'B')\n",
      "Missing\n",
      "(3571, True, 'A') (3605, True, 'B')\n",
      "found\n",
      "(0, True, 'A') (1091, True, 'B')\n",
      "Missing\n",
      "(0, True, 'A') (1091, True, 'B')\n",
      "Missing\n",
      "(3228, True, 'A') (7009, True, 'B')\n",
      "Missing\n",
      "(4355, True, 'A') (8136, True, 'B')\n",
      "Missing\n",
      "(4355, True, 'A') (8136, True, 'B')\n",
      "Missing\n",
      "(4355, True, 'A') (1091, True, 'B')\n",
      "Missing\n",
      "(4355, True, 'A') (1091, True, 'B')\n",
      "Missing\n",
      "(0, True, 'A') (3605, True, 'B')\n",
      "Missing\n",
      "(4377, True, 'A') (8136, True, 'B')\n",
      "Missing\n",
      "(4377, True, 'A') (3605, True, 'B')\n",
      "Missing\n",
      "(8792, True, 'A') (7364, True, 'B')\n",
      "Missing\n",
      "(4954, True, 'A') (5031, True, 'B')\n",
      "found\n",
      "(4954, True, 'A') (5031, True, 'B')\n",
      "found\n",
      "(4954, True, 'A') (5031, True, 'B')\n",
      "found\n",
      "(4954, True, 'A') (5031, True, 'B')\n",
      "found\n",
      "(4954, True, 'A') (5031, True, 'B')\n",
      "found\n",
      "(4954, True, 'A') (5031, True, 'B')\n",
      "found\n",
      "(3984, True, 'A') (4061, True, 'B')\n",
      "Missing\n",
      "(734, True, 'A') (811, True, 'B')\n",
      "Missing\n",
      "(5111, True, 'A') (5188, True, 'B')\n",
      "found\n",
      "(5111, True, 'A') (5188, True, 'B')\n",
      "found\n",
      "(5111, True, 'A') (5188, True, 'B')\n",
      "found\n",
      "(858, True, 'A') (1041, True, 'B')\n",
      "Missing\n",
      "(858, True, 'A') (1041, True, 'B')\n",
      "Missing\n",
      "(755, True, 'A') (938, True, 'B')\n",
      "found\n",
      "(755, True, 'A') (938, True, 'B')\n",
      "found\n",
      "(755, True, 'A') (938, True, 'B')\n",
      "found\n",
      "(755, True, 'A') (938, True, 'B')\n",
      "found\n",
      "(755, True, 'A') (938, True, 'B')\n",
      "found\n",
      "(4108, True, 'A') (4291, True, 'B')\n",
      "Missing\n",
      "(5235, True, 'A') (5418, True, 'B')\n",
      "found\n",
      "(5235, True, 'A') (5418, True, 'B')\n",
      "found\n",
      "(5235, True, 'A') (5418, True, 'B')\n",
      "found\n",
      "(0, True, 'A') (466, True, 'B')\n",
      "Missing\n",
      "(7330, True, 'A') (7364, True, 'B')\n",
      "Missing\n",
      "(2480, True, 'A') (2514, True, 'B')\n",
      "Missing\n",
      "(0, True, 'A') (1091, True, 'B')\n",
      "Missing\n",
      "(3228, True, 'A') (7009, True, 'B')\n",
      "Missing\n",
      "(3228, True, 'A') (7009, True, 'B')\n",
      "Missing\n",
      "(4355, True, 'A') (1091, True, 'B')\n",
      "Missing\n",
      "(3206, True, 'A') (3250, True, 'B')\n",
      "Missing\n",
      "(3250, True, 'A') (8100, True, 'B')\n",
      "Missing\n",
      "(3206, True, 'A') (8100, True, 'B')\n",
      "Missing\n",
      "(4954, True, 'A') (5031, True, 'B')\n",
      "Missing\n",
      "(4954, True, 'A') (5031, True, 'B')\n",
      "Missing\n",
      "(3984, True, 'A') (4061, True, 'B')\n",
      "found\n",
      "(3984, True, 'A') (4061, True, 'B')\n",
      "found\n",
      "(3984, True, 'A') (4061, True, 'B')\n",
      "found\n",
      "(3984, True, 'A') (4061, True, 'B')\n",
      "found\n",
      "(3984, True, 'A') (4061, True, 'B')\n",
      "found\n",
      "(734, True, 'A') (811, True, 'B')\n",
      "Missing\n",
      "(5111, True, 'A') (5188, True, 'B')\n",
      "Missing\n",
      "(3827, True, 'A') (3904, True, 'B')\n",
      "found\n",
      "(858, True, 'A') (1041, True, 'B')\n",
      "Missing\n",
      "(858, True, 'A') (1041, True, 'B')\n",
      "Missing\n",
      "(755, True, 'A') (938, True, 'B')\n",
      "Missing\n",
      "(755, True, 'A') (938, True, 'B')\n",
      "Missing\n",
      "(4108, True, 'A') (4291, True, 'B')\n",
      "found\n",
      "(4108, True, 'A') (4291, True, 'B')\n",
      "found\n",
      "(4108, True, 'A') (4291, True, 'B')\n",
      "found\n",
      "(4108, True, 'A') (4291, True, 'B')\n",
      "found\n",
      "(5235, True, 'A') (5418, True, 'B')\n",
      "Missing\n",
      "(4514, True, 'A') (4697, True, 'B')\n",
      "Missing\n",
      "7665.722222222223\n",
      "7665.722222222223\n"
     ]
    }
   ],
   "source": [
    "all_edges = get_shared_edges(design2)\n",
    "\n",
    "from copy import deepcopy\n",
    "\n",
    "for qk, graph in design2.graphs.items():\n",
    "    for n1, n2 in all_edges:\n",
    "        if n1[0] == qk or n2[0] == qk:\n",
    "            node1 = (n1[1], True, 'A')\n",
    "            node2 = (n1[2], True, 'B')\n",
    "            \n",
    "            print(node1, node2)\n",
    "            try:\n",
    "                edata = graph[node1][node2]\n",
    "                edata['weight'] = 0\n",
    "                print(\"found\")\n",
    "            except KeyError:\n",
    "                print(\"Missing\")\n",
    "            \n",
    "print(total_design_cost(design1))\n",
    "print(total_design_cost(design2))"
   ]
  },
  {
   "cell_type": "code",
   "execution_count": 80,
   "metadata": {},
   "outputs": [
    {
     "data": {
      "text/plain": [
       "[<dasi.AlignmentContainer at 0x1a18fa55c0>,\n",
       " <dasi.AlignmentContainer at 0x1a1a8421d0>,\n",
       " <dasi.AlignmentContainer at 0x1a1a842470>,\n",
       " <dasi.AlignmentContainer at 0x1a1a8424a8>,\n",
       " <dasi.AlignmentContainer at 0x1a1ace7cf8>]"
      ]
     },
     "execution_count": 80,
     "metadata": {},
     "output_type": "execute_result"
    }
   ],
   "source": [
    "design1.container_list()"
   ]
  },
  {
   "cell_type": "code",
   "execution_count": 71,
   "metadata": {},
   "outputs": [
    {
     "data": {
      "text/plain": [
       "7665.722222222223"
      ]
     },
     "execution_count": 71,
     "metadata": {},
     "output_type": "execute_result"
    }
   ],
   "source": [
    "total_design_cost(design2)"
   ]
  },
  {
   "cell_type": "code",
   "execution_count": 8,
   "metadata": {},
   "outputs": [
    {
     "data": {
      "image/png": "[encoded data removed]",
      "text/plain": [
       "<Figure size 432x288 with 1 Axes>"
      ]
     },
     "metadata": {},
     "output_type": "display_data"
    }
   ],
   "source": [
    "import networkx as nx\n",
    "from itertools import product\n",
    "\n",
    "def find(a, b, alignments):\n",
    "    for align in alignments:\n",
    "        if a == align.query_region.a and b == align.query_region.b:\n",
    "            yield align\n",
    "\n",
    "            \n",
    "G = nx.MultiGraph()\n",
    "\n",
    "repeats = []\n",
    "\n",
    "for r in design.shared_alignments:\n",
    "    qk = r['query']['origin_key']\n",
    "    sk = r['subject']['origin_key']\n",
    "    if qk == sk:\n",
    "        repeats.append((qk, r['query']['start'], r['query']['end']))\n",
    "\n",
    "non_repeat_interactions = {}\n",
    "\n",
    "for r in design.shared_alignments:\n",
    "    qk = r['query']['origin_key']\n",
    "    sk = r['subject']['origin_key']\n",
    "    \n",
    "    if qk != sk:\n",
    "        n1 = (sk, r['subject']['start'], r['subject']['end'])\n",
    "        n2 = (qk, r['query']['start'], r['query']['end'])\n",
    "        if n1 not in repeats and n2 not in repeats:\n",
    "            query = design.container_factory.seqdb[qk]\n",
    "            subject = design.container_factory.seqdb[sk]\n",
    "            \n",
    "            s1, e1 = r['query']['start'], r['query']['end']\n",
    "            s2, e2 = r['subject']['start'], r['subject']['end']\n",
    "            \n",
    "            non_repeat_interactions.setdefault(n1, set()).add(n2)\n",
    "            non_repeat_interactions.setdefault(n2, set()).add(n1)\n",
    "\n",
    "G = nx.Graph()\n",
    "for k, v in non_repeat_interactions.items():\n",
    "    for _v in v:\n",
    "        G.add_edge(k, _v)\n",
    "        \n",
    "%matplotlib inline\n",
    "\n",
    "nx.draw(G)\n",
    "#             print(r['subject']['start'], r['subject']['end'])\n",
    "#             print(query.name, subject.name)"
   ]
  },
  {
   "cell_type": "code",
   "execution_count": 33,
   "metadata": {},
   "outputs": [
    {
     "data": {
      "text/plain": [
       "dasi.AlignmentContainer"
      ]
     },
     "execution_count": 33,
     "metadata": {},
     "output_type": "execute_result"
    }
   ],
   "source": [
    "from dasi import AlignmentContainer\n",
    "\n",
    "AlignmentContainer()"
   ]
  },
  {
   "cell_type": "code",
   "execution_count": 6,
   "metadata": {},
   "outputs": [
    {
     "data": {
      "text/plain": [
       "[SeqRecord(seq=Seq('AGTAATAGTGACTATGTTGCTCCTTTTACGCTATGTGGATACGCTGCTTTAATG...TCA', IUPACAmbiguousDNA()), id='pLKO-pEF1a-FRT-tdTomato', name='pLKO-pEF1a-FRT-tdTomato', description='', dbxrefs=[]),\n",
       " SeqRecord(seq=Seq('TCGCGCGTTTCGGTGATGACGGTGAAAACCTCTGACACATGCAGCTCCCGGAGA...GTC', IUPACAmbiguousDNA()), id='pMODKan-HO-pACT1-Z4-', name='pMODKan-HO-pACT1-Z4-', description='', dbxrefs=[]),\n",
       " SeqRecord(seq=Seq('GCCGATACGAAGGTTTTCTCCAGCGAAGGTCGGGCAGGAAGAGGGCCTATTTCC...TGC', IUPACAmbiguousDNA()), id='pINS-01-hU6-SV40.NT1-op', name='pINS-01-hU6-SV40.NT1-op', description='', dbxrefs=[])]"
      ]
     },
     "execution_count": 6,
     "metadata": {},
     "output_type": "execute_result"
    }
   ],
   "source": [
    "queries"
   ]
  },
  {
   "cell_type": "code",
   "execution_count": 10,
   "metadata": {},
   "outputs": [],
   "source": [
    "for i in range(200):\n",
    "    for g in design.graphs.values():\n",
    "        nodelist = list(g.nodes())\n",
    "        nx.floyd_warshall_numpy(g, nodelist=nodelist, weight='weight')"
   ]
  },
  {
   "cell_type": "code",
   "execution_count": 12,
   "metadata": {},
   "outputs": [
    {
     "name": "stdout",
     "output_type": "stream",
     "text": [
      "CMD: makeblastdb -dbtype nucl -title 3d8bacc7-bade-4027-b482-d960228270db -out /var/folders/hl/pff9rjpd5jx73ylds97m2hww0000gn/T/tmpxs_z4hlp/3d8bacc7-bade-4027-b482-d960228270db -in /var/folders/hl/pff9rjpd5jx73ylds97m2hww0000gn/T/tmpxeb9j68w.fasta\n",
      "CMD: blastn -db /var/folders/hl/pff9rjpd5jx73ylds97m2hww0000gn/T/tmpxs_z4hlp/3d8bacc7-bade-4027-b482-d960228270db -out /var/folders/hl/pff9rjpd5jx73ylds97m2hww0000gn/T/tmpxs_z4hlp/tmpigw0bmmw -query /var/folders/hl/pff9rjpd5jx73ylds97m2hww0000gn/T/tmpql37_lej.fasta -outfmt \"7 qacc sacc score evalue bitscore length nident gapopen gaps qlen qstart qend slen sstart send sstrand qseq sseq\"\n",
      "CMD: makeblastdb -dbtype nucl -title 084292af-5ab1-4f8f-8738-c79e4c8a1fac -out /var/folders/hl/pff9rjpd5jx73ylds97m2hww0000gn/T/tmpzicbbq87/084292af-5ab1-4f8f-8738-c79e4c8a1fac -in /var/folders/hl/pff9rjpd5jx73ylds97m2hww0000gn/T/tmptupf1p9o.fasta\n",
      "CMD: blastn -db /var/folders/hl/pff9rjpd5jx73ylds97m2hww0000gn/T/tmpzicbbq87/084292af-5ab1-4f8f-8738-c79e4c8a1fac -out /var/folders/hl/pff9rjpd5jx73ylds97m2hww0000gn/T/tmpzicbbq87/tmpg4iwidw0 -query /var/folders/hl/pff9rjpd5jx73ylds97m2hww0000gn/T/tmpzqapt6jq.fasta -outfmt \"7 qacc sacc score evalue bitscore length nident gapopen gaps qlen qstart qend slen sstart send sstrand qseq sseq\" -task blastn-short\n"
     ]
    },
    {
     "ename": "AttributeError",
     "evalue": "'Design' object has no attribute '_edges'",
     "output_type": "error",
     "traceback": [
      "\u001b[0;31m---------------------------------------------------------------------------\u001b[0m",
      "\u001b[0;31mAttributeError\u001b[0m                            Traceback (most recent call last)",
      "\u001b[0;32m<ipython-input-12-4362d350e210>\u001b[0m in \u001b[0;36m<module>\u001b[0;34m\u001b[0m\n\u001b[1;32m      4\u001b[0m \u001b[0;34m\u001b[0m\u001b[0m\n\u001b[1;32m      5\u001b[0m \u001b[0mdesign\u001b[0m\u001b[0;34m.\u001b[0m\u001b[0mcompile\u001b[0m\u001b[0;34m(\u001b[0m\u001b[0;34m)\u001b[0m\u001b[0;34m\u001b[0m\u001b[0;34m\u001b[0m\u001b[0m\n\u001b[0;32m----> 6\u001b[0;31m \u001b[0mdesign\u001b[0m\u001b[0;34m.\u001b[0m\u001b[0m_edges\u001b[0m\u001b[0;34m\u001b[0m\u001b[0;34m\u001b[0m\u001b[0m\n\u001b[0m",
      "\u001b[0;31mAttributeError\u001b[0m: 'Design' object has no attribute '_edges'"
     ]
    }
   ],
   "source": [
    "design = Design(span_cost=span_cost)\n",
    "\n",
    "design.add_materials(primers=primers, templates=templates, queries=queries)\n",
    "\n",
    "design.compile()\n",
    "design._edges"
   ]
  },
  {
   "cell_type": "code",
   "execution_count": null,
   "metadata": {},
   "outputs": [],
   "source": []
  }
 ],
 "metadata": {
  "kernelspec": {
   "display_name": "Python 3",
   "language": "python",
   "name": "python3"
  },
  "language_info": {
   "codemirror_mode": {
    "name": "ipython",
    "version": 3
   },
   "file_extension": ".py",
   "mimetype": "text/x-python",
   "name": "python",
   "nbconvert_exporter": "python",
   "pygments_lexer": "ipython3",
   "version": "3.7.3"
  }
 },
 "nbformat": 4,
 "nbformat_minor": 2
}
