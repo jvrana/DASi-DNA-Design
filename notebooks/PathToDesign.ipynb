{
 "cells": [
  {
   "cell_type": "code",
   "execution_count": 1,
   "metadata": {},
   "outputs": [],
   "source": [
    "from dasi.design import Design\n",
    "\n",
    "import warnings\n",
    "\n",
    "from Bio import BiopythonParserWarning\n",
    "warnings.simplefilter('ignore', BiopythonParserWarning)"
   ]
  },
  {
   "cell_type": "code",
   "execution_count": 2,
   "metadata": {},
   "outputs": [
    {
     "name": "stderr",
     "output_type": "stream",
     "text": [
      "/Users/justinvrana/Documents/GitHub/DASi-DNA-Design/dasi/cost/__init__.py:132: RuntimeWarning: divide by zero encountered in true_divide\n",
      "  self.cost_matrix = (m * CostParams.material + t * CostParams.time) * 1.0 / e\n"
     ]
    }
   ],
   "source": [
    "from dasi.design import Design\n",
    "from pyblast.utils import load_fasta_glob, load_genbank_glob, make_circular, make_linear\n",
    "from dasi.cost import SpanCost\n",
    "from os.path import join\n",
    "\n",
    "span_cost = SpanCost()\n",
    "\n",
    "\n",
    "here = '../tests'\n",
    "query = '*.gb'\n",
    "paths = {\n",
    "        'primers': join(here, \"data/test_data/primers/primers.fasta\"),\n",
    "        'templates': join(here, \"data/test_data/genbank/templates/*.gb\"),\n",
    "        'queries': join(\n",
    "            'tests', \"data/test_data/genbank/designs/*.gb\"\n",
    "        ),\n",
    "    }\n",
    "primers = make_linear(load_fasta_glob(paths[\"primers\"]))\n",
    "templates = load_genbank_glob(paths[\"templates\"])\n",
    "\n",
    "query_path = join(here, 'data/test_data/genbank/designs', query)\n",
    "queries = make_circular(load_genbank_glob(query_path))"
   ]
  },
  {
   "cell_type": "code",
   "execution_count": 6,
   "metadata": {},
   "outputs": [
    {
     "name": "stdout",
     "output_type": "stream",
     "text": [
      "INFO - <class 'dasi.design.Design'>(id=112445688408) - 2019-09-01 08:32:51,992 - Compiling assembly graph\n",
      "INFO - <class 'dasi.design.Design'>(id=112445688408) - 2019-09-01 08:32:52,952 - Number of template matches: 600\n",
      "INFO - <class 'dasi.design.Design'>(id=112445688408) - 2019-09-01 08:32:52,954 - Number of perfect fragment matches: 0\n",
      "INFO - <class 'dasi.design.Design'>(id=112445688408) - 2019-09-01 08:32:54,334 - Number of perfect primers: 439\n"
     ]
    },
    {
     "name": "stderr",
     "output_type": "stream",
     "text": []
    },
    {
     "name": "stdout",
     "output_type": "stream",
     "text": [
      "INFO - <class 'dasi.design.Design'>(id=112445688408) - 2019-09-01 08:32:54,411 - Number of types: 7\n"
     ]
    },
    {
     "name": "stderr",
     "output_type": "stream",
     "text": []
    },
    {
     "name": "stdout",
     "output_type": "stream",
     "text": [
      "INFO - <class 'dasi.design.Design'>(id=112445688408) - 2019-09-01 08:32:54,415 - Number of groups: 1337\n"
     ]
    },
    {
     "name": "stderr",
     "output_type": "stream",
     "text": []
    },
    {
     "name": "stdout",
     "output_type": "stream",
     "text": [
      "INFO - <class 'dasi.design.Design'>(id=112445688408) - 2019-09-01 08:32:54,716 - === Assembly Graph ===\n"
     ]
    },
    {
     "name": "stderr",
     "output_type": "stream",
     "text": []
    },
    {
     "name": "stdout",
     "output_type": "stream",
     "text": [
      "INFO - <class 'dasi.design.Design'>(id=112445688408) - 2019-09-01 08:32:54,720 - Name: Assembly Graph\n",
      "Type: DiGraph\n",
      "Number of nodes: 278\n",
      "Number of edges: 3459\n",
      "Average in degree:  12.4424\n",
      "Average out degree:  12.4424\n"
     ]
    },
    {
     "name": "stderr",
     "output_type": "stream",
     "text": []
    },
    {
     "name": "stdout",
     "output_type": "stream",
     "text": [
      "INFO - <class 'dasi.design.Design'>(id=112445688408) - 2019-09-01 08:32:54,757 - Number of types: 7\n"
     ]
    },
    {
     "name": "stderr",
     "output_type": "stream",
     "text": []
    },
    {
     "name": "stdout",
     "output_type": "stream",
     "text": [
      "INFO - <class 'dasi.design.Design'>(id=112445688408) - 2019-09-01 08:32:54,762 - Number of groups: 842\n"
     ]
    },
    {
     "name": "stderr",
     "output_type": "stream",
     "text": []
    },
    {
     "name": "stdout",
     "output_type": "stream",
     "text": [
      "INFO - <class 'dasi.design.Design'>(id=112445688408) - 2019-09-01 08:32:55,063 - === Assembly Graph ===\n"
     ]
    },
    {
     "name": "stderr",
     "output_type": "stream",
     "text": []
    },
    {
     "name": "stdout",
     "output_type": "stream",
     "text": [
      "INFO - <class 'dasi.design.Design'>(id=112445688408) - 2019-09-01 08:32:55,068 - Name: Assembly Graph\n",
      "Type: DiGraph\n",
      "Number of nodes: 330\n",
      "Number of edges: 3601\n",
      "Average in degree:  10.9121\n",
      "Average out degree:  10.9121\n"
     ]
    },
    {
     "name": "stderr",
     "output_type": "stream",
     "text": []
    },
    {
     "name": "stdout",
     "output_type": "stream",
     "text": [
      "INFO - <class 'dasi.design.Design'>(id=112445688408) - 2019-09-01 08:32:55,161 - Number of types: 7\n"
     ]
    },
    {
     "name": "stderr",
     "output_type": "stream",
     "text": []
    },
    {
     "name": "stdout",
     "output_type": "stream",
     "text": [
      "INFO - <class 'dasi.design.Design'>(id=112445688408) - 2019-09-01 08:32:55,165 - Number of groups: 1223\n"
     ]
    },
    {
     "name": "stderr",
     "output_type": "stream",
     "text": []
    },
    {
     "name": "stdout",
     "output_type": "stream",
     "text": [
      "INFO - <class 'dasi.design.Design'>(id=112445688408) - 2019-09-01 08:32:55,610 - === Assembly Graph ===\n"
     ]
    },
    {
     "name": "stderr",
     "output_type": "stream",
     "text": []
    },
    {
     "name": "stdout",
     "output_type": "stream",
     "text": [
      "INFO - <class 'dasi.design.Design'>(id=112445688408) - 2019-09-01 08:32:55,614 - Name: Assembly Graph\n",
      "Type: DiGraph\n",
      "Number of nodes: 360\n",
      "Number of edges: 3915\n",
      "Average in degree:  10.8750\n",
      "Average out degree:  10.8750\n"
     ]
    },
    {
     "name": "stderr",
     "output_type": "stream",
     "text": []
    },
    {
     "name": "stdout",
     "output_type": "stream",
     "text": [
      "INFO - <class 'dasi.design.Design'>(id=112445688408) - 2019-09-01 08:32:55,897 - Number of types: 7\n"
     ]
    },
    {
     "name": "stderr",
     "output_type": "stream",
     "text": []
    },
    {
     "name": "stdout",
     "output_type": "stream",
     "text": [
      "INFO - <class 'dasi.design.Design'>(id=112445688408) - 2019-09-01 08:32:55,901 - Number of groups: 6797\n"
     ]
    },
    {
     "name": "stderr",
     "output_type": "stream",
     "text": []
    },
    {
     "name": "stdout",
     "output_type": "stream",
     "text": [
      "INFO - <class 'dasi.design.Design'>(id=112445688408) - 2019-09-01 08:32:58,854 - === Assembly Graph ===\n"
     ]
    },
    {
     "name": "stderr",
     "output_type": "stream",
     "text": []
    },
    {
     "name": "stdout",
     "output_type": "stream",
     "text": [
      "INFO - <class 'dasi.design.Design'>(id=112445688408) - 2019-09-01 08:32:58,859 - Name: Assembly Graph\n",
      "Type: DiGraph\n",
      "Number of nodes: 720\n",
      "Number of edges: 8268\n",
      "Average in degree:  11.4833\n",
      "Average out degree:  11.4833\n"
     ]
    },
    {
     "name": "stderr",
     "output_type": "stream",
     "text": []
    },
    {
     "name": "stdout",
     "output_type": "stream",
     "text": [
      "INFO - <class 'dasi.design.Design'>(id=112445688408) - 2019-09-01 08:32:58,907 - Number of types: 7\n"
     ]
    },
    {
     "name": "stderr",
     "output_type": "stream",
     "text": []
    },
    {
     "name": "stdout",
     "output_type": "stream",
     "text": [
      "INFO - <class 'dasi.design.Design'>(id=112445688408) - 2019-09-01 08:32:58,913 - Number of groups: 913\n"
     ]
    },
    {
     "name": "stderr",
     "output_type": "stream",
     "text": []
    },
    {
     "name": "stdout",
     "output_type": "stream",
     "text": [
      "INFO - <class 'dasi.design.Design'>(id=112445688408) - 2019-09-01 08:32:59,191 - === Assembly Graph ===\n"
     ]
    },
    {
     "name": "stderr",
     "output_type": "stream",
     "text": []
    },
    {
     "name": "stdout",
     "output_type": "stream",
     "text": [
      "INFO - <class 'dasi.design.Design'>(id=112445688408) - 2019-09-01 08:32:59,196 - Name: Assembly Graph\n",
      "Type: DiGraph\n",
      "Number of nodes: 302\n",
      "Number of edges: 3347\n",
      "Average in degree:  11.0828\n",
      "Average out degree:  11.0828\n"
     ]
    },
    {
     "name": "stderr",
     "output_type": "stream",
     "text": []
    },
    {
     "name": "stdout",
     "output_type": "stream",
     "text": [
      "INFO - <class 'dasi.design.Design'>(id=112445688408) - 2019-09-01 08:32:59,323 - Number of types: 7\n"
     ]
    },
    {
     "name": "stderr",
     "output_type": "stream",
     "text": []
    },
    {
     "name": "stdout",
     "output_type": "stream",
     "text": [
      "INFO - <class 'dasi.design.Design'>(id=112445688408) - 2019-09-01 08:32:59,328 - Number of groups: 1324\n"
     ]
    },
    {
     "name": "stderr",
     "output_type": "stream",
     "text": []
    },
    {
     "name": "stdout",
     "output_type": "stream",
     "text": [
      "INFO - <class 'dasi.design.Design'>(id=112445688408) - 2019-09-01 08:32:59,605 - === Assembly Graph ===\n"
     ]
    },
    {
     "name": "stderr",
     "output_type": "stream",
     "text": []
    },
    {
     "name": "stdout",
     "output_type": "stream",
     "text": [
      "INFO - <class 'dasi.design.Design'>(id=112445688408) - 2019-09-01 08:32:59,609 - Name: Assembly Graph\n",
      "Type: DiGraph\n",
      "Number of nodes: 268\n",
      "Number of edges: 3289\n",
      "Average in degree:  12.2724\n",
      "Average out degree:  12.2724\n"
     ]
    },
    {
     "name": "stderr",
     "output_type": "stream",
     "text": [
      "INFO     compiling all containers: 100%|██████████| 6/6 [00:05<00:00,  1.23it/s]\n"
     ]
    }
   ],
   "source": [
    "from dasi.design import Design\n",
    "\n",
    "design = Design(span_cost)\n",
    "design.add_materials(primers=primers, templates=templates, queries=queries)\n",
    "design.logger.set_level(\"INFO\")\n",
    "design.compile()"
   ]
  },
  {
   "cell_type": "code",
   "execution_count": 9,
   "metadata": {},
   "outputs": [
    {
     "ename": "AttributeError",
     "evalue": "'Design' object has no attribute 'containers'",
     "output_type": "error",
     "traceback": [
      "\u001b[0;31m---------------------------------------------------------------------------\u001b[0m",
      "\u001b[0;31mAttributeError\u001b[0m                            Traceback (most recent call last)",
      "\u001b[0;32m<ipython-input-9-e153966ee55f>\u001b[0m in \u001b[0;36m<module>\u001b[0;34m\u001b[0m\n\u001b[0;32m----> 1\u001b[0;31m \u001b[0mdesign\u001b[0m\u001b[0;34m.\u001b[0m\u001b[0mcontainers\u001b[0m\u001b[0;34m\u001b[0m\u001b[0;34m\u001b[0m\u001b[0m\n\u001b[0m",
      "\u001b[0;31mAttributeError\u001b[0m: 'Design' object has no attribute 'containers'"
     ]
    }
   ],
   "source": []
  },
  {
   "cell_type": "code",
   "execution_count": 3,
   "metadata": {},
   "outputs": [
    {
     "name": "stdout",
     "output_type": "stream",
     "text": [
      "a3e4297a-e81c-41ae-942c-95e5acf32398: 808.6944444444445\n",
      "f7172293-e630-42f7-850f-a11736a46488: 1775.111111111111\n",
      "5bc6e3b0-6707-419b-aa2f-b60c129c17e3: 1746.0\n",
      "fe89aa3d-5b50-4ff3-9f53-d99a5772cb9e: 2761.222222222222\n",
      "4014d822-486e-45bb-88a9-86c0989965ba: 324.55555555555554\n"
     ]
    }
   ],
   "source": [
    "from dasi.design import LibraryDesign\n",
    "from more_itertools import pairwise\n",
    "\n",
    "design = LibraryDesign(span_cost=span_cost)\n",
    "\n",
    "design.add_materials(primers=primers, templates=templates, queries=queries)\n",
    "\n",
    "design.compile()\n",
    "path_dict = design.optimize()\n",
    "path_dict\n",
    "\n",
    "for qk, graph in design.graphs.items():\n",
    "    cost = 0\n",
    "    for n1, n2 in pairwise(path_dict[qk][0]):\n",
    "        edata = graph[n1][n2]\n",
    "        cost += edata['weight']\n",
    "    print(\"{}: {}\".format(qk, cost))"
   ]
  },
  {
   "cell_type": "code",
   "execution_count": 4,
   "metadata": {},
   "outputs": [
    {
     "name": "stderr",
     "output_type": "stream",
     "text": [
      "/Users/justinvrana/anaconda/lib/python3.7/site-packages/pyblast/blast/blast.py:605: UserWarning: A circular query 56e81a3a-c174-4c93-9264-2f5a32604cee overlapped the origins\n",
      "  x, origin_key\n",
      "/Users/justinvrana/anaconda/lib/python3.7/site-packages/pyblast/blast/blast.py:605: UserWarning: A circular subject 56e81a3a-c174-4c93-9264-2f5a32604cee overlapped the origins\n",
      "  x, origin_key\n",
      "/Users/justinvrana/anaconda/lib/python3.7/site-packages/pyblast/blast/blast.py:605: UserWarning: A circular query b6ae27be-50c3-4e9a-a2b9-8564c342c0e9 overlapped the origins\n",
      "  x, origin_key\n",
      "/Users/justinvrana/anaconda/lib/python3.7/site-packages/pyblast/blast/blast.py:605: UserWarning: A circular subject b6ae27be-50c3-4e9a-a2b9-8564c342c0e9 overlapped the origins\n",
      "  x, origin_key\n",
      "/Users/justinvrana/anaconda/lib/python3.7/site-packages/pyblast/blast/blast.py:605: UserWarning: A circular query 847594eb-518a-4f66-95e5-cf7eaeebfeb8 overlapped the origins\n",
      "  x, origin_key\n",
      "/Users/justinvrana/anaconda/lib/python3.7/site-packages/pyblast/blast/blast.py:605: UserWarning: A circular subject 847594eb-518a-4f66-95e5-cf7eaeebfeb8 overlapped the origins\n",
      "  x, origin_key\n",
      "/Users/justinvrana/anaconda/lib/python3.7/site-packages/pyblast/blast/blast.py:605: UserWarning: A circular query ac8afd8a-2df1-4fae-9df0-70577e641e59 overlapped the origins\n",
      "  x, origin_key\n",
      "/Users/justinvrana/anaconda/lib/python3.7/site-packages/pyblast/blast/blast.py:605: UserWarning: A circular subject ac8afd8a-2df1-4fae-9df0-70577e641e59 overlapped the origins\n",
      "  x, origin_key\n",
      "/Users/justinvrana/anaconda/lib/python3.7/site-packages/pyblast/blast/blast.py:605: UserWarning: A circular query 49fa258d-6ffd-4fab-aef2-4fc9717fabff overlapped the origins\n",
      "  x, origin_key\n",
      "/Users/justinvrana/anaconda/lib/python3.7/site-packages/pyblast/blast/blast.py:605: UserWarning: A circular subject 49fa258d-6ffd-4fab-aef2-4fc9717fabff overlapped the origins\n",
      "  x, origin_key\n"
     ]
    },
    {
     "name": "stdout",
     "output_type": "stream",
     "text": [
      "56e81a3a-c174-4c93-9264-2f5a32604cee: 808.6944444444445\n",
      "b6ae27be-50c3-4e9a-a2b9-8564c342c0e9: 1775.111111111111\n",
      "847594eb-518a-4f66-95e5-cf7eaeebfeb8: 1746.0\n",
      "ac8afd8a-2df1-4fae-9df0-70577e641e59: 2761.222222222222\n",
      "49fa258d-6ffd-4fab-aef2-4fc9717fabff: 324.55555555555554\n"
     ]
    }
   ],
   "source": [
    "from dasi.design import LibraryDesign\n",
    "from more_itertools import pairwise\n",
    "\n",
    "design = LibraryDesign(span_cost=span_cost)\n",
    "\n",
    "design.add_materials(primers=primers, templates=templates, queries=queries)\n",
    "\n",
    "design.compile_library()\n",
    "\n",
    "path_dict = design.optimize()\n",
    "path_dict\n",
    "\n",
    "for qk, graph in design.graphs.items():\n",
    "    cost = 0\n",
    "    for n1, n2 in pairwise(path_dict[qk][0]):\n",
    "        edata = graph[n1][n2]\n",
    "        cost += edata['weight']\n",
    "    print(\"{}: {}\".format(qk, cost))"
   ]
  },
  {
   "cell_type": "code",
   "execution_count": 5,
   "metadata": {},
   "outputs": [
    {
     "data": {
      "text/html": [
       "<div>\n",
       "<style scoped>\n",
       "    .dataframe tbody tr th:only-of-type {\n",
       "        vertical-align: middle;\n",
       "    }\n",
       "\n",
       "    .dataframe tbody tr th {\n",
       "        vertical-align: top;\n",
       "    }\n",
       "\n",
       "    .dataframe thead th {\n",
       "        text-align: right;\n",
       "    }\n",
       "</style>\n",
       "<table border=\"1\" class=\"dataframe\">\n",
       "  <thead>\n",
       "    <tr style=\"text-align: right;\">\n",
       "      <th></th>\n",
       "      <th>cost</th>\n",
       "      <th>fragment_length</th>\n",
       "      <th>fragment_seq</th>\n",
       "      <th>query</th>\n",
       "      <th>query_name</th>\n",
       "      <th>query_region</th>\n",
       "      <th>subject</th>\n",
       "      <th>subject_name</th>\n",
       "      <th>subject_region</th>\n",
       "      <th>type</th>\n",
       "    </tr>\n",
       "  </thead>\n",
       "  <tbody>\n",
       "    <tr>\n",
       "      <th>0</th>\n",
       "      <td>0.000000</td>\n",
       "      <td>777</td>\n",
       "      <td>GGCCGCGTTGCTGGCGTTTTTCCATAGGCTCCGCCCCCCTGACGAG...</td>\n",
       "      <td>56e81a3a-c174-4c93-9264-2f5a32604cee</td>\n",
       "      <td>pINS-01-hU6-SV40.NT1-op</td>\n",
       "      <td>(494, 1271)</td>\n",
       "      <td>759ba53c-9ce5-485d-9988-e8e9aa11fbbb</td>\n",
       "      <td>ColE1_origin</td>\n",
       "      <td>(0, 777)</td>\n",
       "      <td>PRE-MADE DNA FRAGMENT</td>\n",
       "    </tr>\n",
       "    <tr>\n",
       "      <th>1</th>\n",
       "      <td>353.250000</td>\n",
       "      <td>141</td>\n",
       "      <td>TTACCAATGCTTAATCAGTGAGGCACCTATCTCAGCGATCTGTCTA...</td>\n",
       "      <td>56e81a3a-c174-4c93-9264-2f5a32604cee</td>\n",
       "      <td>pINS-01-hU6-SV40.NT1-op</td>\n",
       "      <td>(1271, 1432)</td>\n",
       "      <td>None</td>\n",
       "      <td>SYNTHESIS</td>\n",
       "      <td>None</td>\n",
       "      <td>JUNCTION_BY_PRIMERS</td>\n",
       "    </tr>\n",
       "    <tr>\n",
       "      <th>2</th>\n",
       "      <td>90.000000</td>\n",
       "      <td>3372</td>\n",
       "      <td>CAGATTTATCAGCAATAAACCAGCCAGCCGGAAGGGCCGAGCGCAG...</td>\n",
       "      <td>56e81a3a-c174-4c93-9264-2f5a32604cee</td>\n",
       "      <td>pINS-01-hU6-SV40.NT1-op</td>\n",
       "      <td>(1432, 25)</td>\n",
       "      <td>598a5804-013d-4bb1-8749-ce65a45623c9</td>\n",
       "      <td>pINS-0A1-pEF1a-citrine-</td>\n",
       "      <td>(0, 3372)</td>\n",
       "      <td>PCR_PRODUCT</td>\n",
       "    </tr>\n",
       "    <tr>\n",
       "      <th>3</th>\n",
       "      <td>365.444444</td>\n",
       "      <td>449</td>\n",
       "      <td>CCTATTTCCCATGATTCCTTCATATTTGCATATACGATACAAGGCT...</td>\n",
       "      <td>56e81a3a-c174-4c93-9264-2f5a32604cee</td>\n",
       "      <td>pINS-01-hU6-SV40.NT1-op</td>\n",
       "      <td>(25, 494)</td>\n",
       "      <td>None</td>\n",
       "      <td>SYNTHESIS</td>\n",
       "      <td>None</td>\n",
       "      <td>JUNCTION_BY_SYNTHESIS</td>\n",
       "    </tr>\n",
       "    <tr>\n",
       "      <th>4</th>\n",
       "      <td>60.000000</td>\n",
       "      <td>2504</td>\n",
       "      <td>?</td>\n",
       "      <td>b6ae27be-50c3-4e9a-a2b9-8564c342c0e9</td>\n",
       "      <td>pLKO-pEF1a-FRT-Citrine-</td>\n",
       "      <td>(0, 2504)</td>\n",
       "      <td>[f968ab95-9fa8-4d2d-ac7b-8bed2cd2fe72, 6b478a4...</td>\n",
       "      <td>[(C, A, T, C, G, C, C, C, A, C, A, G, T, C, C,...</td>\n",
       "      <td>?</td>\n",
       "      <td>PCR_PRODUCT_WITH_LEFT_PRIMER</td>\n",
       "    </tr>\n",
       "    <tr>\n",
       "      <th>5</th>\n",
       "      <td>107.333333</td>\n",
       "      <td>10</td>\n",
       "      <td>TAGGAACTTC</td>\n",
       "      <td>b6ae27be-50c3-4e9a-a2b9-8564c342c0e9</td>\n",
       "      <td>pLKO-pEF1a-FRT-Citrine-</td>\n",
       "      <td>(2504, 2514)</td>\n",
       "      <td>None</td>\n",
       "      <td>SYNTHESIS</td>\n",
       "      <td>None</td>\n",
       "      <td>JUNCTION_BY_PRIMERS</td>\n",
       "    </tr>\n",
       "    <tr>\n",
       "      <th>6</th>\n",
       "      <td>90.000000</td>\n",
       "      <td>1414</td>\n",
       "      <td>GTGAGCAAGGGCGAGGAGCTGTTCACCGGGGTGGTGCCCATCCTGG...</td>\n",
       "      <td>b6ae27be-50c3-4e9a-a2b9-8564c342c0e9</td>\n",
       "      <td>pLKO-pEF1a-FRT-Citrine-</td>\n",
       "      <td>(2514, 3928)</td>\n",
       "      <td>598a5804-013d-4bb1-8749-ce65a45623c9</td>\n",
       "      <td>pINS-0A1-pEF1a-citrine-</td>\n",
       "      <td>(4554, 5968)</td>\n",
       "      <td>PCR_PRODUCT</td>\n",
       "    </tr>\n",
       "    <tr>\n",
       "      <th>7</th>\n",
       "      <td>122.666667</td>\n",
       "      <td>56</td>\n",
       "      <td>CGCCCGCCCCACGACCCGCAGCGCCCGACCGAAAGGAGCGCACGAC...</td>\n",
       "      <td>b6ae27be-50c3-4e9a-a2b9-8564c342c0e9</td>\n",
       "      <td>pLKO-pEF1a-FRT-Citrine-</td>\n",
       "      <td>(3928, 3984)</td>\n",
       "      <td>None</td>\n",
       "      <td>SYNTHESIS</td>\n",
       "      <td>None</td>\n",
       "      <td>JUNCTION_BY_PRIMERS</td>\n",
       "    </tr>\n",
       "    <tr>\n",
       "      <th>8</th>\n",
       "      <td>90.000000</td>\n",
       "      <td>674</td>\n",
       "      <td>GGTACCTTTAAGACCAATGACTTACAAGGCAGCTGTAGATCTTAGC...</td>\n",
       "      <td>b6ae27be-50c3-4e9a-a2b9-8564c342c0e9</td>\n",
       "      <td>pLKO-pEF1a-FRT-Citrine-</td>\n",
       "      <td>(3984, 4658)</td>\n",
       "      <td>34ea8581-dfdf-4900-a72f-c999e9565f33</td>\n",
       "      <td>pCW57.1</td>\n",
       "      <td>(4815, 5489)</td>\n",
       "      <td>PCR_PRODUCT</td>\n",
       "    </tr>\n",
       "    <tr>\n",
       "      <th>9</th>\n",
       "      <td>456.333333</td>\n",
       "      <td>686</td>\n",
       "      <td>AGGGACGTACCCAATTCGCCCTATAGTGAGTCGTATTACGCGCGCT...</td>\n",
       "      <td>b6ae27be-50c3-4e9a-a2b9-8564c342c0e9</td>\n",
       "      <td>pLKO-pEF1a-FRT-Citrine-</td>\n",
       "      <td>(4658, 5344)</td>\n",
       "      <td>None</td>\n",
       "      <td>SYNTHESIS</td>\n",
       "      <td>None</td>\n",
       "      <td>JUNCTION_BY_SYNTHESIS</td>\n",
       "    </tr>\n",
       "    <tr>\n",
       "      <th>10</th>\n",
       "      <td>90.000000</td>\n",
       "      <td>1060</td>\n",
       "      <td>GATTATCAAAAAGGATCTTCACCTAGATCCTTTTAAATTAAAAATG...</td>\n",
       "      <td>b6ae27be-50c3-4e9a-a2b9-8564c342c0e9</td>\n",
       "      <td>pLKO-pEF1a-FRT-Citrine-</td>\n",
       "      <td>(5344, 6404)</td>\n",
       "      <td>0bb39377-a52f-4585-98b5-5aab7808c25c</td>\n",
       "      <td>bla_CDA</td>\n",
       "      <td>(0, 1060)</td>\n",
       "      <td>PCR_PRODUCT</td>\n",
       "    </tr>\n",
       "    <tr>\n",
       "      <th>11</th>\n",
       "      <td>758.777778</td>\n",
       "      <td>1676</td>\n",
       "      <td>CGTGAGTTTTCGTTCCACTGAGCGTCAGACCCCGTAGAAAAGATCA...</td>\n",
       "      <td>b6ae27be-50c3-4e9a-a2b9-8564c342c0e9</td>\n",
       "      <td>pLKO-pEF1a-FRT-Citrine-</td>\n",
       "      <td>(6404, 0)</td>\n",
       "      <td>None</td>\n",
       "      <td>SYNTHESIS</td>\n",
       "      <td>None</td>\n",
       "      <td>JUNCTION_BY_SYNTHESIS</td>\n",
       "    </tr>\n",
       "    <tr>\n",
       "      <th>12</th>\n",
       "      <td>60.000000</td>\n",
       "      <td>3560</td>\n",
       "      <td>?</td>\n",
       "      <td>847594eb-518a-4f66-95e5-cf7eaeebfeb8</td>\n",
       "      <td>pLKO-pEF1a-FRT-mCerulea</td>\n",
       "      <td>(0, 3560)</td>\n",
       "      <td>[f968ab95-9fa8-4d2d-ac7b-8bed2cd2fe72, e8db1d2...</td>\n",
       "      <td>[(C, A, T, C, G, C, C, C, A, C, A, G, T, C, C,...</td>\n",
       "      <td>?</td>\n",
       "      <td>PCR_PRODUCT_WITH_LEFT_PRIMER</td>\n",
       "    </tr>\n",
       "    <tr>\n",
       "      <th>13</th>\n",
       "      <td>526.333333</td>\n",
       "      <td>827</td>\n",
       "      <td>GCCACCATGAGGAAGTTCCTATTCTCTAGAAAGTATAGGAACTTCG...</td>\n",
       "      <td>847594eb-518a-4f66-95e5-cf7eaeebfeb8</td>\n",
       "      <td>pLKO-pEF1a-FRT-mCerulea</td>\n",
       "      <td>(3560, 4387)</td>\n",
       "      <td>None</td>\n",
       "      <td>SYNTHESIS</td>\n",
       "      <td>None</td>\n",
       "      <td>JUNCTION_BY_SYNTHESIS</td>\n",
       "    </tr>\n",
       "    <tr>\n",
       "      <th>14</th>\n",
       "      <td>90.000000</td>\n",
       "      <td>668</td>\n",
       "      <td>ACTATGTTGCTCCTTTTACGCTATGTGGATACGCTGCTTTAATGCC...</td>\n",
       "      <td>847594eb-518a-4f66-95e5-cf7eaeebfeb8</td>\n",
       "      <td>pLKO-pEF1a-FRT-mCerulea</td>\n",
       "      <td>(4387, 5055)</td>\n",
       "      <td>598a5804-013d-4bb1-8749-ce65a45623c9</td>\n",
       "      <td>pINS-0A1-pEF1a-citrine-</td>\n",
       "      <td>(5300, 5968)</td>\n",
       "      <td>PCR_PRODUCT</td>\n",
       "    </tr>\n",
       "    <tr>\n",
       "      <th>15</th>\n",
       "      <td>122.666667</td>\n",
       "      <td>56</td>\n",
       "      <td>CGCCCGCCCCACGACCCGCAGCGCCCGACCGAAAGGAGCGCACGAC...</td>\n",
       "      <td>847594eb-518a-4f66-95e5-cf7eaeebfeb8</td>\n",
       "      <td>pLKO-pEF1a-FRT-mCerulea</td>\n",
       "      <td>(5055, 5111)</td>\n",
       "      <td>None</td>\n",
       "      <td>SYNTHESIS</td>\n",
       "      <td>None</td>\n",
       "      <td>JUNCTION_BY_PRIMERS</td>\n",
       "    </tr>\n",
       "    <tr>\n",
       "      <th>16</th>\n",
       "      <td>90.000000</td>\n",
       "      <td>674</td>\n",
       "      <td>GGTACCTTTAAGACCAATGACTTACAAGGCAGCTGTAGATCTTAGC...</td>\n",
       "      <td>847594eb-518a-4f66-95e5-cf7eaeebfeb8</td>\n",
       "      <td>pLKO-pEF1a-FRT-mCerulea</td>\n",
       "      <td>(5111, 5785)</td>\n",
       "      <td>34ea8581-dfdf-4900-a72f-c999e9565f33</td>\n",
       "      <td>pCW57.1</td>\n",
       "      <td>(4815, 5489)</td>\n",
       "      <td>PCR_PRODUCT</td>\n",
       "    </tr>\n",
       "    <tr>\n",
       "      <th>17</th>\n",
       "      <td>456.333333</td>\n",
       "      <td>686</td>\n",
       "      <td>AGGGACGTACCCAATTCGCCCTATAGTGAGTCGTATTACGCGCGCT...</td>\n",
       "      <td>847594eb-518a-4f66-95e5-cf7eaeebfeb8</td>\n",
       "      <td>pLKO-pEF1a-FRT-mCerulea</td>\n",
       "      <td>(5785, 6471)</td>\n",
       "      <td>None</td>\n",
       "      <td>SYNTHESIS</td>\n",
       "      <td>None</td>\n",
       "      <td>JUNCTION_BY_SYNTHESIS</td>\n",
       "    </tr>\n",
       "    <tr>\n",
       "      <th>18</th>\n",
       "      <td>90.000000</td>\n",
       "      <td>1060</td>\n",
       "      <td>GATTATCAAAAAGGATCTTCACCTAGATCCTTTTAAATTAAAAATG...</td>\n",
       "      <td>847594eb-518a-4f66-95e5-cf7eaeebfeb8</td>\n",
       "      <td>pLKO-pEF1a-FRT-mCerulea</td>\n",
       "      <td>(6471, 7531)</td>\n",
       "      <td>0bb39377-a52f-4585-98b5-5aab7808c25c</td>\n",
       "      <td>bla_CDA</td>\n",
       "      <td>(0, 1060)</td>\n",
       "      <td>PCR_PRODUCT</td>\n",
       "    </tr>\n",
       "    <tr>\n",
       "      <th>19</th>\n",
       "      <td>122.000000</td>\n",
       "      <td>54</td>\n",
       "      <td>TCATGACCAAAATCCCTTAACGTGAGTTTTCGTTCCACTGAGCGTC...</td>\n",
       "      <td>847594eb-518a-4f66-95e5-cf7eaeebfeb8</td>\n",
       "      <td>pLKO-pEF1a-FRT-mCerulea</td>\n",
       "      <td>(7531, 7585)</td>\n",
       "      <td>None</td>\n",
       "      <td>SYNTHESIS</td>\n",
       "      <td>None</td>\n",
       "      <td>JUNCTION_BY_PRIMERS</td>\n",
       "    </tr>\n",
       "    <tr>\n",
       "      <th>20</th>\n",
       "      <td>90.000000</td>\n",
       "      <td>551</td>\n",
       "      <td>GCGAAACCCGACAGGACTATAAAGATACCAGGCGTTTCCCCCTGGA...</td>\n",
       "      <td>847594eb-518a-4f66-95e5-cf7eaeebfeb8</td>\n",
       "      <td>pLKO-pEF1a-FRT-mCerulea</td>\n",
       "      <td>(7585, 8136)</td>\n",
       "      <td>333df0f0-27c1-4f98-b3c3-5a2934aca424</td>\n",
       "      <td>attB-mCh-Dnmt3b1-Poly(A</td>\n",
       "      <td>(6566, 7117)</td>\n",
       "      <td>PCR_PRODUCT</td>\n",
       "    </tr>\n",
       "    <tr>\n",
       "      <th>21</th>\n",
       "      <td>98.666667</td>\n",
       "      <td>8116</td>\n",
       "      <td>ATTTTTGTGATGCTCGTCAGGGGGGCGGAGCCTATGGAAAAACGCC...</td>\n",
       "      <td>847594eb-518a-4f66-95e5-cf7eaeebfeb8</td>\n",
       "      <td>pLKO-pEF1a-FRT-mCerulea</td>\n",
       "      <td>(8136, 0)</td>\n",
       "      <td>None</td>\n",
       "      <td>SYNTHESIS</td>\n",
       "      <td>None</td>\n",
       "      <td>JUNCTION_BY_PRIMERS</td>\n",
       "    </tr>\n",
       "    <tr>\n",
       "      <th>22</th>\n",
       "      <td>90.000000</td>\n",
       "      <td>674</td>\n",
       "      <td>GGTACCTTTAAGACCAATGACTTACAAGGCAGCTGTAGATCTTAGC...</td>\n",
       "      <td>ac8afd8a-2df1-4fae-9df0-70577e641e59</td>\n",
       "      <td>pLKO-pEF1a-FRT-tdTomato</td>\n",
       "      <td>(734, 1408)</td>\n",
       "      <td>34ea8581-dfdf-4900-a72f-c999e9565f33</td>\n",
       "      <td>pCW57.1</td>\n",
       "      <td>(4815, 5489)</td>\n",
       "      <td>PCR_PRODUCT</td>\n",
       "    </tr>\n",
       "    <tr>\n",
       "      <th>23</th>\n",
       "      <td>456.333333</td>\n",
       "      <td>686</td>\n",
       "      <td>AGGGACGTACCCAATTCGCCCTATAGTGAGTCGTATTACGCGCGCT...</td>\n",
       "      <td>ac8afd8a-2df1-4fae-9df0-70577e641e59</td>\n",
       "      <td>pLKO-pEF1a-FRT-tdTomato</td>\n",
       "      <td>(1408, 2094)</td>\n",
       "      <td>None</td>\n",
       "      <td>SYNTHESIS</td>\n",
       "      <td>None</td>\n",
       "      <td>JUNCTION_BY_SYNTHESIS</td>\n",
       "    </tr>\n",
       "    <tr>\n",
       "      <th>24</th>\n",
       "      <td>90.000000</td>\n",
       "      <td>1060</td>\n",
       "      <td>GATTATCAAAAAGGATCTTCACCTAGATCCTTTTAAATTAAAAATG...</td>\n",
       "      <td>ac8afd8a-2df1-4fae-9df0-70577e641e59</td>\n",
       "      <td>pLKO-pEF1a-FRT-tdTomato</td>\n",
       "      <td>(2094, 3154)</td>\n",
       "      <td>0bb39377-a52f-4585-98b5-5aab7808c25c</td>\n",
       "      <td>bla_CDA</td>\n",
       "      <td>(0, 1060)</td>\n",
       "      <td>PCR_PRODUCT</td>\n",
       "    </tr>\n",
       "    <tr>\n",
       "      <th>25</th>\n",
       "      <td>122.000000</td>\n",
       "      <td>54</td>\n",
       "      <td>TCATGACCAAAATCCCTTAACGTGAGTTTTCGTTCCACTGAGCGTC...</td>\n",
       "      <td>ac8afd8a-2df1-4fae-9df0-70577e641e59</td>\n",
       "      <td>pLKO-pEF1a-FRT-tdTomato</td>\n",
       "      <td>(3154, 3208)</td>\n",
       "      <td>None</td>\n",
       "      <td>SYNTHESIS</td>\n",
       "      <td>None</td>\n",
       "      <td>JUNCTION_BY_PRIMERS</td>\n",
       "    </tr>\n",
       "    <tr>\n",
       "      <th>26</th>\n",
       "      <td>90.000000</td>\n",
       "      <td>629</td>\n",
       "      <td>GGCCGCGTTGCTGGCGTTTTTCCATAGGCTCCGCCCCCCTGACGAG...</td>\n",
       "      <td>ac8afd8a-2df1-4fae-9df0-70577e641e59</td>\n",
       "      <td>pLKO-pEF1a-FRT-tdTomato</td>\n",
       "      <td>(3208, 3837)</td>\n",
       "      <td>333df0f0-27c1-4f98-b3c3-5a2934aca424</td>\n",
       "      <td>attB-mCh-Dnmt3b1-Poly(A</td>\n",
       "      <td>(6488, 7117)</td>\n",
       "      <td>PCR_PRODUCT</td>\n",
       "    </tr>\n",
       "    <tr>\n",
       "      <th>27</th>\n",
       "      <td>118.666667</td>\n",
       "      <td>44</td>\n",
       "      <td>TTTTTACGGTTCCTGGCCTTTTGCTGGCCTTTTGCTCACATGTT</td>\n",
       "      <td>ac8afd8a-2df1-4fae-9df0-70577e641e59</td>\n",
       "      <td>pLKO-pEF1a-FRT-tdTomato</td>\n",
       "      <td>(3837, 3881)</td>\n",
       "      <td>None</td>\n",
       "      <td>SYNTHESIS</td>\n",
       "      <td>None</td>\n",
       "      <td>JUNCTION_BY_PRIMERS</td>\n",
       "    </tr>\n",
       "    <tr>\n",
       "      <th>28</th>\n",
       "      <td>90.000000</td>\n",
       "      <td>356</td>\n",
       "      <td>CCAGTCGGGAAACCTGTCGTGCCAGCTGCATTAATGAATCGGCCAA...</td>\n",
       "      <td>ac8afd8a-2df1-4fae-9df0-70577e641e59</td>\n",
       "      <td>pLKO-pEF1a-FRT-tdTomato</td>\n",
       "      <td>(3881, 4237)</td>\n",
       "      <td>bf500394-f302-4a97-909a-cebe28c1a928</td>\n",
       "      <td>Reporter_BDAR_5xUASb2-C</td>\n",
       "      <td>(6163, 6519)</td>\n",
       "      <td>PCR_PRODUCT</td>\n",
       "    </tr>\n",
       "    <tr>\n",
       "      <th>29</th>\n",
       "      <td>795.444444</td>\n",
       "      <td>1864</td>\n",
       "      <td>AGGGAACAAAAGCTGGAGCTGCAAGCTTAATGTAGTCTTATGCAAT...</td>\n",
       "      <td>ac8afd8a-2df1-4fae-9df0-70577e641e59</td>\n",
       "      <td>pLKO-pEF1a-FRT-tdTomato</td>\n",
       "      <td>(4237, 6121)</td>\n",
       "      <td>None</td>\n",
       "      <td>SYNTHESIS</td>\n",
       "      <td>None</td>\n",
       "      <td>JUNCTION_BY_SYNTHESIS</td>\n",
       "    </tr>\n",
       "    <tr>\n",
       "      <th>30</th>\n",
       "      <td>30.000000</td>\n",
       "      <td>1198</td>\n",
       "      <td>?</td>\n",
       "      <td>ac8afd8a-2df1-4fae-9df0-70577e641e59</td>\n",
       "      <td>pLKO-pEF1a-FRT-tdTomato</td>\n",
       "      <td>(6121, 7319)</td>\n",
       "      <td>[c9dacbcc-555c-49da-a10c-5073289b53f7, f968ab9...</td>\n",
       "      <td>[(G, C, C, G, A, T, A, C, G, A, A, G, G, T, T,...</td>\n",
       "      <td>?</td>\n",
       "      <td>PCR_PRODUCT_WITH_PRIMERS</td>\n",
       "    </tr>\n",
       "    <tr>\n",
       "      <th>31</th>\n",
       "      <td>878.777778</td>\n",
       "      <td>2209</td>\n",
       "      <td>GCCACCATGAGGAAGTTCCTATTCTCTAGAAAGTATAGGAACTTCA...</td>\n",
       "      <td>ac8afd8a-2df1-4fae-9df0-70577e641e59</td>\n",
       "      <td>pLKO-pEF1a-FRT-tdTomato</td>\n",
       "      <td>(7319, 734)</td>\n",
       "      <td>None</td>\n",
       "      <td>SYNTHESIS</td>\n",
       "      <td>None</td>\n",
       "      <td>JUNCTION_BY_SYNTHESIS</td>\n",
       "    </tr>\n",
       "    <tr>\n",
       "      <th>32</th>\n",
       "      <td>294.555556</td>\n",
       "      <td>68</td>\n",
       "      <td>GCGCAACGTTGTTGCCATTGCTACAGGCATCGTGGTGTCACGCTCG...</td>\n",
       "      <td>49fa258d-6ffd-4fab-aef2-4fc9717fabff</td>\n",
       "      <td>pMODKan-HO-pACT1-Z4-</td>\n",
       "      <td>(8621, 8729)</td>\n",
       "      <td>None</td>\n",
       "      <td>SYNTHESIS</td>\n",
       "      <td>None</td>\n",
       "      <td>JUNCTION_BY_SYNTHESIS</td>\n",
       "    </tr>\n",
       "    <tr>\n",
       "      <th>33</th>\n",
       "      <td>30.000000</td>\n",
       "      <td>9300</td>\n",
       "      <td>?</td>\n",
       "      <td>49fa258d-6ffd-4fab-aef2-4fc9717fabff</td>\n",
       "      <td>pMODKan-HO-pACT1-Z4-</td>\n",
       "      <td>(8729, 8621)</td>\n",
       "      <td>[4f6782a4-4d36-43f1-a0ad-df70aa29e8a8, 5ac1b22...</td>\n",
       "      <td>[(A, G, G, C, G, A, G, T, T, A, C, A, T, G, A,...</td>\n",
       "      <td>?</td>\n",
       "      <td>PCR_PRODUCT_WITH_PRIMERS</td>\n",
       "    </tr>\n",
       "  </tbody>\n",
       "</table>\n",
       "</div>"
      ],
      "text/plain": [
       "          cost  fragment_length  \\\n",
       "0     0.000000              777   \n",
       "1   353.250000              141   \n",
       "2    90.000000             3372   \n",
       "3   365.444444              449   \n",
       "4    60.000000             2504   \n",
       "5   107.333333               10   \n",
       "6    90.000000             1414   \n",
       "7   122.666667               56   \n",
       "8    90.000000              674   \n",
       "9   456.333333              686   \n",
       "10   90.000000             1060   \n",
       "11  758.777778             1676   \n",
       "12   60.000000             3560   \n",
       "13  526.333333              827   \n",
       "14   90.000000              668   \n",
       "15  122.666667               56   \n",
       "16   90.000000              674   \n",
       "17  456.333333              686   \n",
       "18   90.000000             1060   \n",
       "19  122.000000               54   \n",
       "20   90.000000              551   \n",
       "21   98.666667             8116   \n",
       "22   90.000000              674   \n",
       "23  456.333333              686   \n",
       "24   90.000000             1060   \n",
       "25  122.000000               54   \n",
       "26   90.000000              629   \n",
       "27  118.666667               44   \n",
       "28   90.000000              356   \n",
       "29  795.444444             1864   \n",
       "30   30.000000             1198   \n",
       "31  878.777778             2209   \n",
       "32  294.555556               68   \n",
       "33   30.000000             9300   \n",
       "\n",
       "                                         fragment_seq  \\\n",
       "0   GGCCGCGTTGCTGGCGTTTTTCCATAGGCTCCGCCCCCCTGACGAG...   \n",
       "1   TTACCAATGCTTAATCAGTGAGGCACCTATCTCAGCGATCTGTCTA...   \n",
       "2   CAGATTTATCAGCAATAAACCAGCCAGCCGGAAGGGCCGAGCGCAG...   \n",
       "3   CCTATTTCCCATGATTCCTTCATATTTGCATATACGATACAAGGCT...   \n",
       "4                                                   ?   \n",
       "5                                          TAGGAACTTC   \n",
       "6   GTGAGCAAGGGCGAGGAGCTGTTCACCGGGGTGGTGCCCATCCTGG...   \n",
       "7   CGCCCGCCCCACGACCCGCAGCGCCCGACCGAAAGGAGCGCACGAC...   \n",
       "8   GGTACCTTTAAGACCAATGACTTACAAGGCAGCTGTAGATCTTAGC...   \n",
       "9   AGGGACGTACCCAATTCGCCCTATAGTGAGTCGTATTACGCGCGCT...   \n",
       "10  GATTATCAAAAAGGATCTTCACCTAGATCCTTTTAAATTAAAAATG...   \n",
       "11  CGTGAGTTTTCGTTCCACTGAGCGTCAGACCCCGTAGAAAAGATCA...   \n",
       "12                                                  ?   \n",
       "13  GCCACCATGAGGAAGTTCCTATTCTCTAGAAAGTATAGGAACTTCG...   \n",
       "14  ACTATGTTGCTCCTTTTACGCTATGTGGATACGCTGCTTTAATGCC...   \n",
       "15  CGCCCGCCCCACGACCCGCAGCGCCCGACCGAAAGGAGCGCACGAC...   \n",
       "16  GGTACCTTTAAGACCAATGACTTACAAGGCAGCTGTAGATCTTAGC...   \n",
       "17  AGGGACGTACCCAATTCGCCCTATAGTGAGTCGTATTACGCGCGCT...   \n",
       "18  GATTATCAAAAAGGATCTTCACCTAGATCCTTTTAAATTAAAAATG...   \n",
       "19  TCATGACCAAAATCCCTTAACGTGAGTTTTCGTTCCACTGAGCGTC...   \n",
       "20  GCGAAACCCGACAGGACTATAAAGATACCAGGCGTTTCCCCCTGGA...   \n",
       "21  ATTTTTGTGATGCTCGTCAGGGGGGCGGAGCCTATGGAAAAACGCC...   \n",
       "22  GGTACCTTTAAGACCAATGACTTACAAGGCAGCTGTAGATCTTAGC...   \n",
       "23  AGGGACGTACCCAATTCGCCCTATAGTGAGTCGTATTACGCGCGCT...   \n",
       "24  GATTATCAAAAAGGATCTTCACCTAGATCCTTTTAAATTAAAAATG...   \n",
       "25  TCATGACCAAAATCCCTTAACGTGAGTTTTCGTTCCACTGAGCGTC...   \n",
       "26  GGCCGCGTTGCTGGCGTTTTTCCATAGGCTCCGCCCCCCTGACGAG...   \n",
       "27       TTTTTACGGTTCCTGGCCTTTTGCTGGCCTTTTGCTCACATGTT   \n",
       "28  CCAGTCGGGAAACCTGTCGTGCCAGCTGCATTAATGAATCGGCCAA...   \n",
       "29  AGGGAACAAAAGCTGGAGCTGCAAGCTTAATGTAGTCTTATGCAAT...   \n",
       "30                                                  ?   \n",
       "31  GCCACCATGAGGAAGTTCCTATTCTCTAGAAAGTATAGGAACTTCA...   \n",
       "32  GCGCAACGTTGTTGCCATTGCTACAGGCATCGTGGTGTCACGCTCG...   \n",
       "33                                                  ?   \n",
       "\n",
       "                                   query               query_name  \\\n",
       "0   56e81a3a-c174-4c93-9264-2f5a32604cee  pINS-01-hU6-SV40.NT1-op   \n",
       "1   56e81a3a-c174-4c93-9264-2f5a32604cee  pINS-01-hU6-SV40.NT1-op   \n",
       "2   56e81a3a-c174-4c93-9264-2f5a32604cee  pINS-01-hU6-SV40.NT1-op   \n",
       "3   56e81a3a-c174-4c93-9264-2f5a32604cee  pINS-01-hU6-SV40.NT1-op   \n",
       "4   b6ae27be-50c3-4e9a-a2b9-8564c342c0e9  pLKO-pEF1a-FRT-Citrine-   \n",
       "5   b6ae27be-50c3-4e9a-a2b9-8564c342c0e9  pLKO-pEF1a-FRT-Citrine-   \n",
       "6   b6ae27be-50c3-4e9a-a2b9-8564c342c0e9  pLKO-pEF1a-FRT-Citrine-   \n",
       "7   b6ae27be-50c3-4e9a-a2b9-8564c342c0e9  pLKO-pEF1a-FRT-Citrine-   \n",
       "8   b6ae27be-50c3-4e9a-a2b9-8564c342c0e9  pLKO-pEF1a-FRT-Citrine-   \n",
       "9   b6ae27be-50c3-4e9a-a2b9-8564c342c0e9  pLKO-pEF1a-FRT-Citrine-   \n",
       "10  b6ae27be-50c3-4e9a-a2b9-8564c342c0e9  pLKO-pEF1a-FRT-Citrine-   \n",
       "11  b6ae27be-50c3-4e9a-a2b9-8564c342c0e9  pLKO-pEF1a-FRT-Citrine-   \n",
       "12  847594eb-518a-4f66-95e5-cf7eaeebfeb8  pLKO-pEF1a-FRT-mCerulea   \n",
       "13  847594eb-518a-4f66-95e5-cf7eaeebfeb8  pLKO-pEF1a-FRT-mCerulea   \n",
       "14  847594eb-518a-4f66-95e5-cf7eaeebfeb8  pLKO-pEF1a-FRT-mCerulea   \n",
       "15  847594eb-518a-4f66-95e5-cf7eaeebfeb8  pLKO-pEF1a-FRT-mCerulea   \n",
       "16  847594eb-518a-4f66-95e5-cf7eaeebfeb8  pLKO-pEF1a-FRT-mCerulea   \n",
       "17  847594eb-518a-4f66-95e5-cf7eaeebfeb8  pLKO-pEF1a-FRT-mCerulea   \n",
       "18  847594eb-518a-4f66-95e5-cf7eaeebfeb8  pLKO-pEF1a-FRT-mCerulea   \n",
       "19  847594eb-518a-4f66-95e5-cf7eaeebfeb8  pLKO-pEF1a-FRT-mCerulea   \n",
       "20  847594eb-518a-4f66-95e5-cf7eaeebfeb8  pLKO-pEF1a-FRT-mCerulea   \n",
       "21  847594eb-518a-4f66-95e5-cf7eaeebfeb8  pLKO-pEF1a-FRT-mCerulea   \n",
       "22  ac8afd8a-2df1-4fae-9df0-70577e641e59  pLKO-pEF1a-FRT-tdTomato   \n",
       "23  ac8afd8a-2df1-4fae-9df0-70577e641e59  pLKO-pEF1a-FRT-tdTomato   \n",
       "24  ac8afd8a-2df1-4fae-9df0-70577e641e59  pLKO-pEF1a-FRT-tdTomato   \n",
       "25  ac8afd8a-2df1-4fae-9df0-70577e641e59  pLKO-pEF1a-FRT-tdTomato   \n",
       "26  ac8afd8a-2df1-4fae-9df0-70577e641e59  pLKO-pEF1a-FRT-tdTomato   \n",
       "27  ac8afd8a-2df1-4fae-9df0-70577e641e59  pLKO-pEF1a-FRT-tdTomato   \n",
       "28  ac8afd8a-2df1-4fae-9df0-70577e641e59  pLKO-pEF1a-FRT-tdTomato   \n",
       "29  ac8afd8a-2df1-4fae-9df0-70577e641e59  pLKO-pEF1a-FRT-tdTomato   \n",
       "30  ac8afd8a-2df1-4fae-9df0-70577e641e59  pLKO-pEF1a-FRT-tdTomato   \n",
       "31  ac8afd8a-2df1-4fae-9df0-70577e641e59  pLKO-pEF1a-FRT-tdTomato   \n",
       "32  49fa258d-6ffd-4fab-aef2-4fc9717fabff     pMODKan-HO-pACT1-Z4-   \n",
       "33  49fa258d-6ffd-4fab-aef2-4fc9717fabff     pMODKan-HO-pACT1-Z4-   \n",
       "\n",
       "    query_region                                            subject  \\\n",
       "0    (494, 1271)               759ba53c-9ce5-485d-9988-e8e9aa11fbbb   \n",
       "1   (1271, 1432)                                               None   \n",
       "2     (1432, 25)               598a5804-013d-4bb1-8749-ce65a45623c9   \n",
       "3      (25, 494)                                               None   \n",
       "4      (0, 2504)  [f968ab95-9fa8-4d2d-ac7b-8bed2cd2fe72, 6b478a4...   \n",
       "5   (2504, 2514)                                               None   \n",
       "6   (2514, 3928)               598a5804-013d-4bb1-8749-ce65a45623c9   \n",
       "7   (3928, 3984)                                               None   \n",
       "8   (3984, 4658)               34ea8581-dfdf-4900-a72f-c999e9565f33   \n",
       "9   (4658, 5344)                                               None   \n",
       "10  (5344, 6404)               0bb39377-a52f-4585-98b5-5aab7808c25c   \n",
       "11     (6404, 0)                                               None   \n",
       "12     (0, 3560)  [f968ab95-9fa8-4d2d-ac7b-8bed2cd2fe72, e8db1d2...   \n",
       "13  (3560, 4387)                                               None   \n",
       "14  (4387, 5055)               598a5804-013d-4bb1-8749-ce65a45623c9   \n",
       "15  (5055, 5111)                                               None   \n",
       "16  (5111, 5785)               34ea8581-dfdf-4900-a72f-c999e9565f33   \n",
       "17  (5785, 6471)                                               None   \n",
       "18  (6471, 7531)               0bb39377-a52f-4585-98b5-5aab7808c25c   \n",
       "19  (7531, 7585)                                               None   \n",
       "20  (7585, 8136)               333df0f0-27c1-4f98-b3c3-5a2934aca424   \n",
       "21     (8136, 0)                                               None   \n",
       "22   (734, 1408)               34ea8581-dfdf-4900-a72f-c999e9565f33   \n",
       "23  (1408, 2094)                                               None   \n",
       "24  (2094, 3154)               0bb39377-a52f-4585-98b5-5aab7808c25c   \n",
       "25  (3154, 3208)                                               None   \n",
       "26  (3208, 3837)               333df0f0-27c1-4f98-b3c3-5a2934aca424   \n",
       "27  (3837, 3881)                                               None   \n",
       "28  (3881, 4237)               bf500394-f302-4a97-909a-cebe28c1a928   \n",
       "29  (4237, 6121)                                               None   \n",
       "30  (6121, 7319)  [c9dacbcc-555c-49da-a10c-5073289b53f7, f968ab9...   \n",
       "31   (7319, 734)                                               None   \n",
       "32  (8621, 8729)                                               None   \n",
       "33  (8729, 8621)  [4f6782a4-4d36-43f1-a0ad-df70aa29e8a8, 5ac1b22...   \n",
       "\n",
       "                                         subject_name subject_region  \\\n",
       "0                                        ColE1_origin       (0, 777)   \n",
       "1                                           SYNTHESIS           None   \n",
       "2                             pINS-0A1-pEF1a-citrine-      (0, 3372)   \n",
       "3                                           SYNTHESIS           None   \n",
       "4   [(C, A, T, C, G, C, C, C, A, C, A, G, T, C, C,...              ?   \n",
       "5                                           SYNTHESIS           None   \n",
       "6                             pINS-0A1-pEF1a-citrine-   (4554, 5968)   \n",
       "7                                           SYNTHESIS           None   \n",
       "8                                             pCW57.1   (4815, 5489)   \n",
       "9                                           SYNTHESIS           None   \n",
       "10                                            bla_CDA      (0, 1060)   \n",
       "11                                          SYNTHESIS           None   \n",
       "12  [(C, A, T, C, G, C, C, C, A, C, A, G, T, C, C,...              ?   \n",
       "13                                          SYNTHESIS           None   \n",
       "14                            pINS-0A1-pEF1a-citrine-   (5300, 5968)   \n",
       "15                                          SYNTHESIS           None   \n",
       "16                                            pCW57.1   (4815, 5489)   \n",
       "17                                          SYNTHESIS           None   \n",
       "18                                            bla_CDA      (0, 1060)   \n",
       "19                                          SYNTHESIS           None   \n",
       "20                            attB-mCh-Dnmt3b1-Poly(A   (6566, 7117)   \n",
       "21                                          SYNTHESIS           None   \n",
       "22                                            pCW57.1   (4815, 5489)   \n",
       "23                                          SYNTHESIS           None   \n",
       "24                                            bla_CDA      (0, 1060)   \n",
       "25                                          SYNTHESIS           None   \n",
       "26                            attB-mCh-Dnmt3b1-Poly(A   (6488, 7117)   \n",
       "27                                          SYNTHESIS           None   \n",
       "28                            Reporter_BDAR_5xUASb2-C   (6163, 6519)   \n",
       "29                                          SYNTHESIS           None   \n",
       "30  [(G, C, C, G, A, T, A, C, G, A, A, G, G, T, T,...              ?   \n",
       "31                                          SYNTHESIS           None   \n",
       "32                                          SYNTHESIS           None   \n",
       "33  [(A, G, G, C, G, A, G, T, T, A, C, A, T, G, A,...              ?   \n",
       "\n",
       "                            type  \n",
       "0          PRE-MADE DNA FRAGMENT  \n",
       "1            JUNCTION_BY_PRIMERS  \n",
       "2                    PCR_PRODUCT  \n",
       "3          JUNCTION_BY_SYNTHESIS  \n",
       "4   PCR_PRODUCT_WITH_LEFT_PRIMER  \n",
       "5            JUNCTION_BY_PRIMERS  \n",
       "6                    PCR_PRODUCT  \n",
       "7            JUNCTION_BY_PRIMERS  \n",
       "8                    PCR_PRODUCT  \n",
       "9          JUNCTION_BY_SYNTHESIS  \n",
       "10                   PCR_PRODUCT  \n",
       "11         JUNCTION_BY_SYNTHESIS  \n",
       "12  PCR_PRODUCT_WITH_LEFT_PRIMER  \n",
       "13         JUNCTION_BY_SYNTHESIS  \n",
       "14                   PCR_PRODUCT  \n",
       "15           JUNCTION_BY_PRIMERS  \n",
       "16                   PCR_PRODUCT  \n",
       "17         JUNCTION_BY_SYNTHESIS  \n",
       "18                   PCR_PRODUCT  \n",
       "19           JUNCTION_BY_PRIMERS  \n",
       "20                   PCR_PRODUCT  \n",
       "21           JUNCTION_BY_PRIMERS  \n",
       "22                   PCR_PRODUCT  \n",
       "23         JUNCTION_BY_SYNTHESIS  \n",
       "24                   PCR_PRODUCT  \n",
       "25           JUNCTION_BY_PRIMERS  \n",
       "26                   PCR_PRODUCT  \n",
       "27           JUNCTION_BY_PRIMERS  \n",
       "28                   PCR_PRODUCT  \n",
       "29         JUNCTION_BY_SYNTHESIS  \n",
       "30      PCR_PRODUCT_WITH_PRIMERS  \n",
       "31         JUNCTION_BY_SYNTHESIS  \n",
       "32         JUNCTION_BY_SYNTHESIS  \n",
       "33      PCR_PRODUCT_WITH_PRIMERS  "
      ]
     },
     "execution_count": 5,
     "metadata": {},
     "output_type": "execute_result"
    }
   ],
   "source": [
    "df = design.design()\n",
    "df[0]\n",
    "\n"
   ]
  },
  {
   "cell_type": "code",
   "execution_count": null,
   "metadata": {},
   "outputs": [],
   "source": [
    "design.co"
   ]
  },
  {
   "cell_type": "code",
   "execution_count": 82,
   "metadata": {},
   "outputs": [],
   "source": [
    "from dasi import Constants\n",
    "import networkx as nx\n",
    "from itertools import product\n",
    "from more_itertools import pairwise\n",
    "\n",
    "%matplotlib inline\n",
    "\n",
    "def alignment_to_nodes(align):\n",
    "    n1 = (align.query_key, align.query_region.a, align.query_region.b)\n",
    "    n2 = (align.subject_key, align.subject_region.a, align.subject_region.b)\n",
    "    return n1, n2\n",
    "\n",
    "# G = nx.Graph()\n",
    "# for k, v in non_repeat_interactions.items():\n",
    "#     for _v in v:\n",
    "#         G.add_edge(k, _v)\n",
    "G = nx.Graph()\n",
    "\n",
    "\n",
    "def get_subgraphs(graph):\n",
    "        \"\"\"Get independent subgraphs\"\"\"\n",
    "        node_list = list(graph.nodes)\n",
    "        subgraphs = []\n",
    "        while len(node_list) > 0:\n",
    "            node = node_list[-1]\n",
    "            if issubclass(type(graph), nx.DiGraph):\n",
    "                graph = to_undirected(graph)\n",
    "            subgraph = nx.bfs_tree(graph, node)\n",
    "            for n in subgraph.nodes:\n",
    "                node_list.remove(n)\n",
    "            subgraphs.append(graph.subgraph(subgraph.nodes))\n",
    "        return subgraphs\n",
    "\n",
    "def get_shared_edges(design):\n",
    "    G = nx.Graph()\n",
    "    for container in design.container_list():\n",
    "        alignments = container.get_alignments_by_types(Constants.SHARED_FRAGMENT)\n",
    "        for align in alignments:\n",
    "            qk = align.query_key\n",
    "            sk = align.subject_key\n",
    "            if qk != sk:\n",
    "                n1, n2 = alignment_to_nodes(align)\n",
    "                G.add_node(n1)\n",
    "                G.add_node(n2)\n",
    "                children =  list(nx.dfs_preorder_nodes(G, source=n1))\n",
    "                for n3 in children:\n",
    "                    if n1 != n3:\n",
    "                        G.add_edge(n2, n3)\n",
    "                G.add_edge(n1, n2)\n",
    "    \n",
    "    subgraphs = get_subgraphs(G)\n",
    "    edge_enumerations = []\n",
    "    all_edges = []\n",
    "    for subgraph in subgraphs:\n",
    "        edges = subgraph.edges()\n",
    "        all_edges += edges\n",
    "    return all_edges\n",
    "#     enumerations = product([0, 1], repeat=len(edges))\n",
    "#     print(\"Edges: \" + str(len(edges)))\n",
    "#     print(\"Enumerations: \" + str(len(list(enumerations))))\n",
    "\n",
    "\n",
    "def path_to_cost(path, graph):\n",
    "    cost = 0\n",
    "    for n1, n2 in pairwise(path):\n",
    "        edata = graph[n1][n2]\n",
    "        cost += edata['weight']\n",
    "    return cost\n",
    "\n",
    "def total_design_cost(design):\n",
    "    path_dict = design.optimize()\n",
    "    cost = 0\n",
    "    for qk, paths in path_dict.items():\n",
    "        path = paths[0]\n",
    "        graph = design.graphs[qk]\n",
    "        cost += path_to_cost(path, graph)\n",
    "    return cost\n",
    "\n",
    "\n",
    "\n",
    "# all_edges = get_shared_edges(design)\n",
    "\n",
    "# from copy import deepcopy\n",
    "\n",
    "# for qk, graph in design.graphs.items():\n",
    "#     # mask graph\n",
    "#     graph = deepcopy(graph)\n",
    "#     for n1, n2 in all_edges:\n",
    "#         if n1[0] == qk:\n",
    "#             node1 = (n1[1], True, 'A')\n",
    "#             node2 = (n1[2], True, 'B')\n",
    "#             try:\n",
    "#                 edata = graph[node1][node2]\n",
    "#                 edata\n",
    "#             except KeyError:\n",
    "#                 print(\"MISSING\")\n",
    "            \n",
    "# # nx.draw(G, node_size=10)"
   ]
  },
  {
   "cell_type": "code",
   "execution_count": 92,
   "metadata": {},
   "outputs": [
    {
     "name": "stderr",
     "output_type": "stream",
     "text": [
      "/Users/justinvrana/anaconda3/lib/python3.7/site-packages/pyblast/blast/blast.py:605: UserWarning: A circular query b2c6eaf7-ea8b-4176-8ac5-b72a57e5331b overlapped the origins\n",
      "  x, origin_key\n",
      "/Users/justinvrana/anaconda3/lib/python3.7/site-packages/pyblast/blast/blast.py:605: UserWarning: A circular subject b2c6eaf7-ea8b-4176-8ac5-b72a57e5331b overlapped the origins\n",
      "  x, origin_key\n",
      "/Users/justinvrana/anaconda3/lib/python3.7/site-packages/pyblast/blast/blast.py:605: UserWarning: A circular query 947822d3-b88b-47e8-b385-a67829e22056 overlapped the origins\n",
      "  x, origin_key\n",
      "/Users/justinvrana/anaconda3/lib/python3.7/site-packages/pyblast/blast/blast.py:605: UserWarning: A circular subject 947822d3-b88b-47e8-b385-a67829e22056 overlapped the origins\n",
      "  x, origin_key\n",
      "/Users/justinvrana/anaconda3/lib/python3.7/site-packages/pyblast/blast/blast.py:605: UserWarning: A circular query 1be089ae-2e3f-4a8d-a469-c0a893cebc51 overlapped the origins\n",
      "  x, origin_key\n",
      "/Users/justinvrana/anaconda3/lib/python3.7/site-packages/pyblast/blast/blast.py:605: UserWarning: A circular subject 1be089ae-2e3f-4a8d-a469-c0a893cebc51 overlapped the origins\n",
      "  x, origin_key\n",
      "/Users/justinvrana/anaconda3/lib/python3.7/site-packages/pyblast/blast/blast.py:605: UserWarning: A circular query 6b1c62ab-0f84-4a16-9f2c-9fe7f739539e overlapped the origins\n",
      "  x, origin_key\n",
      "/Users/justinvrana/anaconda3/lib/python3.7/site-packages/pyblast/blast/blast.py:605: UserWarning: A circular subject 6b1c62ab-0f84-4a16-9f2c-9fe7f739539e overlapped the origins\n",
      "  x, origin_key\n",
      "/Users/justinvrana/anaconda3/lib/python3.7/site-packages/pyblast/blast/blast.py:605: UserWarning: A circular query 8ce5b1da-0b2e-4bb0-aa2f-bdc1e2e5303e overlapped the origins\n",
      "  x, origin_key\n",
      "/Users/justinvrana/anaconda3/lib/python3.7/site-packages/pyblast/blast/blast.py:605: UserWarning: A circular subject 8ce5b1da-0b2e-4bb0-aa2f-bdc1e2e5303e overlapped the origins\n",
      "  x, origin_key\n"
     ]
    },
    {
     "name": "stdout",
     "output_type": "stream",
     "text": [
      "INFO - <class 'dasi.design.LibraryDesign'>(id=112118783784) - 2019-08-16 16:00:31,927 - Compiling assembly graph\n",
      "INFO - <class 'dasi.design.LibraryDesign'>(id=112118783784) - 2019-08-16 16:00:34,265 - Number of perfect primers: 378\n",
      "INFO - <class 'dasi.design.LibraryDesign'>(id=112118783784) - 2019-08-16 16:00:34,323 - === Expanding shared library fragments ===\n"
     ]
    },
    {
     "name": "stderr",
     "output_type": "stream",
     "text": [
      "/Users/justinvrana/anaconda3/lib/python3.7/site-packages/pyblast/blast/blast.py:605: UserWarning: A circular query 29bbaf31-da17-49e1-8ac9-3915af18ef5f overlapped the origins\n",
      "  x, origin_key\n",
      "/Users/justinvrana/anaconda3/lib/python3.7/site-packages/pyblast/blast/blast.py:605: UserWarning: A circular subject 29bbaf31-da17-49e1-8ac9-3915af18ef5f overlapped the origins\n",
      "  x, origin_key\n",
      "/Users/justinvrana/anaconda3/lib/python3.7/site-packages/pyblast/blast/blast.py:605: UserWarning: A circular query f493ed55-20ce-4191-a058-f99a1c3581ae overlapped the origins\n",
      "  x, origin_key\n",
      "/Users/justinvrana/anaconda3/lib/python3.7/site-packages/pyblast/blast/blast.py:605: UserWarning: A circular subject f493ed55-20ce-4191-a058-f99a1c3581ae overlapped the origins\n",
      "  x, origin_key\n",
      "/Users/justinvrana/anaconda3/lib/python3.7/site-packages/pyblast/blast/blast.py:605: UserWarning: A circular query 71ec6518-ffc1-46af-ba7c-1c0923e57537 overlapped the origins\n",
      "  x, origin_key\n",
      "/Users/justinvrana/anaconda3/lib/python3.7/site-packages/pyblast/blast/blast.py:605: UserWarning: A circular subject 71ec6518-ffc1-46af-ba7c-1c0923e57537 overlapped the origins\n",
      "  x, origin_key\n",
      "/Users/justinvrana/anaconda3/lib/python3.7/site-packages/pyblast/blast/blast.py:605: UserWarning: A circular query fabcd804-c5a3-4089-9f01-03924709cb47 overlapped the origins\n",
      "  x, origin_key\n",
      "/Users/justinvrana/anaconda3/lib/python3.7/site-packages/pyblast/blast/blast.py:605: UserWarning: A circular subject fabcd804-c5a3-4089-9f01-03924709cb47 overlapped the origins\n",
      "  x, origin_key\n",
      "/Users/justinvrana/anaconda3/lib/python3.7/site-packages/pyblast/blast/blast.py:605: UserWarning: A circular query 1e60dad8-447e-4025-bbbf-3b64fff9a7d8 overlapped the origins\n",
      "  x, origin_key\n",
      "/Users/justinvrana/anaconda3/lib/python3.7/site-packages/pyblast/blast/blast.py:605: UserWarning: A circular subject 1e60dad8-447e-4025-bbbf-3b64fff9a7d8 overlapped the origins\n",
      "  x, origin_key\n"
     ]
    },
    {
     "name": "stdout",
     "output_type": "stream",
     "text": [
      "INFO - <class 'dasi.design.LibraryDesign'>(id=112118783784) - 2019-08-16 16:00:34,512 - Found 67 shared alignments between the queries\n",
      "INFO - <class 'dasi.design.LibraryDesign'>(id=112118783784) - 2019-08-16 16:00:34,552 - 29bbaf31-da17-49e1-8ac9-3915af18ef5f: Expanded 44 shared from original 15 shared fragments\n",
      "INFO - <class 'dasi.design.LibraryDesign'>(id=112118783784) - 2019-08-16 16:00:34,574 - 29bbaf31-da17-49e1-8ac9-3915af18ef5f: Expanded PCR_PRODUCT using FRAGMENT_SHARED_WITH_OTHER_QUERIES and found 532 new alignments.\n",
      "INFO - <class 'dasi.design.LibraryDesign'>(id=112118783784) - 2019-08-16 16:00:34,604 - 29bbaf31-da17-49e1-8ac9-3915af18ef5f: Expanded 513 PRODUCTS_WITH_PRIMERS using FRAGMENT_SHARED_WITH_OTHER_QUERIES\n",
      "INFO - <class 'dasi.design.LibraryDesign'>(id=112118783784) - 2019-08-16 16:00:34,611 - f493ed55-20ce-4191-a058-f99a1c3581ae: Expanded 39 shared from original 12 shared fragments\n",
      "INFO - <class 'dasi.design.LibraryDesign'>(id=112118783784) - 2019-08-16 16:00:34,658 - f493ed55-20ce-4191-a058-f99a1c3581ae: Expanded PCR_PRODUCT using FRAGMENT_SHARED_WITH_OTHER_QUERIES and found 1475 new alignments.\n",
      "INFO - <class 'dasi.design.LibraryDesign'>(id=112118783784) - 2019-08-16 16:00:34,675 - f493ed55-20ce-4191-a058-f99a1c3581ae: Expanded 614 PRODUCTS_WITH_PRIMERS using FRAGMENT_SHARED_WITH_OTHER_QUERIES\n",
      "INFO - <class 'dasi.design.LibraryDesign'>(id=112118783784) - 2019-08-16 16:00:34,679 - 71ec6518-ffc1-46af-ba7c-1c0923e57537: Expanded 0 shared from original 1 shared fragments\n",
      "INFO - <class 'dasi.design.LibraryDesign'>(id=112118783784) - 2019-08-16 16:00:34,690 - 71ec6518-ffc1-46af-ba7c-1c0923e57537: Expanded PCR_PRODUCT using FRAGMENT_SHARED_WITH_OTHER_QUERIES and found 386 new alignments.\n",
      "INFO - <class 'dasi.design.LibraryDesign'>(id=112118783784) - 2019-08-16 16:00:34,771 - 71ec6518-ffc1-46af-ba7c-1c0923e57537: Expanded 3743 PRODUCTS_WITH_PRIMERS using FRAGMENT_SHARED_WITH_OTHER_QUERIES\n",
      "INFO - <class 'dasi.design.LibraryDesign'>(id=112118783784) - 2019-08-16 16:00:34,775 - fabcd804-c5a3-4089-9f01-03924709cb47: Expanded 58 shared from original 11 shared fragments\n",
      "INFO - <class 'dasi.design.LibraryDesign'>(id=112118783784) - 2019-08-16 16:00:34,797 - fabcd804-c5a3-4089-9f01-03924709cb47: Expanded PCR_PRODUCT using FRAGMENT_SHARED_WITH_OTHER_QUERIES and found 658 new alignments.\n",
      "INFO - <class 'dasi.design.LibraryDesign'>(id=112118783784) - 2019-08-16 16:00:34,819 - fabcd804-c5a3-4089-9f01-03924709cb47: Expanded 492 PRODUCTS_WITH_PRIMERS using FRAGMENT_SHARED_WITH_OTHER_QUERIES\n",
      "INFO - <class 'dasi.design.LibraryDesign'>(id=112118783784) - 2019-08-16 16:00:34,823 - 1e60dad8-447e-4025-bbbf-3b64fff9a7d8: Expanded 0 shared from original 2 shared fragments\n",
      "INFO - <class 'dasi.design.LibraryDesign'>(id=112118783784) - 2019-08-16 16:00:34,830 - 1e60dad8-447e-4025-bbbf-3b64fff9a7d8: Expanded PCR_PRODUCT using FRAGMENT_SHARED_WITH_OTHER_QUERIES and found 216 new alignments.\n",
      "INFO - <class 'dasi.design.LibraryDesign'>(id=112118783784) - 2019-08-16 16:00:34,844 - 1e60dad8-447e-4025-bbbf-3b64fff9a7d8: Expanded 496 PRODUCTS_WITH_PRIMERS using FRAGMENT_SHARED_WITH_OTHER_QUERIES\n",
      "INFO - <class 'dasi.design.LibraryDesign'>(id=112118783784) - 2019-08-16 16:00:34,853 - 23 shared fragments for 29bbaf31-da17-49e1-8ac9-3915af18ef5f\n",
      "INFO - <class 'dasi.design.LibraryDesign'>(id=112118783784) - 2019-08-16 16:00:34,857 - 21 shared fragments for f493ed55-20ce-4191-a058-f99a1c3581ae\n",
      "INFO - <class 'dasi.design.LibraryDesign'>(id=112118783784) - 2019-08-16 16:00:34,859 - 1 shared fragments for 71ec6518-ffc1-46af-ba7c-1c0923e57537\n",
      "INFO - <class 'dasi.design.LibraryDesign'>(id=112118783784) - 2019-08-16 16:00:34,861 - 20 shared fragments for fabcd804-c5a3-4089-9f01-03924709cb47\n",
      "INFO - <class 'dasi.design.LibraryDesign'>(id=112118783784) - 2019-08-16 16:00:34,864 - 2 shared fragments for 1e60dad8-447e-4025-bbbf-3b64fff9a7d8\n"
     ]
    },
    {
     "name": "stderr",
     "output_type": "stream",
     "text": []
    },
    {
     "name": "stdout",
     "output_type": "stream",
     "text": [
      "INFO - <class 'dasi.design.LibraryDesign'>(id=112118783784) - 2019-08-16 16:00:34,896 - Number of types: 7\n"
     ]
    },
    {
     "name": "stderr",
     "output_type": "stream",
     "text": []
    },
    {
     "name": "stdout",
     "output_type": "stream",
     "text": [
      "INFO - <class 'dasi.design.LibraryDesign'>(id=112118783784) - 2019-08-16 16:00:34,901 - Number of groups: 257\n"
     ]
    },
    {
     "name": "stderr",
     "output_type": "stream",
     "text": []
    },
    {
     "name": "stdout",
     "output_type": "stream",
     "text": [
      "INFO - <class 'dasi.design.LibraryDesign'>(id=112118783784) - 2019-08-16 16:00:35,026 - === Assembly Graph ===\n"
     ]
    },
    {
     "name": "stderr",
     "output_type": "stream",
     "text": []
    },
    {
     "name": "stdout",
     "output_type": "stream",
     "text": [
      "INFO - <class 'dasi.design.LibraryDesign'>(id=112118783784) - 2019-08-16 16:00:35,034 - Name: Assembly Graph\n",
      "Type: DiGraph\n",
      "Number of nodes: 118\n",
      "Number of edges: 1406\n",
      "Average in degree:  11.9153\n",
      "Average out degree:  11.9153\n"
     ]
    },
    {
     "name": "stderr",
     "output_type": "stream",
     "text": []
    },
    {
     "name": "stdout",
     "output_type": "stream",
     "text": [
      "INFO - <class 'dasi.design.LibraryDesign'>(id=112118783784) - 2019-08-16 16:00:35,099 - Number of types: 7\n"
     ]
    },
    {
     "name": "stderr",
     "output_type": "stream",
     "text": []
    },
    {
     "name": "stdout",
     "output_type": "stream",
     "text": [
      "INFO - <class 'dasi.design.LibraryDesign'>(id=112118783784) - 2019-08-16 16:00:35,103 - Number of groups: 317\n"
     ]
    },
    {
     "name": "stderr",
     "output_type": "stream",
     "text": []
    },
    {
     "name": "stdout",
     "output_type": "stream",
     "text": [
      "INFO - <class 'dasi.design.LibraryDesign'>(id=112118783784) - 2019-08-16 16:00:35,199 - === Assembly Graph ===\n"
     ]
    },
    {
     "name": "stderr",
     "output_type": "stream",
     "text": []
    },
    {
     "name": "stdout",
     "output_type": "stream",
     "text": [
      "INFO - <class 'dasi.design.LibraryDesign'>(id=112118783784) - 2019-08-16 16:00:35,204 - Name: Assembly Graph\n",
      "Type: DiGraph\n",
      "Number of nodes: 134\n",
      "Number of edges: 1651\n",
      "Average in degree:  12.3209\n",
      "Average out degree:  12.3209\n"
     ]
    },
    {
     "name": "stderr",
     "output_type": "stream",
     "text": []
    },
    {
     "name": "stdout",
     "output_type": "stream",
     "text": [
      "INFO - <class 'dasi.design.LibraryDesign'>(id=112118783784) - 2019-08-16 16:00:35,333 - Number of types: 7\n"
     ]
    },
    {
     "name": "stderr",
     "output_type": "stream",
     "text": []
    },
    {
     "name": "stdout",
     "output_type": "stream",
     "text": [
      "INFO - <class 'dasi.design.LibraryDesign'>(id=112118783784) - 2019-08-16 16:00:35,342 - Number of groups: 600\n"
     ]
    },
    {
     "name": "stderr",
     "output_type": "stream",
     "text": []
    },
    {
     "name": "stdout",
     "output_type": "stream",
     "text": [
      "INFO - <class 'dasi.design.LibraryDesign'>(id=112118783784) - 2019-08-16 16:00:35,440 - === Assembly Graph ===\n"
     ]
    },
    {
     "name": "stderr",
     "output_type": "stream",
     "text": []
    },
    {
     "name": "stdout",
     "output_type": "stream",
     "text": [
      "INFO - <class 'dasi.design.LibraryDesign'>(id=112118783784) - 2019-08-16 16:00:35,446 - Name: Assembly Graph\n",
      "Type: DiGraph\n",
      "Number of nodes: 115\n",
      "Number of edges: 1521\n",
      "Average in degree:  13.2261\n",
      "Average out degree:  13.2261\n"
     ]
    },
    {
     "name": "stderr",
     "output_type": "stream",
     "text": []
    },
    {
     "name": "stdout",
     "output_type": "stream",
     "text": [
      "INFO - <class 'dasi.design.LibraryDesign'>(id=112118783784) - 2019-08-16 16:00:35,476 - Number of types: 7\n"
     ]
    },
    {
     "name": "stderr",
     "output_type": "stream",
     "text": []
    },
    {
     "name": "stdout",
     "output_type": "stream",
     "text": [
      "INFO - <class 'dasi.design.LibraryDesign'>(id=112118783784) - 2019-08-16 16:00:35,481 - Number of groups: 258\n"
     ]
    },
    {
     "name": "stderr",
     "output_type": "stream",
     "text": []
    },
    {
     "name": "stdout",
     "output_type": "stream",
     "text": [
      "INFO - <class 'dasi.design.LibraryDesign'>(id=112118783784) - 2019-08-16 16:00:35,560 - === Assembly Graph ===\n"
     ]
    },
    {
     "name": "stderr",
     "output_type": "stream",
     "text": []
    },
    {
     "name": "stdout",
     "output_type": "stream",
     "text": [
      "INFO - <class 'dasi.design.LibraryDesign'>(id=112118783784) - 2019-08-16 16:00:35,569 - Name: Assembly Graph\n",
      "Type: DiGraph\n",
      "Number of nodes: 125\n",
      "Number of edges: 1524\n",
      "Average in degree:  12.1920\n",
      "Average out degree:  12.1920\n"
     ]
    },
    {
     "name": "stderr",
     "output_type": "stream",
     "text": []
    },
    {
     "name": "stdout",
     "output_type": "stream",
     "text": [
      "INFO - <class 'dasi.design.LibraryDesign'>(id=112118783784) - 2019-08-16 16:00:35,633 - Number of types: 7\n"
     ]
    },
    {
     "name": "stderr",
     "output_type": "stream",
     "text": []
    },
    {
     "name": "stdout",
     "output_type": "stream",
     "text": [
      "INFO - <class 'dasi.design.LibraryDesign'>(id=112118783784) - 2019-08-16 16:00:35,639 - Number of groups: 247\n"
     ]
    },
    {
     "name": "stderr",
     "output_type": "stream",
     "text": []
    },
    {
     "name": "stdout",
     "output_type": "stream",
     "text": [
      "INFO - <class 'dasi.design.LibraryDesign'>(id=112118783784) - 2019-08-16 16:00:35,702 - === Assembly Graph ===\n"
     ]
    },
    {
     "name": "stderr",
     "output_type": "stream",
     "text": []
    },
    {
     "name": "stdout",
     "output_type": "stream",
     "text": [
      "INFO - <class 'dasi.design.LibraryDesign'>(id=112118783784) - 2019-08-16 16:00:35,707 - Name: Assembly Graph\n",
      "Type: DiGraph\n",
      "Number of nodes: 79\n",
      "Number of edges: 949\n",
      "Average in degree:  12.0127\n",
      "Average out degree:  12.0127\n"
     ]
    },
    {
     "name": "stderr",
     "output_type": "stream",
     "text": [
      "INFO     compiling all containers: 100%|██████████| 5/5 [00:00<00:00,  6.28it/s]\n"
     ]
    }
   ],
   "source": [
    "from dasi.design import LibraryDesign\n",
    "\n",
    "design1 = LibraryDesign(span_cost=span_cost)\n",
    "design2 = LibraryDesign(span_cost=span_cost)\n",
    "design1.add_materials(primers=primers, templates=templates, queries=queries)\n",
    "design2.add_materials(primers=primers, templates=templates, queries=queries)\n",
    "\n",
    "design1.compile_library()\n",
    "design2.logger.set_level(\"INFO\")\n",
    "design2.compile_library()"
   ]
  },
  {
   "cell_type": "code",
   "execution_count": 91,
   "metadata": {},
   "outputs": [
    {
     "name": "stdout",
     "output_type": "stream",
     "text": [
      "15\n",
      "12\n",
      "1\n",
      "11\n",
      "2\n"
     ]
    }
   ],
   "source": [
    "for qk, graph in design2.graphs.items():\n",
    "    container = design2.container_factory.containers()[qk]\n",
    "    \n",
    "    groups = container.get_groups_by_types(Constants.SHARED_FRAGMENT)\n",
    "    print(len(groups))"
   ]
  },
  {
   "cell_type": "code",
   "execution_count": 84,
   "metadata": {},
   "outputs": [
    {
     "name": "stdout",
     "output_type": "stream",
     "text": [
      "(7330, True, 'A') (7364, True, 'B')\n",
      "found\n",
      "(7330, True, 'A') (7364, True, 'B')\n",
      "found\n",
      "(7330, True, 'A') (7364, True, 'B')\n",
      "found\n",
      "(3228, True, 'A') (7009, True, 'B')\n",
      "Missing\n",
      "(4355, True, 'A') (8136, True, 'B')\n",
      "Missing\n",
      "(8792, True, 'A') (3759, True, 'B')\n",
      "Missing\n",
      "(0, True, 'A') (3605, True, 'B')\n",
      "Missing\n",
      "(3759, True, 'A') (7364, True, 'B')\n",
      "Missing\n",
      "(4377, True, 'A') (8136, True, 'B')\n",
      "Missing\n",
      "(0, True, 'A') (3759, True, 'B')\n",
      "Missing\n",
      "(4377, True, 'A') (3605, True, 'B')\n",
      "Missing\n",
      "(0, True, 'A') (7364, True, 'B')\n",
      "Missing\n",
      "(8792, True, 'A') (7364, True, 'B')\n",
      "Missing\n",
      "(8792, True, 'A') (7364, True, 'B')\n",
      "Missing\n",
      "(3206, True, 'A') (3250, True, 'B')\n",
      "Missing\n",
      "(8770, True, 'A') (8814, True, 'B')\n",
      "found\n",
      "(3250, True, 'A') (8100, True, 'B')\n",
      "Missing\n",
      "(0, True, 'A') (4850, True, 'B')\n",
      "Missing\n",
      "(3206, True, 'A') (8100, True, 'B')\n",
      "Missing\n",
      "(8770, True, 'A') (4850, True, 'B')\n",
      "Missing\n",
      "(4954, True, 'A') (5031, True, 'B')\n",
      "Missing\n",
      "(4954, True, 'A') (5031, True, 'B')\n",
      "Missing\n",
      "(3984, True, 'A') (4061, True, 'B')\n",
      "Missing\n",
      "(3984, True, 'A') (4061, True, 'B')\n",
      "Missing\n",
      "(734, True, 'A') (811, True, 'B')\n",
      "found\n",
      "(734, True, 'A') (811, True, 'B')\n",
      "found\n",
      "(734, True, 'A') (811, True, 'B')\n",
      "found\n",
      "(734, True, 'A') (811, True, 'B')\n",
      "found\n",
      "(5111, True, 'A') (5188, True, 'B')\n",
      "Missing\n",
      "(3827, True, 'A') (3904, True, 'B')\n",
      "Missing\n",
      "(577, True, 'A') (654, True, 'B')\n",
      "found\n",
      "(858, True, 'A') (1041, True, 'B')\n",
      "found\n",
      "(858, True, 'A') (1041, True, 'B')\n",
      "found\n",
      "(858, True, 'A') (1041, True, 'B')\n",
      "found\n",
      "(858, True, 'A') (1041, True, 'B')\n",
      "found\n",
      "(858, True, 'A') (1041, True, 'B')\n",
      "found\n",
      "(858, True, 'A') (1041, True, 'B')\n",
      "found\n",
      "(755, True, 'A') (938, True, 'B')\n",
      "Missing\n",
      "(4108, True, 'A') (4291, True, 'B')\n",
      "Missing\n",
      "(5235, True, 'A') (5418, True, 'B')\n",
      "Missing\n",
      "(4514, True, 'A') (4697, True, 'B')\n",
      "found\n",
      "(4514, True, 'A') (4697, True, 'B')\n",
      "found\n",
      "(0, True, 'A') (466, True, 'B')\n",
      "Missing\n",
      "(7330, True, 'A') (7364, True, 'B')\n",
      "Missing\n",
      "(2480, True, 'A') (2514, True, 'B')\n",
      "Missing\n",
      "(3571, True, 'A') (3605, True, 'B')\n",
      "found\n",
      "(0, True, 'A') (1091, True, 'B')\n",
      "Missing\n",
      "(0, True, 'A') (1091, True, 'B')\n",
      "Missing\n",
      "(3228, True, 'A') (7009, True, 'B')\n",
      "Missing\n",
      "(4355, True, 'A') (8136, True, 'B')\n",
      "Missing\n",
      "(4355, True, 'A') (8136, True, 'B')\n",
      "Missing\n",
      "(4355, True, 'A') (1091, True, 'B')\n",
      "Missing\n",
      "(4355, True, 'A') (1091, True, 'B')\n",
      "Missing\n",
      "(0, True, 'A') (3605, True, 'B')\n",
      "Missing\n",
      "(4377, True, 'A') (8136, True, 'B')\n",
      "Missing\n",
      "(4377, True, 'A') (3605, True, 'B')\n",
      "Missing\n",
      "(8792, True, 'A') (7364, True, 'B')\n",
      "Missing\n",
      "(4954, True, 'A') (5031, True, 'B')\n",
      "found\n",
      "(4954, True, 'A') (5031, True, 'B')\n",
      "found\n",
      "(4954, True, 'A') (5031, True, 'B')\n",
      "found\n",
      "(4954, True, 'A') (5031, True, 'B')\n",
      "found\n",
      "(4954, True, 'A') (5031, True, 'B')\n",
      "found\n",
      "(4954, True, 'A') (5031, True, 'B')\n",
      "found\n",
      "(3984, True, 'A') (4061, True, 'B')\n",
      "Missing\n",
      "(734, True, 'A') (811, True, 'B')\n",
      "Missing\n",
      "(5111, True, 'A') (5188, True, 'B')\n",
      "found\n",
      "(5111, True, 'A') (5188, True, 'B')\n",
      "found\n",
      "(5111, True, 'A') (5188, True, 'B')\n",
      "found\n",
      "(858, True, 'A') (1041, True, 'B')\n",
      "Missing\n",
      "(858, True, 'A') (1041, True, 'B')\n",
      "Missing\n",
      "(755, True, 'A') (938, True, 'B')\n",
      "found\n",
      "(755, True, 'A') (938, True, 'B')\n",
      "found\n",
      "(755, True, 'A') (938, True, 'B')\n",
      "found\n",
      "(755, True, 'A') (938, True, 'B')\n",
      "found\n",
      "(755, True, 'A') (938, True, 'B')\n",
      "found\n",
      "(4108, True, 'A') (4291, True, 'B')\n",
      "Missing\n",
      "(5235, True, 'A') (5418, True, 'B')\n",
      "found\n",
      "(5235, True, 'A') (5418, True, 'B')\n",
      "found\n",
      "(5235, True, 'A') (5418, True, 'B')\n",
      "found\n",
      "(0, True, 'A') (466, True, 'B')\n",
      "Missing\n",
      "(7330, True, 'A') (7364, True, 'B')\n",
      "Missing\n",
      "(2480, True, 'A') (2514, True, 'B')\n",
      "Missing\n",
      "(0, True, 'A') (1091, True, 'B')\n",
      "Missing\n",
      "(3228, True, 'A') (7009, True, 'B')\n",
      "Missing\n",
      "(3228, True, 'A') (7009, True, 'B')\n",
      "Missing\n",
      "(4355, True, 'A') (1091, True, 'B')\n",
      "Missing\n",
      "(3206, True, 'A') (3250, True, 'B')\n",
      "Missing\n",
      "(3250, True, 'A') (8100, True, 'B')\n",
      "Missing\n",
      "(3206, True, 'A') (8100, True, 'B')\n",
      "Missing\n",
      "(4954, True, 'A') (5031, True, 'B')\n",
      "Missing\n",
      "(4954, True, 'A') (5031, True, 'B')\n",
      "Missing\n",
      "(3984, True, 'A') (4061, True, 'B')\n",
      "found\n",
      "(3984, True, 'A') (4061, True, 'B')\n",
      "found\n",
      "(3984, True, 'A') (4061, True, 'B')\n",
      "found\n",
      "(3984, True, 'A') (4061, True, 'B')\n",
      "found\n",
      "(3984, True, 'A') (4061, True, 'B')\n",
      "found\n",
      "(734, True, 'A') (811, True, 'B')\n",
      "Missing\n",
      "(5111, True, 'A') (5188, True, 'B')\n",
      "Missing\n",
      "(3827, True, 'A') (3904, True, 'B')\n",
      "found\n",
      "(858, True, 'A') (1041, True, 'B')\n",
      "Missing\n",
      "(858, True, 'A') (1041, True, 'B')\n",
      "Missing\n",
      "(755, True, 'A') (938, True, 'B')\n",
      "Missing\n",
      "(755, True, 'A') (938, True, 'B')\n",
      "Missing\n",
      "(4108, True, 'A') (4291, True, 'B')\n",
      "found\n",
      "(4108, True, 'A') (4291, True, 'B')\n",
      "found\n",
      "(4108, True, 'A') (4291, True, 'B')\n",
      "found\n",
      "(4108, True, 'A') (4291, True, 'B')\n",
      "found\n",
      "(5235, True, 'A') (5418, True, 'B')\n",
      "Missing\n",
      "(4514, True, 'A') (4697, True, 'B')\n",
      "Missing\n",
      "7665.722222222223\n",
      "7665.722222222223\n"
     ]
    }
   ],
   "source": [
    "all_edges = get_shared_edges(design2)\n",
    "\n",
    "from copy import deepcopy\n",
    "\n",
    "for qk, graph in design2.graphs.items():\n",
    "    for n1, n2 in all_edges:\n",
    "        if n1[0] == qk or n2[0] == qk:\n",
    "            node1 = (n1[1], True, 'A')\n",
    "            node2 = (n1[2], True, 'B')\n",
    "            \n",
    "            print(node1, node2)\n",
    "            try:\n",
    "                edata = graph[node1][node2]\n",
    "                edata['weight'] = 0\n",
    "                print(\"found\")\n",
    "            except KeyError:\n",
    "                print(\"Missing\")\n",
    "            \n",
    "print(total_design_cost(design1))\n",
    "print(total_design_cost(design2))"
   ]
  },
  {
   "cell_type": "code",
   "execution_count": 80,
   "metadata": {},
   "outputs": [
    {
     "data": {
      "text/plain": [
       "[<dasi.AlignmentContainer at 0x1a18fa55c0>,\n",
       " <dasi.AlignmentContainer at 0x1a1a8421d0>,\n",
       " <dasi.AlignmentContainer at 0x1a1a842470>,\n",
       " <dasi.AlignmentContainer at 0x1a1a8424a8>,\n",
       " <dasi.AlignmentContainer at 0x1a1ace7cf8>]"
      ]
     },
     "execution_count": 80,
     "metadata": {},
     "output_type": "execute_result"
    }
   ],
   "source": [
    "design1.container_list()"
   ]
  },
  {
   "cell_type": "code",
   "execution_count": 71,
   "metadata": {},
   "outputs": [
    {
     "data": {
      "text/plain": [
       "7665.722222222223"
      ]
     },
     "execution_count": 71,
     "metadata": {},
     "output_type": "execute_result"
    }
   ],
   "source": [
    "total_design_cost(design2)"
   ]
  },
  {
   "cell_type": "code",
   "execution_count": 8,
   "metadata": {},
   "outputs": [
    {
     "data": {
      "image/png": "[encoded data removed]",
      "text/plain": [
       "<Figure size 432x288 with 1 Axes>"
      ]
     },
     "metadata": {},
     "output_type": "display_data"
    }
   ],
   "source": [
    "import networkx as nx\n",
    "from itertools import product\n",
    "\n",
    "def find(a, b, alignments):\n",
    "    for align in alignments:\n",
    "        if a == align.query_region.a and b == align.query_region.b:\n",
    "            yield align\n",
    "\n",
    "            \n",
    "G = nx.MultiGraph()\n",
    "\n",
    "repeats = []\n",
    "\n",
    "for r in design.shared_alignments:\n",
    "    qk = r['query']['origin_key']\n",
    "    sk = r['subject']['origin_key']\n",
    "    if qk == sk:\n",
    "        repeats.append((qk, r['query']['start'], r['query']['end']))\n",
    "\n",
    "non_repeat_interactions = {}\n",
    "\n",
    "for r in design.shared_alignments:\n",
    "    qk = r['query']['origin_key']\n",
    "    sk = r['subject']['origin_key']\n",
    "    \n",
    "    if qk != sk:\n",
    "        n1 = (sk, r['subject']['start'], r['subject']['end'])\n",
    "        n2 = (qk, r['query']['start'], r['query']['end'])\n",
    "        if n1 not in repeats and n2 not in repeats:\n",
    "            query = design.container_factory.seqdb[qk]\n",
    "            subject = design.container_factory.seqdb[sk]\n",
    "            \n",
    "            s1, e1 = r['query']['start'], r['query']['end']\n",
    "            s2, e2 = r['subject']['start'], r['subject']['end']\n",
    "            \n",
    "            non_repeat_interactions.setdefault(n1, set()).add(n2)\n",
    "            non_repeat_interactions.setdefault(n2, set()).add(n1)\n",
    "\n",
    "G = nx.Graph()\n",
    "for k, v in non_repeat_interactions.items():\n",
    "    for _v in v:\n",
    "        G.add_edge(k, _v)\n",
    "        \n",
    "%matplotlib inline\n",
    "\n",
    "nx.draw(G)\n",
    "#             print(r['subject']['start'], r['subject']['end'])\n",
    "#             print(query.name, subject.name)"
   ]
  },
  {
   "cell_type": "code",
   "execution_count": 33,
   "metadata": {},
   "outputs": [
    {
     "data": {
      "text/plain": [
       "dasi.AlignmentContainer"
      ]
     },
     "execution_count": 33,
     "metadata": {},
     "output_type": "execute_result"
    }
   ],
   "source": [
    "from dasi import AlignmentContainer\n",
    "\n",
    "AlignmentContainer()"
   ]
  },
  {
   "cell_type": "code",
   "execution_count": 6,
   "metadata": {},
   "outputs": [
    {
     "data": {
      "text/plain": [
       "[SeqRecord(seq=Seq('AGTAATAGTGACTATGTTGCTCCTTTTACGCTATGTGGATACGCTGCTTTAATG...TCA', IUPACAmbiguousDNA()), id='pLKO-pEF1a-FRT-tdTomato', name='pLKO-pEF1a-FRT-tdTomato', description='', dbxrefs=[]),\n",
       " SeqRecord(seq=Seq('TCGCGCGTTTCGGTGATGACGGTGAAAACCTCTGACACATGCAGCTCCCGGAGA...GTC', IUPACAmbiguousDNA()), id='pMODKan-HO-pACT1-Z4-', name='pMODKan-HO-pACT1-Z4-', description='', dbxrefs=[]),\n",
       " SeqRecord(seq=Seq('GCCGATACGAAGGTTTTCTCCAGCGAAGGTCGGGCAGGAAGAGGGCCTATTTCC...TGC', IUPACAmbiguousDNA()), id='pINS-01-hU6-SV40.NT1-op', name='pINS-01-hU6-SV40.NT1-op', description='', dbxrefs=[])]"
      ]
     },
     "execution_count": 6,
     "metadata": {},
     "output_type": "execute_result"
    }
   ],
   "source": [
    "queries"
   ]
  },
  {
   "cell_type": "code",
   "execution_count": 10,
   "metadata": {},
   "outputs": [],
   "source": [
    "for i in range(200):\n",
    "    for g in design.graphs.values():\n",
    "        nodelist = list(g.nodes())\n",
    "        nx.floyd_warshall_numpy(g, nodelist=nodelist, weight='weight')"
   ]
  },
  {
   "cell_type": "code",
   "execution_count": 12,
   "metadata": {},
   "outputs": [
    {
     "name": "stdout",
     "output_type": "stream",
     "text": [
      "CMD: makeblastdb -dbtype nucl -title 3d8bacc7-bade-4027-b482-d960228270db -out /var/folders/hl/pff9rjpd5jx73ylds97m2hww0000gn/T/tmpxs_z4hlp/3d8bacc7-bade-4027-b482-d960228270db -in /var/folders/hl/pff9rjpd5jx73ylds97m2hww0000gn/T/tmpxeb9j68w.fasta\n",
      "CMD: blastn -db /var/folders/hl/pff9rjpd5jx73ylds97m2hww0000gn/T/tmpxs_z4hlp/3d8bacc7-bade-4027-b482-d960228270db -out /var/folders/hl/pff9rjpd5jx73ylds97m2hww0000gn/T/tmpxs_z4hlp/tmpigw0bmmw -query /var/folders/hl/pff9rjpd5jx73ylds97m2hww0000gn/T/tmpql37_lej.fasta -outfmt \"7 qacc sacc score evalue bitscore length nident gapopen gaps qlen qstart qend slen sstart send sstrand qseq sseq\"\n",
      "CMD: makeblastdb -dbtype nucl -title 084292af-5ab1-4f8f-8738-c79e4c8a1fac -out /var/folders/hl/pff9rjpd5jx73ylds97m2hww0000gn/T/tmpzicbbq87/084292af-5ab1-4f8f-8738-c79e4c8a1fac -in /var/folders/hl/pff9rjpd5jx73ylds97m2hww0000gn/T/tmptupf1p9o.fasta\n",
      "CMD: blastn -db /var/folders/hl/pff9rjpd5jx73ylds97m2hww0000gn/T/tmpzicbbq87/084292af-5ab1-4f8f-8738-c79e4c8a1fac -out /var/folders/hl/pff9rjpd5jx73ylds97m2hww0000gn/T/tmpzicbbq87/tmpg4iwidw0 -query /var/folders/hl/pff9rjpd5jx73ylds97m2hww0000gn/T/tmpzqapt6jq.fasta -outfmt \"7 qacc sacc score evalue bitscore length nident gapopen gaps qlen qstart qend slen sstart send sstrand qseq sseq\" -task blastn-short\n"
     ]
    },
    {
     "ename": "AttributeError",
     "evalue": "'Design' object has no attribute '_edges'",
     "output_type": "error",
     "traceback": [
      "\u001b[0;31m---------------------------------------------------------------------------\u001b[0m",
      "\u001b[0;31mAttributeError\u001b[0m                            Traceback (most recent call last)",
      "\u001b[0;32m<ipython-input-12-4362d350e210>\u001b[0m in \u001b[0;36m<module>\u001b[0;34m\u001b[0m\n\u001b[1;32m      4\u001b[0m \u001b[0;34m\u001b[0m\u001b[0m\n\u001b[1;32m      5\u001b[0m \u001b[0mdesign\u001b[0m\u001b[0;34m.\u001b[0m\u001b[0mcompile\u001b[0m\u001b[0;34m(\u001b[0m\u001b[0;34m)\u001b[0m\u001b[0;34m\u001b[0m\u001b[0;34m\u001b[0m\u001b[0m\n\u001b[0;32m----> 6\u001b[0;31m \u001b[0mdesign\u001b[0m\u001b[0;34m.\u001b[0m\u001b[0m_edges\u001b[0m\u001b[0;34m\u001b[0m\u001b[0;34m\u001b[0m\u001b[0m\n\u001b[0m",
      "\u001b[0;31mAttributeError\u001b[0m: 'Design' object has no attribute '_edges'"
     ]
    }
   ],
   "source": [
    "design = Design(span_cost=span_cost)\n",
    "\n",
    "design.add_materials(primers=primers, templates=templates, queries=queries)\n",
    "\n",
    "design.compile()\n",
    "design._edges"
   ]
  },
  {
   "cell_type": "code",
   "execution_count": null,
   "metadata": {},
   "outputs": [],
   "source": []
  }
 ],
 "metadata": {
  "kernelspec": {
   "display_name": "Python 3",
   "language": "python",
   "name": "python3"
  },
  "language_info": {
   "codemirror_mode": {
    "name": "ipython",
    "version": 3
   },
   "file_extension": ".py",
   "mimetype": "text/x-python",
   "name": "python",
   "nbconvert_exporter": "python",
   "pygments_lexer": "ipython3",
   "version": "3.7.3"
  }
 },
 "nbformat": 4,
 "nbformat_minor": 2
}
