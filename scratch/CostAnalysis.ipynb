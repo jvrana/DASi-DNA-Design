{
 "cells": [
  {
   "cell_type": "code",
   "execution_count": 4,
   "metadata": {},
   "outputs": [],
   "source": [
    "from collections.abc import Sized, Iterable\n",
    "import numpy as np\n",
    "%matplotlib inline\n",
    "\n",
    "class NpDict(Sized, Iterable):\n",
    "    \n",
    "    def __init__(self, size, start, default=0., low=None, high=None, dtype=np.float):\n",
    "        self.a = np.full(size, default, dtype=dtype)\n",
    "        self.start = start\n",
    "        self.default = 0\n",
    "        self.low = low\n",
    "        self.high = high\n",
    "    \n",
    "    @classmethod\n",
    "    def add_to_slice(cls, s, x):\n",
    "        if isinstance(s, slice):\n",
    "            start = s.start\n",
    "            stop = s.stop\n",
    "            step = s.step\n",
    "            if start is not None:\n",
    "                start += x\n",
    "            if stop is not None:\n",
    "                stop += x\n",
    "            return slice(start, stop, step)\n",
    "        elif isinstance(s, Iterable):\n",
    "            return tuple(cls.add_to_slice(_s, x) for _s in s)\n",
    "        else:\n",
    "            return s + x\n",
    "    \n",
    "    \n",
    "    def clip_slice(self, s):\n",
    "        if s.stop is not None:\n",
    "            s.stop = min(len(self.a), s.stop)\n",
    "        elif s.start is not None:\n",
    "            s.start = max(0, s.start)\n",
    "        return s\n",
    "    \n",
    "    def defaults(self):\n",
    "        l = self.a[0]\n",
    "        if self.low is not None:\n",
    "            l = self.a.dtype.type(self.low)\n",
    "        h = self.a[-1]\n",
    "        if self.high is not None:\n",
    "            h = self.a.dtype.type(self.high)\n",
    "        return l, h\n",
    "        \n",
    "    def __setitem__(self, k, v):\n",
    "        index = self.add_to_slice(k, -self.start)\n",
    "        self.a[index] = v  \n",
    "    \n",
    "    def __getitem__(self, k):\n",
    "        i = self.add_to_slice(k, -self.start)\n",
    "        \n",
    "        if isinstance(i, slice):\n",
    "            padding = [0, 0]\n",
    "            if i.start < 0:\n",
    "                padding[0] = -i.start\n",
    "            if i.stop >= len(self.a):\n",
    "                padding[1] = i.stop - len(self.a) \n",
    "            self.clip_slice(i)\n",
    "            return np.pad(self.a[i], padding, 'constant', constant_values=self.defaults())\n",
    "        elif isinstance(i, Iterable):\n",
    "            return np.array([self[_i] for _i in i])\n",
    "        else:\n",
    "            defaults = self.defaults()\n",
    "            if i < 0:\n",
    "                return defaults[0]\n",
    "            elif i >= len(self.a):\n",
    "                return defaults[1]\n",
    "            else:\n",
    "                return self.a[i]\n",
    "    \n",
    "    def __contains__(self, k):\n",
    "        return k in self.a\n",
    "    \n",
    "    def __iter__(self):\n",
    "        return self.a\n",
    "        \n",
    "    def __len__(self):\n",
    "        return len(self.a)\n",
    "    \n",
    "    @classmethod\n",
    "    def from_tuples(cls, list_of_tuples, **kwargs):\n",
    "        s = sorted(list_of_tuples)\n",
    "        size = s[-1][1] - s[0][0]\n",
    "        start = s[0][0]\n",
    "        a = cls(size, start, **kwargs)\n",
    "        for l, h, v in s:\n",
    "            a[l:h] = v\n",
    "        return a\n",
    "    \n",
    "    def __str__(self):\n",
    "        return \"{}({})(\\n{})\".format( self.__class__.__name__, self.start, self.a)\n",
    "        \n",
    "    def __repr__(self):\n",
    "        return str(self)"
   ]
  },
  {
   "cell_type": "markdown",
   "metadata": {},
   "source": [
    "## Cost of an assembly junction\n",
    "\n",
    "For gibson assembly. For golden gate assembly, additional sequence will have to added to the primer, reducing the extensibility."
   ]
  },
  {
   "cell_type": "code",
   "execution_count": 5,
   "metadata": {},
   "outputs": [
    {
     "name": "stdout",
     "output_type": "stream",
     "text": [
      "float64\n",
      "(199, 199, 998)\n",
      "[[-300 -301 -302 ... -481 -482 -483]\n",
      " [-299 -300 -301 ... -480 -481 -482]\n",
      " [-298 -299 -300 ... -479 -480 -481]\n",
      " ...\n",
      " [ 695  694  693 ...  514  513  512]\n",
      " [ 696  695  694 ...  515  514  513]\n",
      " [ 697  696  695 ...  516  515  514]]\n"
     ]
    },
    {
     "name": "stderr",
     "output_type": "stream",
     "text": [
      "/Users/justinvrana/anaconda/lib/python3.7/site-packages/ipykernel_launcher.py:83: RuntimeWarning: divide by zero encountered in true_divide\n"
     ]
    },
    {
     "name": "stdout",
     "output_type": "stream",
     "text": [
      "(998, 199, 199)\n"
     ]
    },
    {
     "data": {
      "image/png": "[encoded data removed]",
      "text/plain": [
       "<Figure size 432x360 with 1 Axes>"
      ]
     },
     "metadata": {
      "needs_background": "light"
     },
     "output_type": "display_data"
    },
    {
     "data": {
      "image/png": "[encoded data removed]",
      "text/plain": [
       "<Figure size 432x288 with 1 Axes>"
      ]
     },
     "metadata": {
      "needs_background": "light"
     },
     "output_type": "display_data"
    }
   ],
   "source": [
    "# this quickly computes the minimum cost per span for primers\n",
    "# todo: handle negative span\n",
    "\n",
    "import numpy as np\n",
    "\n",
    "min_anneal = 16.0\n",
    "day_cost = 20.0\n",
    "material_importance = 1.0\n",
    "\n",
    "# material cost\n",
    "p1 = np.array([0, 0.3, 1.5])\n",
    "p2 = np.array([0, 0.8, 2.5])\n",
    "\n",
    "# primer lengths for materials above\n",
    "a1 = np.arange(min_anneal, 60, dtype=np.int64)\n",
    "a2 = np.arange(45, 200, dtype=np.int64)\n",
    "a = np.concatenate([a1, a2])\n",
    "a = a.reshape((-1, 1))\n",
    "\n",
    "# # stacked materials cost\n",
    "p1 = np.broadcast_to(p1, (a1.shape[0], p1.shape[0]))\n",
    "p2 = np.broadcast_to(p2, (a2.shape[0], p2.shape[0]))\n",
    "p = np.concatenate([p1, p2])\n",
    "\n",
    "# materials cost across indices \"a\", the primer lengths\n",
    "# materials cost is independent of span\n",
    "m = p[:, 1, np.newaxis] * a + p[:, 0, np.newaxis]\n",
    "m = m + m.T\n",
    "# time cost along indices \"a\", the primer lengths\n",
    "# time cost is independent of span\n",
    "t = p[:, 2, np.newaxis]\n",
    "t = np.maximum(t, t.T)\n",
    "print(t.dtype)\n",
    "\n",
    "# the spanning distance\n",
    "min_span = -300\n",
    "max_span = 2*a.max()\n",
    "span = np.arange(min_span, max_span - min_span, 1)\n",
    "ext = a - min(a)\n",
    "\n",
    "# overlap (sum of extensions - span) for primers of lengths a[x], a[y]\n",
    "relative_span = span - (ext + ext.T)[:, :, np.newaxis] \n",
    "print(relative_span.shape)\n",
    "relative_span = relative_span.swapaxes(2, 0).swapaxes(1, 2)\n",
    "\n",
    "# sanity checks\n",
    "assert relative_span[0].shape == (ext.shape[0], ext.shape[0])\n",
    "assert relative_span[0, 0, 0] == min_span\n",
    "print(relative_span[:, :, 0])\n",
    "assert relative_span[0, 1, 0] == min_span - 1\n",
    "assert relative_span[0, 0, 1] == min_span - 1\n",
    "assert relative_span[0, 1, 1] == min_span - 2\n",
    "\n",
    "\n",
    "# print(relative_span)\n",
    "# o = ((ext + ext.T)[:, :, np.newaxis] + span)\n",
    "# o = -o.swapaxes(2, 0).swapaxes(1, 2)\n",
    "\n",
    "# # discontinuous function representing the efficiency for assembly\n",
    "j = np.zeros(300, dtype=np.float)\n",
    "j[:10] = 0.0\n",
    "j[10:20] = 0.1\n",
    "j[20:30] = 0.8\n",
    "j[30:40] = 0.9\n",
    "j[40:50] = 0.8\n",
    "j[50:100] = 0.75\n",
    "j[100:120] = 0.5\n",
    "j[120:150] = 0.3\n",
    "j[150:250] = 0.1\n",
    "j[250:300] = 0.0\n",
    "\n",
    "e = j[np.clip(-relative_span, 0, len(j)-1)]\n",
    "\n",
    "# # sanity check\n",
    "# assert e[0].shape == (ext.shape[0], ext.shape[0])\n",
    "\n",
    "# assert e[0, 0, 0] == 0\n",
    "# assert e[-min_span, 20, 20] == 0.8\n",
    "# assert e[-min_span, 20, 0] == 0.8\n",
    "# assert e[-min_span, 10, 5] == 0.1\n",
    "# assert e[-min_span, 0, 0] == 0\n",
    "\n",
    "xyz_costs = (m*material_importance + t*day_cost) * 1./e\n",
    "\n",
    "print(xyz_costs[:, :, :].shape)\n",
    "\n",
    "\n",
    "min_cost_per_span = xyz_costs[:, :, :].min(axis=(1,2))\n",
    "\n",
    "\n",
    "import seaborn as sns\n",
    "import pylab as plt\n",
    "\n",
    "fig = plt.figure(figsize=(6,5))\n",
    "ax = fig.gca()\n",
    "sns.scatterplot(y= min_cost_per_span, x=min_span + np.arange(len(min_cost_per_span)), ax=ax)\n",
    "plt.show()\n",
    "\n",
    "flexibility = []\n",
    "span = []\n",
    "for i, x in enumerate(xyz_costs):\n",
    "    \n",
    "    span.append(i)\n",
    "    if x.min() != np.Inf:\n",
    "        opts = np.argwhere(x < x.min() + 10.)\n",
    "        flexibility.append(len(opts))\n",
    "    else:\n",
    "        flexibility.append(0)\n",
    "        \n",
    "\n",
    "sns.scatterplot(x=np.array(span)+min_span, y=flexibility)\n",
    "plt.title(\"Design Flexibility\")\n",
    "\n",
    "def junction_cost(x):\n",
    "    i = x - min_span\n",
    "    return min_cost_per_span[np.clip(i, 0, len(min_cost_per_span)-1)]"
   ]
  },
  {
   "cell_type": "markdown",
   "metadata": {},
   "source": [
    "## Clusting\n",
    "\n",
    "We will eventually want to resolve design flexibility with cost in a meaningful way."
   ]
  },
  {
   "cell_type": "code",
   "execution_count": 6,
   "metadata": {},
   "outputs": [
    {
     "data": {
      "text/plain": [
       "<matplotlib.axes._subplots.AxesSubplot at 0x12a8f24a8>"
      ]
     },
     "execution_count": 6,
     "metadata": {},
     "output_type": "execute_result"
    },
    {
     "data": {
      "image/png": "[encoded data removed]",
      "text/plain": [
       "<Figure size 432x288 with 1 Axes>"
      ]
     },
     "metadata": {
      "needs_background": "light"
     },
     "output_type": "display_data"
    }
   ],
   "source": [
    "x = xyz_costs[300].copy()\n",
    "x[x == np.Inf] = 4000\n",
    "sns.distplot(x.flatten())"
   ]
  },
  {
   "cell_type": "markdown",
   "metadata": {},
   "source": [
    "## Synthesis and Assembly Cost\n",
    "\n",
    "We want to interate over:\n",
    "1. gene size\n",
    "2. gene shift relative to left end\n",
    "3. none, one, or both extendable"
   ]
  },
  {
   "cell_type": "code",
   "execution_count": 71,
   "metadata": {},
   "outputs": [
    {
     "data": {
      "text/plain": [
       "array([[[377.33333333,          inf,          inf, ...,          inf,\n",
       "                  inf,          inf],\n",
       "        [376.44444444,          inf,          inf, ...,          inf,\n",
       "                  inf,          inf],\n",
       "        [375.55555556,          inf,          inf, ...,          inf,\n",
       "                  inf,          inf],\n",
       "        ...,\n",
       "        [         inf,          inf,          inf, ..., 396.        ,\n",
       "         132.        ,  49.5       ],\n",
       "        [         inf,          inf,          inf, ..., 396.        ,\n",
       "         132.        ,  49.5       ],\n",
       "        [         inf,          inf,          inf, ..., 396.        ,\n",
       "         132.        ,  49.5       ]],\n",
       "\n",
       "       [[376.44444444,          inf,          inf, ...,          inf,\n",
       "                  inf,          inf],\n",
       "        [375.55555556,          inf,          inf, ...,          inf,\n",
       "                  inf,          inf],\n",
       "        [374.66666667,          inf,          inf, ...,          inf,\n",
       "                  inf,          inf],\n",
       "        ...,\n",
       "        [         inf,          inf,          inf, ..., 396.        ,\n",
       "         132.        ,  49.5       ],\n",
       "        [         inf,          inf,          inf, ..., 396.        ,\n",
       "         132.        ,  49.5       ],\n",
       "        [         inf,          inf,          inf, ...,          inf,\n",
       "         396.        ,  52.8       ]],\n",
       "\n",
       "       [[375.55555556,          inf,          inf, ...,          inf,\n",
       "                  inf,          inf],\n",
       "        [374.66666667,          inf,          inf, ...,          inf,\n",
       "                  inf,          inf],\n",
       "        [373.77777778,          inf,          inf, ...,          inf,\n",
       "                  inf,          inf],\n",
       "        ...,\n",
       "        [         inf,          inf,          inf, ..., 396.        ,\n",
       "         132.        ,  49.5       ],\n",
       "        [         inf,          inf,          inf, ...,          inf,\n",
       "         396.        ,  52.8       ],\n",
       "        [         inf,          inf,          inf, ...,          inf,\n",
       "         396.        ,  52.8       ]],\n",
       "\n",
       "       ...,\n",
       "\n",
       "       [[         inf,          inf,          inf, ...,          inf,\n",
       "                  inf,          inf],\n",
       "        [         inf,          inf,          inf, ...,          inf,\n",
       "                  inf,          inf],\n",
       "        [         inf,          inf,          inf, ...,          inf,\n",
       "                  inf,          inf],\n",
       "        ...,\n",
       "        [         inf,          inf,          inf, ...,          inf,\n",
       "                  inf,          inf],\n",
       "        [         inf,          inf,          inf, ...,          inf,\n",
       "                  inf,          inf],\n",
       "        [         inf,          inf,          inf, ...,          inf,\n",
       "                  inf,          inf]],\n",
       "\n",
       "       [[         inf,          inf,          inf, ...,          inf,\n",
       "                  inf,          inf],\n",
       "        [         inf,          inf,          inf, ...,          inf,\n",
       "                  inf,          inf],\n",
       "        [         inf,          inf,          inf, ...,          inf,\n",
       "                  inf,          inf],\n",
       "        ...,\n",
       "        [         inf,          inf,          inf, ...,          inf,\n",
       "                  inf,          inf],\n",
       "        [         inf,          inf,          inf, ...,          inf,\n",
       "                  inf,          inf],\n",
       "        [         inf,          inf,          inf, ...,          inf,\n",
       "                  inf,          inf]],\n",
       "\n",
       "       [[         inf,          inf,          inf, ...,          inf,\n",
       "                  inf,          inf],\n",
       "        [         inf,          inf,          inf, ...,          inf,\n",
       "                  inf,          inf],\n",
       "        [         inf,          inf,          inf, ...,          inf,\n",
       "                  inf,          inf],\n",
       "        ...,\n",
       "        [         inf,          inf,          inf, ...,          inf,\n",
       "                  inf,          inf],\n",
       "        [         inf,          inf,          inf, ...,          inf,\n",
       "                  inf,          inf],\n",
       "        [         inf,          inf,          inf, ...,          inf,\n",
       "                  inf,          inf]]])"
      ]
     },
     "execution_count": 71,
     "metadata": {},
     "output_type": "execute_result"
    }
   ],
   "source": [
    "gene_synthesis_cost = np.zeros((2250, 2))\n",
    "\n",
    "d = {\n",
    "            (0, 1): {\"base\": 0.0, \"time\": 0},\n",
    "            (1, 100): {\"base\": np.Inf, \"time\": np.Inf},\n",
    "            (100, 500): {\"base\": 89.0, \"time\": 3.0},\n",
    "            (500, 750): {\"base\": 129.0, \"time\": 3.0},\n",
    "            (750, 1000): {\"base\": 149.0, \"time\": 4.0},\n",
    "            (1000, 1250): {\"base\": 209.0, \"time\": 7.0},\n",
    "            (1250, 1500): {\"base\": 249.0, \"time\": 7.0},\n",
    "            (1500, 1750): {\"base\": 289.0, \"time\": 7.0},\n",
    "            (1750, 2000): {\"base\": 329.0, \"time\": 7.0},\n",
    "            (2000, 2250): {\"base\": 399.0, \"time\": 7.0},\n",
    "        }\n",
    "\n",
    "# gene_bins =  np.array([0, 1, 100, 500, 750, 1000, 1250, 1500, 1750, 2000, 2250])\n",
    "# gene_costs = np.array([0, np.Inf , 89.0, 129.0, 149.0, 209.0, 249.0, 289.0, 329.0, 399.0, np.Inf])\n",
    "# gene_times = np.array([0,  np.Inf, 3.0, 3.0, 4.0, 7.0, 7.0, 7.0, 7.0, 7.0, np.Inf])\n",
    "\n",
    "for k, v in d.items():\n",
    "    gene_synthesis_cost[k[0]:k[1]] = np.array([v['base'], v['time']])\n",
    "\n",
    "gene_sizes = np.arange(len(gene_synthesis_cost)).reshape(-1, 1)\n",
    "gene_costs = gene_synthesis_cost[:, 0].reshape(-1, 1)\n",
    "gene_times = gene_synthesis_cost[:, 1].reshape(-1, 1)\n",
    "\n",
    "# lets optimize for a single span\n",
    "span = np.arange(0, 2000, 100).reshape(1, -1)\n",
    "\n",
    "# variables are (a) shifting, (b) gene_size\n",
    "shift = np.arange(-300, 500)\n",
    "# span, gene_size\n",
    "\n",
    "left_span = np.arange(-300, 500).reshape(-1, 1)[:, np.newaxis]\n",
    "left_cost = junction_cost(left_span)\n",
    "right_span = span - gene_sizes - left_span\n",
    "\n",
    "# left_span, gene_size, span\n",
    "# print(right_span.shape)\n",
    "right_cost = junction_cost(right_span)\n",
    "\n",
    "right_cost\n",
    "\n",
    "# time_costs = gene_times[gene_sizes].swapaxes(0, 1)\n",
    "# material_costs = right_cost + left_cost + gene_costs[gene_sizes].swapaxes(0, 1)"
   ]
  },
  {
   "cell_type": "code",
   "execution_count": 89,
   "metadata": {},
   "outputs": [],
   "source": [
    "left_span = np.arange(-300, 500).reshape(-1, 1)[:, np.newaxis]\n",
    "left_cost = junction_cost(left_span)"
   ]
  },
  {
   "cell_type": "code",
   "execution_count": 114,
   "metadata": {},
   "outputs": [
    {
     "data": {
      "text/plain": [
       "(20, 800, 2250)"
      ]
     },
     "execution_count": 114,
     "metadata": {},
     "output_type": "execute_result"
    }
   ],
   "source": [
    "# lets optimize for a single span\n",
    "span = np.arange(0, 2000, 100).reshape(1, -1)\n",
    "\n",
    "\n",
    "left_span = np.arange(-300, 500, 1).reshape(-1, 1)[:, np.newaxis]\n",
    "left_cost = junction_cost(left_span)\n",
    "\n",
    "right_span = span - gene_sizes - left_span\n",
    "right_cost = junction_cost(right_span)\n",
    "\n",
    "gene_cost = gene_costs[gene_sizes]\n",
    "gene_cost = gene_cost.swapaxes(0, 1)\n",
    "m = right_cost + gene_cost + left_cost\n",
    "m = m.swapaxes(0, 2).swapaxes(1, 2)\n",
    "m.shape\n"
   ]
  },
  {
   "cell_type": "code",
   "execution_count": null,
   "metadata": {},
   "outputs": [],
   "source": [
    "gene_times + m[:, :, np.newaxis]"
   ]
  },
  {
   "cell_type": "code",
   "execution_count": 104,
   "metadata": {},
   "outputs": [
    {
     "data": {
      "text/plain": [
       "<matplotlib.axes._subplots.AxesSubplot at 0x148edcf60>"
      ]
     },
     "execution_count": 104,
     "metadata": {},
     "output_type": "execute_result"
    },
    {
     "data": {
      "image/png": "[encoded data removed]",
      "text/plain": [
       "<Figure size 432x288 with 1 Axes>"
      ]
     },
     "metadata": {
      "needs_background": "light"
     },
     "output_type": "display_data"
    }
   ],
   "source": [
    "y = m.min(axis=(0, 1))\n",
    "\n",
    "sns.scatterplot(y=y, x=np.arange(len(y)))"
   ]
  },
  {
   "cell_type": "code",
   "execution_count": 84,
   "metadata": {},
   "outputs": [
    {
     "data": {
      "text/plain": [
       "array([[377.33333333,          inf,          inf, ...,          inf,\n",
       "                 inf,          inf],\n",
       "       [376.44444444,          inf,          inf, ...,          inf,\n",
       "                 inf,          inf],\n",
       "       [375.55555556,          inf,          inf, ...,          inf,\n",
       "                 inf,          inf],\n",
       "       ...,\n",
       "       [         inf,          inf,          inf, ...,          inf,\n",
       "                 inf,          inf],\n",
       "       [         inf,          inf,          inf, ...,          inf,\n",
       "                 inf,          inf],\n",
       "       [         inf,          inf,          inf, ...,          inf,\n",
       "                 inf,          inf]])"
      ]
     },
     "execution_count": 84,
     "metadata": {},
     "output_type": "execute_result"
    }
   ],
   "source": [
    "m[:, :, 0]"
   ]
  },
  {
   "cell_type": "code",
   "execution_count": null,
   "metadata": {},
   "outputs": [],
   "source": []
  }
 ],
 "metadata": {
  "kernelspec": {
   "display_name": "Python 3",
   "language": "python",
   "name": "python3"
  },
  "language_info": {
   "codemirror_mode": {
    "name": "ipython",
    "version": 3
   },
   "file_extension": ".py",
   "mimetype": "text/x-python",
   "name": "python",
   "nbconvert_exporter": "python",
   "pygments_lexer": "ipython3",
   "version": "3.7.2"
  }
 },
 "nbformat": 4,
 "nbformat_minor": 2
}
