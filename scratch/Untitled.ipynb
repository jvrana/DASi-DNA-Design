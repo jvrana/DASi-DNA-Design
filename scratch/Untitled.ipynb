{
 "cells": [
  {
   "cell_type": "code",
   "execution_count": 54,
   "metadata": {},
   "outputs": [],
   "source": [
    "import networkx as nx\n",
    "import seaborn as sns\n"
   ]
  },
  {
   "cell_type": "code",
   "execution_count": 71,
   "metadata": {},
   "outputs": [
    {
     "data": {
      "text/plain": [
       "array([[ 0.,  1., inf, ..., inf, inf, inf],\n",
       "       [inf,  0., inf, ..., inf, inf, inf],\n",
       "       [inf, inf,  0., ..., inf, inf, inf],\n",
       "       ...,\n",
       "       [inf, inf, inf, ...,  0., inf, inf],\n",
       "       [inf, inf, inf, ..., inf,  0., inf],\n",
       "       [inf, inf, inf, ..., inf, inf,  0.]])"
      ]
     },
     "execution_count": 71,
     "metadata": {},
     "output_type": "execute_result"
    },
    {
     "data": {
      "image/png": "[encoded data removed]",
      "text/plain": [
       "<Figure size 432x288 with 2 Axes>"
      ]
     },
     "metadata": {
      "needs_background": "light"
     },
     "output_type": "display_data"
    }
   ],
   "source": [
    "from os.path import join, abspath, dirname\n",
    "\n",
    "path = join('.', '..', 'tests/out/graph.gexf')\n",
    "G = nx.read_gexf(path)\n",
    "\n",
    "nodelist = list(G.nodes())\n",
    "matrix = np.array(nx.floyd_warshall_numpy(G, nodelist=nodelist, weight='weight'))\n",
    "sns.heatmap(matrix)\n",
    "matrix"
   ]
  },
  {
   "cell_type": "code",
   "execution_count": 56,
   "metadata": {},
   "outputs": [
    {
     "data": {
      "text/plain": [
       "0"
      ]
     },
     "execution_count": 56,
     "metadata": {},
     "output_type": "execute_result"
    }
   ],
   "source": [
    "import numpy as np\n",
    "\n",
    "cycles = []\n",
    "for i, _ in enumerate(matrix):\n",
    "    for j, _ in enumerate(matrix):\n",
    "        a = matrix[i,j]\n",
    "        b = matrix[j,i]\n",
    "        if i == j:\n",
    "            continue\n",
    "        if a != np.inf and b != np.inf:\n",
    "            anode = nodelist[i]\n",
    "            bnode = nodelist[j]\n",
    "            cycles.append((anode, bnode, a, b, a + b))\n",
    "cycles = sorted(cycles, key=lambda c: c[-1])\n",
    "len(cycles)"
   ]
  },
  {
   "cell_type": "code",
   "execution_count": 74,
   "metadata": {},
   "outputs": [
    {
     "data": {
      "text/plain": [
       "{0.0, 1.0, 10.0, inf}"
      ]
     },
     "execution_count": 74,
     "metadata": {},
     "output_type": "execute_result"
    }
   ],
   "source": [
    "set(np.array(matrix).flatten())"
   ]
  },
  {
   "cell_type": "code",
   "execution_count": null,
   "metadata": {},
   "outputs": [],
   "source": []
  },
  {
   "cell_type": "markdown",
   "metadata": {},
   "source": [
    "from more_itertools import pairwise\n",
    "\n",
    "for c in cycles[:10]:\n",
    "    path1 = nx.shortest_path(G, c[0], c[1])\n",
    "    path2 = nx.shortest_path(G, c[1], c[0])\n",
    "    path = path1 + path2[1:]\n",
    "    for n1, n2 in pairwise(path):\n",
    "        print(n1)\n",
    "        print(n2)\n",
    "        print(G[n1][n2])\n",
    "    print()"
   ]
  },
  {
   "cell_type": "code",
   "execution_count": null,
   "metadata": {},
   "outputs": [],
   "source": []
  },
  {
   "cell_type": "code",
   "execution_count": null,
   "metadata": {},
   "outputs": [],
   "source": []
  }
 ],
 "metadata": {
  "kernelspec": {
   "display_name": "Python 3",
   "language": "python",
   "name": "python3"
  },
  "language_info": {
   "codemirror_mode": {
    "name": "ipython",
    "version": 3
   },
   "file_extension": ".py",
   "mimetype": "text/x-python",
   "name": "python",
   "nbconvert_exporter": "python",
   "pygments_lexer": "ipython3",
   "version": "3.7.2"
  }
 },
 "nbformat": 4,
 "nbformat_minor": 2
}
