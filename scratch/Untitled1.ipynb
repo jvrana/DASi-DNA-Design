{
 "cells": [
  {
   "cell_type": "code",
   "execution_count": 15,
   "metadata": {},
   "outputs": [
    {
     "name": "stdout",
     "output_type": "stream",
     "text": [
      "TCTTGTGGAAAGGACGGAATAGCTCAGAGGCCGAGG\n",
      "GAATAGCTCAGAGGCCGAGGGTTTAAGAGCTATGCT\n"
     ]
    }
   ],
   "source": [
    "# design gapped primers\n",
    "\n",
    "s1 = \"TATTTCGATTTCTTGGCTTTATATATCTTGTGGAAAGGACG\"\n",
    "s2 = \"GTTTAAGAGCTATGCTGGAAACAGCATAGCAAGTTTAAATAAGGCTAGTCCGTTATCAACTTGAAAAAGTGGCACCGAGTCGGTGC\"\n",
    "q = \"GAATAGCTCAGAGGCCGAGG\"\n",
    "\n",
    "def design(s1, s2, q):\n",
    "    rev_anneal = Seq(s1[-16:]).reverse_complement()\n",
    "    rev_overhang = Seq(q).reverse_complement()\n",
    "    rev = rev_overhang + rev_anneal\n",
    "    \n",
    "    fwd_overhang = Seq(q)\n",
    "    fwd_anneal = Seq(s2[:16])\n",
    "    fwd = fwd_overhang + fwd_anneal\n",
    "    return fwd, rev\n",
    "    \n",
    "fwd, rev = design(s1, s2, q)\n",
    "print(rev.reverse_complement())\n",
    "print(fwd)"
   ]
  },
  {
   "cell_type": "code",
   "execution_count": 6,
   "metadata": {},
   "outputs": [],
   "source": [
    "from Bio.Seq import Seq\n",
    "from Bio.SeqRecord import SeqRecord"
   ]
  },
  {
   "cell_type": "code",
   "execution_count": 8,
   "metadata": {},
   "outputs": [
    {
     "data": {
      "text/plain": [
       "Seq('CGTCCTTTCCACAAGATATATAAAGCCAAGAAATCGAAATA')"
      ]
     },
     "execution_count": 8,
     "metadata": {},
     "output_type": "execute_result"
    }
   ],
   "source": [
    "Seq(s1).reverse_complement()"
   ]
  },
  {
   "cell_type": "code",
   "execution_count": null,
   "metadata": {},
   "outputs": [],
   "source": []
  }
 ],
 "metadata": {
  "kernelspec": {
   "display_name": "Python 3",
   "language": "python",
   "name": "python3"
  },
  "language_info": {
   "codemirror_mode": {
    "name": "ipython",
    "version": 3
   },
   "file_extension": ".py",
   "mimetype": "text/x-python",
   "name": "python",
   "nbconvert_exporter": "python",
   "pygments_lexer": "ipython3",
   "version": "3.7.3"
  }
 },
 "nbformat": 4,
 "nbformat_minor": 2
}
